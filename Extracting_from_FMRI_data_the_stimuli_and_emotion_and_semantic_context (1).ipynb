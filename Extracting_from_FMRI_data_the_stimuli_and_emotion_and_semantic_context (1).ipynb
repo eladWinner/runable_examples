{
  "nbformat": 4,
  "nbformat_minor": 0,
  "metadata": {
    "colab": {
      "provenance": [],
      "collapsed_sections": [
        "IlMVAGEpLaB7",
        "_prpj3H5UQjn",
        "tXCAwAmFmxfD",
        "16u9-DQ7ZbxR",
        "Qni6G_FdkzKg"
      ]
    },
    "kernelspec": {
      "name": "python3",
      "display_name": "Python 3"
    },
    "language_info": {
      "name": "python"
    },
    "widgets": {
      "application/vnd.jupyter.widget-state+json": {
        "4e20dd59a1bd4ff19fa53f807a828cfa": {
          "model_module": "@jupyter-widgets/controls",
          "model_name": "HBoxModel",
          "model_module_version": "1.5.0",
          "state": {
            "_dom_classes": [],
            "_model_module": "@jupyter-widgets/controls",
            "_model_module_version": "1.5.0",
            "_model_name": "HBoxModel",
            "_view_count": null,
            "_view_module": "@jupyter-widgets/controls",
            "_view_module_version": "1.5.0",
            "_view_name": "HBoxView",
            "box_style": "",
            "children": [
              "IPY_MODEL_0796f6d67cca484695c04143f1276928",
              "IPY_MODEL_40fa87f38af547879d4181291ae3b4b7",
              "IPY_MODEL_f5b03027d03e4f18bae7ddbf417021dd"
            ],
            "layout": "IPY_MODEL_b6bad8aebcb84dab810a6edf18281ef3"
          }
        },
        "0796f6d67cca484695c04143f1276928": {
          "model_module": "@jupyter-widgets/controls",
          "model_name": "HTMLModel",
          "model_module_version": "1.5.0",
          "state": {
            "_dom_classes": [],
            "_model_module": "@jupyter-widgets/controls",
            "_model_module_version": "1.5.0",
            "_model_name": "HTMLModel",
            "_view_count": null,
            "_view_module": "@jupyter-widgets/controls",
            "_view_module_version": "1.5.0",
            "_view_name": "HTMLView",
            "description": "",
            "description_tooltip": null,
            "layout": "IPY_MODEL_4b51dd6639d84f24891a38395b83cd69",
            "placeholder": "​",
            "style": "IPY_MODEL_c64878d1ac8b42d1885d50c45067beb0",
            "value": "Downloading (…)lve/main/config.json: 100%"
          }
        },
        "40fa87f38af547879d4181291ae3b4b7": {
          "model_module": "@jupyter-widgets/controls",
          "model_name": "FloatProgressModel",
          "model_module_version": "1.5.0",
          "state": {
            "_dom_classes": [],
            "_model_module": "@jupyter-widgets/controls",
            "_model_module_version": "1.5.0",
            "_model_name": "FloatProgressModel",
            "_view_count": null,
            "_view_module": "@jupyter-widgets/controls",
            "_view_module_version": "1.5.0",
            "_view_name": "ProgressView",
            "bar_style": "success",
            "description": "",
            "description_tooltip": null,
            "layout": "IPY_MODEL_e87b9c06fc6243a99597247226ef1c30",
            "max": 747,
            "min": 0,
            "orientation": "horizontal",
            "style": "IPY_MODEL_ce7cde4add1045d2a74651b8918f50e3",
            "value": 747
          }
        },
        "f5b03027d03e4f18bae7ddbf417021dd": {
          "model_module": "@jupyter-widgets/controls",
          "model_name": "HTMLModel",
          "model_module_version": "1.5.0",
          "state": {
            "_dom_classes": [],
            "_model_module": "@jupyter-widgets/controls",
            "_model_module_version": "1.5.0",
            "_model_name": "HTMLModel",
            "_view_count": null,
            "_view_module": "@jupyter-widgets/controls",
            "_view_module_version": "1.5.0",
            "_view_name": "HTMLView",
            "description": "",
            "description_tooltip": null,
            "layout": "IPY_MODEL_933be03ddd6d4734a16369f352e930a5",
            "placeholder": "​",
            "style": "IPY_MODEL_bbb88bb7480449cabce1da40ee3cba49",
            "value": " 747/747 [00:00&lt;00:00, 32.7kB/s]"
          }
        },
        "b6bad8aebcb84dab810a6edf18281ef3": {
          "model_module": "@jupyter-widgets/base",
          "model_name": "LayoutModel",
          "model_module_version": "1.2.0",
          "state": {
            "_model_module": "@jupyter-widgets/base",
            "_model_module_version": "1.2.0",
            "_model_name": "LayoutModel",
            "_view_count": null,
            "_view_module": "@jupyter-widgets/base",
            "_view_module_version": "1.2.0",
            "_view_name": "LayoutView",
            "align_content": null,
            "align_items": null,
            "align_self": null,
            "border": null,
            "bottom": null,
            "display": null,
            "flex": null,
            "flex_flow": null,
            "grid_area": null,
            "grid_auto_columns": null,
            "grid_auto_flow": null,
            "grid_auto_rows": null,
            "grid_column": null,
            "grid_gap": null,
            "grid_row": null,
            "grid_template_areas": null,
            "grid_template_columns": null,
            "grid_template_rows": null,
            "height": null,
            "justify_content": null,
            "justify_items": null,
            "left": null,
            "margin": null,
            "max_height": null,
            "max_width": null,
            "min_height": null,
            "min_width": null,
            "object_fit": null,
            "object_position": null,
            "order": null,
            "overflow": null,
            "overflow_x": null,
            "overflow_y": null,
            "padding": null,
            "right": null,
            "top": null,
            "visibility": null,
            "width": null
          }
        },
        "4b51dd6639d84f24891a38395b83cd69": {
          "model_module": "@jupyter-widgets/base",
          "model_name": "LayoutModel",
          "model_module_version": "1.2.0",
          "state": {
            "_model_module": "@jupyter-widgets/base",
            "_model_module_version": "1.2.0",
            "_model_name": "LayoutModel",
            "_view_count": null,
            "_view_module": "@jupyter-widgets/base",
            "_view_module_version": "1.2.0",
            "_view_name": "LayoutView",
            "align_content": null,
            "align_items": null,
            "align_self": null,
            "border": null,
            "bottom": null,
            "display": null,
            "flex": null,
            "flex_flow": null,
            "grid_area": null,
            "grid_auto_columns": null,
            "grid_auto_flow": null,
            "grid_auto_rows": null,
            "grid_column": null,
            "grid_gap": null,
            "grid_row": null,
            "grid_template_areas": null,
            "grid_template_columns": null,
            "grid_template_rows": null,
            "height": null,
            "justify_content": null,
            "justify_items": null,
            "left": null,
            "margin": null,
            "max_height": null,
            "max_width": null,
            "min_height": null,
            "min_width": null,
            "object_fit": null,
            "object_position": null,
            "order": null,
            "overflow": null,
            "overflow_x": null,
            "overflow_y": null,
            "padding": null,
            "right": null,
            "top": null,
            "visibility": null,
            "width": null
          }
        },
        "c64878d1ac8b42d1885d50c45067beb0": {
          "model_module": "@jupyter-widgets/controls",
          "model_name": "DescriptionStyleModel",
          "model_module_version": "1.5.0",
          "state": {
            "_model_module": "@jupyter-widgets/controls",
            "_model_module_version": "1.5.0",
            "_model_name": "DescriptionStyleModel",
            "_view_count": null,
            "_view_module": "@jupyter-widgets/base",
            "_view_module_version": "1.2.0",
            "_view_name": "StyleView",
            "description_width": ""
          }
        },
        "e87b9c06fc6243a99597247226ef1c30": {
          "model_module": "@jupyter-widgets/base",
          "model_name": "LayoutModel",
          "model_module_version": "1.2.0",
          "state": {
            "_model_module": "@jupyter-widgets/base",
            "_model_module_version": "1.2.0",
            "_model_name": "LayoutModel",
            "_view_count": null,
            "_view_module": "@jupyter-widgets/base",
            "_view_module_version": "1.2.0",
            "_view_name": "LayoutView",
            "align_content": null,
            "align_items": null,
            "align_self": null,
            "border": null,
            "bottom": null,
            "display": null,
            "flex": null,
            "flex_flow": null,
            "grid_area": null,
            "grid_auto_columns": null,
            "grid_auto_flow": null,
            "grid_auto_rows": null,
            "grid_column": null,
            "grid_gap": null,
            "grid_row": null,
            "grid_template_areas": null,
            "grid_template_columns": null,
            "grid_template_rows": null,
            "height": null,
            "justify_content": null,
            "justify_items": null,
            "left": null,
            "margin": null,
            "max_height": null,
            "max_width": null,
            "min_height": null,
            "min_width": null,
            "object_fit": null,
            "object_position": null,
            "order": null,
            "overflow": null,
            "overflow_x": null,
            "overflow_y": null,
            "padding": null,
            "right": null,
            "top": null,
            "visibility": null,
            "width": null
          }
        },
        "ce7cde4add1045d2a74651b8918f50e3": {
          "model_module": "@jupyter-widgets/controls",
          "model_name": "ProgressStyleModel",
          "model_module_version": "1.5.0",
          "state": {
            "_model_module": "@jupyter-widgets/controls",
            "_model_module_version": "1.5.0",
            "_model_name": "ProgressStyleModel",
            "_view_count": null,
            "_view_module": "@jupyter-widgets/base",
            "_view_module_version": "1.2.0",
            "_view_name": "StyleView",
            "bar_color": null,
            "description_width": ""
          }
        },
        "933be03ddd6d4734a16369f352e930a5": {
          "model_module": "@jupyter-widgets/base",
          "model_name": "LayoutModel",
          "model_module_version": "1.2.0",
          "state": {
            "_model_module": "@jupyter-widgets/base",
            "_model_module_version": "1.2.0",
            "_model_name": "LayoutModel",
            "_view_count": null,
            "_view_module": "@jupyter-widgets/base",
            "_view_module_version": "1.2.0",
            "_view_name": "LayoutView",
            "align_content": null,
            "align_items": null,
            "align_self": null,
            "border": null,
            "bottom": null,
            "display": null,
            "flex": null,
            "flex_flow": null,
            "grid_area": null,
            "grid_auto_columns": null,
            "grid_auto_flow": null,
            "grid_auto_rows": null,
            "grid_column": null,
            "grid_gap": null,
            "grid_row": null,
            "grid_template_areas": null,
            "grid_template_columns": null,
            "grid_template_rows": null,
            "height": null,
            "justify_content": null,
            "justify_items": null,
            "left": null,
            "margin": null,
            "max_height": null,
            "max_width": null,
            "min_height": null,
            "min_width": null,
            "object_fit": null,
            "object_position": null,
            "order": null,
            "overflow": null,
            "overflow_x": null,
            "overflow_y": null,
            "padding": null,
            "right": null,
            "top": null,
            "visibility": null,
            "width": null
          }
        },
        "bbb88bb7480449cabce1da40ee3cba49": {
          "model_module": "@jupyter-widgets/controls",
          "model_name": "DescriptionStyleModel",
          "model_module_version": "1.5.0",
          "state": {
            "_model_module": "@jupyter-widgets/controls",
            "_model_module_version": "1.5.0",
            "_model_name": "DescriptionStyleModel",
            "_view_count": null,
            "_view_module": "@jupyter-widgets/base",
            "_view_module_version": "1.2.0",
            "_view_name": "StyleView",
            "description_width": ""
          }
        },
        "d3e0e662d07243c8a8521892a4f1081d": {
          "model_module": "@jupyter-widgets/controls",
          "model_name": "HBoxModel",
          "model_module_version": "1.5.0",
          "state": {
            "_dom_classes": [],
            "_model_module": "@jupyter-widgets/controls",
            "_model_module_version": "1.5.0",
            "_model_name": "HBoxModel",
            "_view_count": null,
            "_view_module": "@jupyter-widgets/controls",
            "_view_module_version": "1.5.0",
            "_view_name": "HBoxView",
            "box_style": "",
            "children": [
              "IPY_MODEL_42e218fc46d349c887ece9f07feb45ff",
              "IPY_MODEL_6c16f52e3046476298dc778c69849984",
              "IPY_MODEL_c9d8a5837db04262af57d8da0fde84ca"
            ],
            "layout": "IPY_MODEL_6df2d7c3cab94fdca97edc9925f8beca"
          }
        },
        "42e218fc46d349c887ece9f07feb45ff": {
          "model_module": "@jupyter-widgets/controls",
          "model_name": "HTMLModel",
          "model_module_version": "1.5.0",
          "state": {
            "_dom_classes": [],
            "_model_module": "@jupyter-widgets/controls",
            "_model_module_version": "1.5.0",
            "_model_name": "HTMLModel",
            "_view_count": null,
            "_view_module": "@jupyter-widgets/controls",
            "_view_module_version": "1.5.0",
            "_view_name": "HTMLView",
            "description": "",
            "description_tooltip": null,
            "layout": "IPY_MODEL_628ac43137f44699bffe987e83280f78",
            "placeholder": "​",
            "style": "IPY_MODEL_55dbf4fd32654f0b96b6acf9962e2e84",
            "value": "Downloading (…)olve/main/vocab.json: 100%"
          }
        },
        "6c16f52e3046476298dc778c69849984": {
          "model_module": "@jupyter-widgets/controls",
          "model_name": "FloatProgressModel",
          "model_module_version": "1.5.0",
          "state": {
            "_dom_classes": [],
            "_model_module": "@jupyter-widgets/controls",
            "_model_module_version": "1.5.0",
            "_model_name": "FloatProgressModel",
            "_view_count": null,
            "_view_module": "@jupyter-widgets/controls",
            "_view_module_version": "1.5.0",
            "_view_name": "ProgressView",
            "bar_style": "success",
            "description": "",
            "description_tooltip": null,
            "layout": "IPY_MODEL_6023704c865644ee9833aefd81fbd653",
            "max": 898822,
            "min": 0,
            "orientation": "horizontal",
            "style": "IPY_MODEL_a45c057910034a1e93280334ecb7bbce",
            "value": 898822
          }
        },
        "c9d8a5837db04262af57d8da0fde84ca": {
          "model_module": "@jupyter-widgets/controls",
          "model_name": "HTMLModel",
          "model_module_version": "1.5.0",
          "state": {
            "_dom_classes": [],
            "_model_module": "@jupyter-widgets/controls",
            "_model_module_version": "1.5.0",
            "_model_name": "HTMLModel",
            "_view_count": null,
            "_view_module": "@jupyter-widgets/controls",
            "_view_module_version": "1.5.0",
            "_view_name": "HTMLView",
            "description": "",
            "description_tooltip": null,
            "layout": "IPY_MODEL_046deeb30f9d4e449e2c19da77da1468",
            "placeholder": "​",
            "style": "IPY_MODEL_9ea4253505d14182ab941dc833bed16f",
            "value": " 899k/899k [00:00&lt;00:00, 5.54MB/s]"
          }
        },
        "6df2d7c3cab94fdca97edc9925f8beca": {
          "model_module": "@jupyter-widgets/base",
          "model_name": "LayoutModel",
          "model_module_version": "1.2.0",
          "state": {
            "_model_module": "@jupyter-widgets/base",
            "_model_module_version": "1.2.0",
            "_model_name": "LayoutModel",
            "_view_count": null,
            "_view_module": "@jupyter-widgets/base",
            "_view_module_version": "1.2.0",
            "_view_name": "LayoutView",
            "align_content": null,
            "align_items": null,
            "align_self": null,
            "border": null,
            "bottom": null,
            "display": null,
            "flex": null,
            "flex_flow": null,
            "grid_area": null,
            "grid_auto_columns": null,
            "grid_auto_flow": null,
            "grid_auto_rows": null,
            "grid_column": null,
            "grid_gap": null,
            "grid_row": null,
            "grid_template_areas": null,
            "grid_template_columns": null,
            "grid_template_rows": null,
            "height": null,
            "justify_content": null,
            "justify_items": null,
            "left": null,
            "margin": null,
            "max_height": null,
            "max_width": null,
            "min_height": null,
            "min_width": null,
            "object_fit": null,
            "object_position": null,
            "order": null,
            "overflow": null,
            "overflow_x": null,
            "overflow_y": null,
            "padding": null,
            "right": null,
            "top": null,
            "visibility": null,
            "width": null
          }
        },
        "628ac43137f44699bffe987e83280f78": {
          "model_module": "@jupyter-widgets/base",
          "model_name": "LayoutModel",
          "model_module_version": "1.2.0",
          "state": {
            "_model_module": "@jupyter-widgets/base",
            "_model_module_version": "1.2.0",
            "_model_name": "LayoutModel",
            "_view_count": null,
            "_view_module": "@jupyter-widgets/base",
            "_view_module_version": "1.2.0",
            "_view_name": "LayoutView",
            "align_content": null,
            "align_items": null,
            "align_self": null,
            "border": null,
            "bottom": null,
            "display": null,
            "flex": null,
            "flex_flow": null,
            "grid_area": null,
            "grid_auto_columns": null,
            "grid_auto_flow": null,
            "grid_auto_rows": null,
            "grid_column": null,
            "grid_gap": null,
            "grid_row": null,
            "grid_template_areas": null,
            "grid_template_columns": null,
            "grid_template_rows": null,
            "height": null,
            "justify_content": null,
            "justify_items": null,
            "left": null,
            "margin": null,
            "max_height": null,
            "max_width": null,
            "min_height": null,
            "min_width": null,
            "object_fit": null,
            "object_position": null,
            "order": null,
            "overflow": null,
            "overflow_x": null,
            "overflow_y": null,
            "padding": null,
            "right": null,
            "top": null,
            "visibility": null,
            "width": null
          }
        },
        "55dbf4fd32654f0b96b6acf9962e2e84": {
          "model_module": "@jupyter-widgets/controls",
          "model_name": "DescriptionStyleModel",
          "model_module_version": "1.5.0",
          "state": {
            "_model_module": "@jupyter-widgets/controls",
            "_model_module_version": "1.5.0",
            "_model_name": "DescriptionStyleModel",
            "_view_count": null,
            "_view_module": "@jupyter-widgets/base",
            "_view_module_version": "1.2.0",
            "_view_name": "StyleView",
            "description_width": ""
          }
        },
        "6023704c865644ee9833aefd81fbd653": {
          "model_module": "@jupyter-widgets/base",
          "model_name": "LayoutModel",
          "model_module_version": "1.2.0",
          "state": {
            "_model_module": "@jupyter-widgets/base",
            "_model_module_version": "1.2.0",
            "_model_name": "LayoutModel",
            "_view_count": null,
            "_view_module": "@jupyter-widgets/base",
            "_view_module_version": "1.2.0",
            "_view_name": "LayoutView",
            "align_content": null,
            "align_items": null,
            "align_self": null,
            "border": null,
            "bottom": null,
            "display": null,
            "flex": null,
            "flex_flow": null,
            "grid_area": null,
            "grid_auto_columns": null,
            "grid_auto_flow": null,
            "grid_auto_rows": null,
            "grid_column": null,
            "grid_gap": null,
            "grid_row": null,
            "grid_template_areas": null,
            "grid_template_columns": null,
            "grid_template_rows": null,
            "height": null,
            "justify_content": null,
            "justify_items": null,
            "left": null,
            "margin": null,
            "max_height": null,
            "max_width": null,
            "min_height": null,
            "min_width": null,
            "object_fit": null,
            "object_position": null,
            "order": null,
            "overflow": null,
            "overflow_x": null,
            "overflow_y": null,
            "padding": null,
            "right": null,
            "top": null,
            "visibility": null,
            "width": null
          }
        },
        "a45c057910034a1e93280334ecb7bbce": {
          "model_module": "@jupyter-widgets/controls",
          "model_name": "ProgressStyleModel",
          "model_module_version": "1.5.0",
          "state": {
            "_model_module": "@jupyter-widgets/controls",
            "_model_module_version": "1.5.0",
            "_model_name": "ProgressStyleModel",
            "_view_count": null,
            "_view_module": "@jupyter-widgets/base",
            "_view_module_version": "1.2.0",
            "_view_name": "StyleView",
            "bar_color": null,
            "description_width": ""
          }
        },
        "046deeb30f9d4e449e2c19da77da1468": {
          "model_module": "@jupyter-widgets/base",
          "model_name": "LayoutModel",
          "model_module_version": "1.2.0",
          "state": {
            "_model_module": "@jupyter-widgets/base",
            "_model_module_version": "1.2.0",
            "_model_name": "LayoutModel",
            "_view_count": null,
            "_view_module": "@jupyter-widgets/base",
            "_view_module_version": "1.2.0",
            "_view_name": "LayoutView",
            "align_content": null,
            "align_items": null,
            "align_self": null,
            "border": null,
            "bottom": null,
            "display": null,
            "flex": null,
            "flex_flow": null,
            "grid_area": null,
            "grid_auto_columns": null,
            "grid_auto_flow": null,
            "grid_auto_rows": null,
            "grid_column": null,
            "grid_gap": null,
            "grid_row": null,
            "grid_template_areas": null,
            "grid_template_columns": null,
            "grid_template_rows": null,
            "height": null,
            "justify_content": null,
            "justify_items": null,
            "left": null,
            "margin": null,
            "max_height": null,
            "max_width": null,
            "min_height": null,
            "min_width": null,
            "object_fit": null,
            "object_position": null,
            "order": null,
            "overflow": null,
            "overflow_x": null,
            "overflow_y": null,
            "padding": null,
            "right": null,
            "top": null,
            "visibility": null,
            "width": null
          }
        },
        "9ea4253505d14182ab941dc833bed16f": {
          "model_module": "@jupyter-widgets/controls",
          "model_name": "DescriptionStyleModel",
          "model_module_version": "1.5.0",
          "state": {
            "_model_module": "@jupyter-widgets/controls",
            "_model_module_version": "1.5.0",
            "_model_name": "DescriptionStyleModel",
            "_view_count": null,
            "_view_module": "@jupyter-widgets/base",
            "_view_module_version": "1.2.0",
            "_view_name": "StyleView",
            "description_width": ""
          }
        },
        "9359b71e05a74e5ebccf70c7ba2691c3": {
          "model_module": "@jupyter-widgets/controls",
          "model_name": "HBoxModel",
          "model_module_version": "1.5.0",
          "state": {
            "_dom_classes": [],
            "_model_module": "@jupyter-widgets/controls",
            "_model_module_version": "1.5.0",
            "_model_name": "HBoxModel",
            "_view_count": null,
            "_view_module": "@jupyter-widgets/controls",
            "_view_module_version": "1.5.0",
            "_view_name": "HBoxView",
            "box_style": "",
            "children": [
              "IPY_MODEL_f41d0d3b6f4b48358aba0863f9c47144",
              "IPY_MODEL_746c2d02a2bd4e6a99101dd8469cd38f",
              "IPY_MODEL_7038a725f6344c7eafd41482d426e689"
            ],
            "layout": "IPY_MODEL_bfdc0772fce4492987eb99ec17da1479"
          }
        },
        "f41d0d3b6f4b48358aba0863f9c47144": {
          "model_module": "@jupyter-widgets/controls",
          "model_name": "HTMLModel",
          "model_module_version": "1.5.0",
          "state": {
            "_dom_classes": [],
            "_model_module": "@jupyter-widgets/controls",
            "_model_module_version": "1.5.0",
            "_model_name": "HTMLModel",
            "_view_count": null,
            "_view_module": "@jupyter-widgets/controls",
            "_view_module_version": "1.5.0",
            "_view_name": "HTMLView",
            "description": "",
            "description_tooltip": null,
            "layout": "IPY_MODEL_59294ff890b8442a9b93f647f3d19002",
            "placeholder": "​",
            "style": "IPY_MODEL_257c92f37cc2451fbf9b9903afb18559",
            "value": "Downloading (…)olve/main/merges.txt: 100%"
          }
        },
        "746c2d02a2bd4e6a99101dd8469cd38f": {
          "model_module": "@jupyter-widgets/controls",
          "model_name": "FloatProgressModel",
          "model_module_version": "1.5.0",
          "state": {
            "_dom_classes": [],
            "_model_module": "@jupyter-widgets/controls",
            "_model_module_version": "1.5.0",
            "_model_name": "FloatProgressModel",
            "_view_count": null,
            "_view_module": "@jupyter-widgets/controls",
            "_view_module_version": "1.5.0",
            "_view_name": "ProgressView",
            "bar_style": "success",
            "description": "",
            "description_tooltip": null,
            "layout": "IPY_MODEL_6040a5a3d2e949e2b91e8892b58bc405",
            "max": 456318,
            "min": 0,
            "orientation": "horizontal",
            "style": "IPY_MODEL_b9aeb18115de40009e97febe3e73ed66",
            "value": 456318
          }
        },
        "7038a725f6344c7eafd41482d426e689": {
          "model_module": "@jupyter-widgets/controls",
          "model_name": "HTMLModel",
          "model_module_version": "1.5.0",
          "state": {
            "_dom_classes": [],
            "_model_module": "@jupyter-widgets/controls",
            "_model_module_version": "1.5.0",
            "_model_name": "HTMLModel",
            "_view_count": null,
            "_view_module": "@jupyter-widgets/controls",
            "_view_module_version": "1.5.0",
            "_view_name": "HTMLView",
            "description": "",
            "description_tooltip": null,
            "layout": "IPY_MODEL_2b9ddebe9a554034ae0ffbe92d9e4553",
            "placeholder": "​",
            "style": "IPY_MODEL_4c402b48dfec4f75a039ef5cd46778aa",
            "value": " 456k/456k [00:00&lt;00:00, 2.93MB/s]"
          }
        },
        "bfdc0772fce4492987eb99ec17da1479": {
          "model_module": "@jupyter-widgets/base",
          "model_name": "LayoutModel",
          "model_module_version": "1.2.0",
          "state": {
            "_model_module": "@jupyter-widgets/base",
            "_model_module_version": "1.2.0",
            "_model_name": "LayoutModel",
            "_view_count": null,
            "_view_module": "@jupyter-widgets/base",
            "_view_module_version": "1.2.0",
            "_view_name": "LayoutView",
            "align_content": null,
            "align_items": null,
            "align_self": null,
            "border": null,
            "bottom": null,
            "display": null,
            "flex": null,
            "flex_flow": null,
            "grid_area": null,
            "grid_auto_columns": null,
            "grid_auto_flow": null,
            "grid_auto_rows": null,
            "grid_column": null,
            "grid_gap": null,
            "grid_row": null,
            "grid_template_areas": null,
            "grid_template_columns": null,
            "grid_template_rows": null,
            "height": null,
            "justify_content": null,
            "justify_items": null,
            "left": null,
            "margin": null,
            "max_height": null,
            "max_width": null,
            "min_height": null,
            "min_width": null,
            "object_fit": null,
            "object_position": null,
            "order": null,
            "overflow": null,
            "overflow_x": null,
            "overflow_y": null,
            "padding": null,
            "right": null,
            "top": null,
            "visibility": null,
            "width": null
          }
        },
        "59294ff890b8442a9b93f647f3d19002": {
          "model_module": "@jupyter-widgets/base",
          "model_name": "LayoutModel",
          "model_module_version": "1.2.0",
          "state": {
            "_model_module": "@jupyter-widgets/base",
            "_model_module_version": "1.2.0",
            "_model_name": "LayoutModel",
            "_view_count": null,
            "_view_module": "@jupyter-widgets/base",
            "_view_module_version": "1.2.0",
            "_view_name": "LayoutView",
            "align_content": null,
            "align_items": null,
            "align_self": null,
            "border": null,
            "bottom": null,
            "display": null,
            "flex": null,
            "flex_flow": null,
            "grid_area": null,
            "grid_auto_columns": null,
            "grid_auto_flow": null,
            "grid_auto_rows": null,
            "grid_column": null,
            "grid_gap": null,
            "grid_row": null,
            "grid_template_areas": null,
            "grid_template_columns": null,
            "grid_template_rows": null,
            "height": null,
            "justify_content": null,
            "justify_items": null,
            "left": null,
            "margin": null,
            "max_height": null,
            "max_width": null,
            "min_height": null,
            "min_width": null,
            "object_fit": null,
            "object_position": null,
            "order": null,
            "overflow": null,
            "overflow_x": null,
            "overflow_y": null,
            "padding": null,
            "right": null,
            "top": null,
            "visibility": null,
            "width": null
          }
        },
        "257c92f37cc2451fbf9b9903afb18559": {
          "model_module": "@jupyter-widgets/controls",
          "model_name": "DescriptionStyleModel",
          "model_module_version": "1.5.0",
          "state": {
            "_model_module": "@jupyter-widgets/controls",
            "_model_module_version": "1.5.0",
            "_model_name": "DescriptionStyleModel",
            "_view_count": null,
            "_view_module": "@jupyter-widgets/base",
            "_view_module_version": "1.2.0",
            "_view_name": "StyleView",
            "description_width": ""
          }
        },
        "6040a5a3d2e949e2b91e8892b58bc405": {
          "model_module": "@jupyter-widgets/base",
          "model_name": "LayoutModel",
          "model_module_version": "1.2.0",
          "state": {
            "_model_module": "@jupyter-widgets/base",
            "_model_module_version": "1.2.0",
            "_model_name": "LayoutModel",
            "_view_count": null,
            "_view_module": "@jupyter-widgets/base",
            "_view_module_version": "1.2.0",
            "_view_name": "LayoutView",
            "align_content": null,
            "align_items": null,
            "align_self": null,
            "border": null,
            "bottom": null,
            "display": null,
            "flex": null,
            "flex_flow": null,
            "grid_area": null,
            "grid_auto_columns": null,
            "grid_auto_flow": null,
            "grid_auto_rows": null,
            "grid_column": null,
            "grid_gap": null,
            "grid_row": null,
            "grid_template_areas": null,
            "grid_template_columns": null,
            "grid_template_rows": null,
            "height": null,
            "justify_content": null,
            "justify_items": null,
            "left": null,
            "margin": null,
            "max_height": null,
            "max_width": null,
            "min_height": null,
            "min_width": null,
            "object_fit": null,
            "object_position": null,
            "order": null,
            "overflow": null,
            "overflow_x": null,
            "overflow_y": null,
            "padding": null,
            "right": null,
            "top": null,
            "visibility": null,
            "width": null
          }
        },
        "b9aeb18115de40009e97febe3e73ed66": {
          "model_module": "@jupyter-widgets/controls",
          "model_name": "ProgressStyleModel",
          "model_module_version": "1.5.0",
          "state": {
            "_model_module": "@jupyter-widgets/controls",
            "_model_module_version": "1.5.0",
            "_model_name": "ProgressStyleModel",
            "_view_count": null,
            "_view_module": "@jupyter-widgets/base",
            "_view_module_version": "1.2.0",
            "_view_name": "StyleView",
            "bar_color": null,
            "description_width": ""
          }
        },
        "2b9ddebe9a554034ae0ffbe92d9e4553": {
          "model_module": "@jupyter-widgets/base",
          "model_name": "LayoutModel",
          "model_module_version": "1.2.0",
          "state": {
            "_model_module": "@jupyter-widgets/base",
            "_model_module_version": "1.2.0",
            "_model_name": "LayoutModel",
            "_view_count": null,
            "_view_module": "@jupyter-widgets/base",
            "_view_module_version": "1.2.0",
            "_view_name": "LayoutView",
            "align_content": null,
            "align_items": null,
            "align_self": null,
            "border": null,
            "bottom": null,
            "display": null,
            "flex": null,
            "flex_flow": null,
            "grid_area": null,
            "grid_auto_columns": null,
            "grid_auto_flow": null,
            "grid_auto_rows": null,
            "grid_column": null,
            "grid_gap": null,
            "grid_row": null,
            "grid_template_areas": null,
            "grid_template_columns": null,
            "grid_template_rows": null,
            "height": null,
            "justify_content": null,
            "justify_items": null,
            "left": null,
            "margin": null,
            "max_height": null,
            "max_width": null,
            "min_height": null,
            "min_width": null,
            "object_fit": null,
            "object_position": null,
            "order": null,
            "overflow": null,
            "overflow_x": null,
            "overflow_y": null,
            "padding": null,
            "right": null,
            "top": null,
            "visibility": null,
            "width": null
          }
        },
        "4c402b48dfec4f75a039ef5cd46778aa": {
          "model_module": "@jupyter-widgets/controls",
          "model_name": "DescriptionStyleModel",
          "model_module_version": "1.5.0",
          "state": {
            "_model_module": "@jupyter-widgets/controls",
            "_model_module_version": "1.5.0",
            "_model_name": "DescriptionStyleModel",
            "_view_count": null,
            "_view_module": "@jupyter-widgets/base",
            "_view_module_version": "1.2.0",
            "_view_name": "StyleView",
            "description_width": ""
          }
        },
        "74034a3b6e9942e4b24c0dcb92d93e44": {
          "model_module": "@jupyter-widgets/controls",
          "model_name": "HBoxModel",
          "model_module_version": "1.5.0",
          "state": {
            "_dom_classes": [],
            "_model_module": "@jupyter-widgets/controls",
            "_model_module_version": "1.5.0",
            "_model_name": "HBoxModel",
            "_view_count": null,
            "_view_module": "@jupyter-widgets/controls",
            "_view_module_version": "1.5.0",
            "_view_name": "HBoxView",
            "box_style": "",
            "children": [
              "IPY_MODEL_5f534ea6769040278e582daf51d1f703",
              "IPY_MODEL_e744fb3acfab4333985d537d268c56db",
              "IPY_MODEL_b070f0c07de94ae08bac67b6949655ce"
            ],
            "layout": "IPY_MODEL_5d54f3763eec4734904ed879b8552965"
          }
        },
        "5f534ea6769040278e582daf51d1f703": {
          "model_module": "@jupyter-widgets/controls",
          "model_name": "HTMLModel",
          "model_module_version": "1.5.0",
          "state": {
            "_dom_classes": [],
            "_model_module": "@jupyter-widgets/controls",
            "_model_module_version": "1.5.0",
            "_model_name": "HTMLModel",
            "_view_count": null,
            "_view_module": "@jupyter-widgets/controls",
            "_view_module_version": "1.5.0",
            "_view_name": "HTMLView",
            "description": "",
            "description_tooltip": null,
            "layout": "IPY_MODEL_06bc170ee2c44f4897a0be65093f4ac2",
            "placeholder": "​",
            "style": "IPY_MODEL_b3e2bc38c7c94a0487aa44cf69a7ed03",
            "value": "Downloading (…)cial_tokens_map.json: 100%"
          }
        },
        "e744fb3acfab4333985d537d268c56db": {
          "model_module": "@jupyter-widgets/controls",
          "model_name": "FloatProgressModel",
          "model_module_version": "1.5.0",
          "state": {
            "_dom_classes": [],
            "_model_module": "@jupyter-widgets/controls",
            "_model_module_version": "1.5.0",
            "_model_name": "FloatProgressModel",
            "_view_count": null,
            "_view_module": "@jupyter-widgets/controls",
            "_view_module_version": "1.5.0",
            "_view_name": "ProgressView",
            "bar_style": "success",
            "description": "",
            "description_tooltip": null,
            "layout": "IPY_MODEL_d274a424b46b4ad59c9cb9e6778f7cfa",
            "max": 150,
            "min": 0,
            "orientation": "horizontal",
            "style": "IPY_MODEL_21ea6ac6c4f8430f8e92186020a297ed",
            "value": 150
          }
        },
        "b070f0c07de94ae08bac67b6949655ce": {
          "model_module": "@jupyter-widgets/controls",
          "model_name": "HTMLModel",
          "model_module_version": "1.5.0",
          "state": {
            "_dom_classes": [],
            "_model_module": "@jupyter-widgets/controls",
            "_model_module_version": "1.5.0",
            "_model_name": "HTMLModel",
            "_view_count": null,
            "_view_module": "@jupyter-widgets/controls",
            "_view_module_version": "1.5.0",
            "_view_name": "HTMLView",
            "description": "",
            "description_tooltip": null,
            "layout": "IPY_MODEL_16829b1decf94348bbfdd370b568c62d",
            "placeholder": "​",
            "style": "IPY_MODEL_3318b0859df4415ea17e65a7d5ad6c57",
            "value": " 150/150 [00:00&lt;00:00, 4.38kB/s]"
          }
        },
        "5d54f3763eec4734904ed879b8552965": {
          "model_module": "@jupyter-widgets/base",
          "model_name": "LayoutModel",
          "model_module_version": "1.2.0",
          "state": {
            "_model_module": "@jupyter-widgets/base",
            "_model_module_version": "1.2.0",
            "_model_name": "LayoutModel",
            "_view_count": null,
            "_view_module": "@jupyter-widgets/base",
            "_view_module_version": "1.2.0",
            "_view_name": "LayoutView",
            "align_content": null,
            "align_items": null,
            "align_self": null,
            "border": null,
            "bottom": null,
            "display": null,
            "flex": null,
            "flex_flow": null,
            "grid_area": null,
            "grid_auto_columns": null,
            "grid_auto_flow": null,
            "grid_auto_rows": null,
            "grid_column": null,
            "grid_gap": null,
            "grid_row": null,
            "grid_template_areas": null,
            "grid_template_columns": null,
            "grid_template_rows": null,
            "height": null,
            "justify_content": null,
            "justify_items": null,
            "left": null,
            "margin": null,
            "max_height": null,
            "max_width": null,
            "min_height": null,
            "min_width": null,
            "object_fit": null,
            "object_position": null,
            "order": null,
            "overflow": null,
            "overflow_x": null,
            "overflow_y": null,
            "padding": null,
            "right": null,
            "top": null,
            "visibility": null,
            "width": null
          }
        },
        "06bc170ee2c44f4897a0be65093f4ac2": {
          "model_module": "@jupyter-widgets/base",
          "model_name": "LayoutModel",
          "model_module_version": "1.2.0",
          "state": {
            "_model_module": "@jupyter-widgets/base",
            "_model_module_version": "1.2.0",
            "_model_name": "LayoutModel",
            "_view_count": null,
            "_view_module": "@jupyter-widgets/base",
            "_view_module_version": "1.2.0",
            "_view_name": "LayoutView",
            "align_content": null,
            "align_items": null,
            "align_self": null,
            "border": null,
            "bottom": null,
            "display": null,
            "flex": null,
            "flex_flow": null,
            "grid_area": null,
            "grid_auto_columns": null,
            "grid_auto_flow": null,
            "grid_auto_rows": null,
            "grid_column": null,
            "grid_gap": null,
            "grid_row": null,
            "grid_template_areas": null,
            "grid_template_columns": null,
            "grid_template_rows": null,
            "height": null,
            "justify_content": null,
            "justify_items": null,
            "left": null,
            "margin": null,
            "max_height": null,
            "max_width": null,
            "min_height": null,
            "min_width": null,
            "object_fit": null,
            "object_position": null,
            "order": null,
            "overflow": null,
            "overflow_x": null,
            "overflow_y": null,
            "padding": null,
            "right": null,
            "top": null,
            "visibility": null,
            "width": null
          }
        },
        "b3e2bc38c7c94a0487aa44cf69a7ed03": {
          "model_module": "@jupyter-widgets/controls",
          "model_name": "DescriptionStyleModel",
          "model_module_version": "1.5.0",
          "state": {
            "_model_module": "@jupyter-widgets/controls",
            "_model_module_version": "1.5.0",
            "_model_name": "DescriptionStyleModel",
            "_view_count": null,
            "_view_module": "@jupyter-widgets/base",
            "_view_module_version": "1.2.0",
            "_view_name": "StyleView",
            "description_width": ""
          }
        },
        "d274a424b46b4ad59c9cb9e6778f7cfa": {
          "model_module": "@jupyter-widgets/base",
          "model_name": "LayoutModel",
          "model_module_version": "1.2.0",
          "state": {
            "_model_module": "@jupyter-widgets/base",
            "_model_module_version": "1.2.0",
            "_model_name": "LayoutModel",
            "_view_count": null,
            "_view_module": "@jupyter-widgets/base",
            "_view_module_version": "1.2.0",
            "_view_name": "LayoutView",
            "align_content": null,
            "align_items": null,
            "align_self": null,
            "border": null,
            "bottom": null,
            "display": null,
            "flex": null,
            "flex_flow": null,
            "grid_area": null,
            "grid_auto_columns": null,
            "grid_auto_flow": null,
            "grid_auto_rows": null,
            "grid_column": null,
            "grid_gap": null,
            "grid_row": null,
            "grid_template_areas": null,
            "grid_template_columns": null,
            "grid_template_rows": null,
            "height": null,
            "justify_content": null,
            "justify_items": null,
            "left": null,
            "margin": null,
            "max_height": null,
            "max_width": null,
            "min_height": null,
            "min_width": null,
            "object_fit": null,
            "object_position": null,
            "order": null,
            "overflow": null,
            "overflow_x": null,
            "overflow_y": null,
            "padding": null,
            "right": null,
            "top": null,
            "visibility": null,
            "width": null
          }
        },
        "21ea6ac6c4f8430f8e92186020a297ed": {
          "model_module": "@jupyter-widgets/controls",
          "model_name": "ProgressStyleModel",
          "model_module_version": "1.5.0",
          "state": {
            "_model_module": "@jupyter-widgets/controls",
            "_model_module_version": "1.5.0",
            "_model_name": "ProgressStyleModel",
            "_view_count": null,
            "_view_module": "@jupyter-widgets/base",
            "_view_module_version": "1.2.0",
            "_view_name": "StyleView",
            "bar_color": null,
            "description_width": ""
          }
        },
        "16829b1decf94348bbfdd370b568c62d": {
          "model_module": "@jupyter-widgets/base",
          "model_name": "LayoutModel",
          "model_module_version": "1.2.0",
          "state": {
            "_model_module": "@jupyter-widgets/base",
            "_model_module_version": "1.2.0",
            "_model_name": "LayoutModel",
            "_view_count": null,
            "_view_module": "@jupyter-widgets/base",
            "_view_module_version": "1.2.0",
            "_view_name": "LayoutView",
            "align_content": null,
            "align_items": null,
            "align_self": null,
            "border": null,
            "bottom": null,
            "display": null,
            "flex": null,
            "flex_flow": null,
            "grid_area": null,
            "grid_auto_columns": null,
            "grid_auto_flow": null,
            "grid_auto_rows": null,
            "grid_column": null,
            "grid_gap": null,
            "grid_row": null,
            "grid_template_areas": null,
            "grid_template_columns": null,
            "grid_template_rows": null,
            "height": null,
            "justify_content": null,
            "justify_items": null,
            "left": null,
            "margin": null,
            "max_height": null,
            "max_width": null,
            "min_height": null,
            "min_width": null,
            "object_fit": null,
            "object_position": null,
            "order": null,
            "overflow": null,
            "overflow_x": null,
            "overflow_y": null,
            "padding": null,
            "right": null,
            "top": null,
            "visibility": null,
            "width": null
          }
        },
        "3318b0859df4415ea17e65a7d5ad6c57": {
          "model_module": "@jupyter-widgets/controls",
          "model_name": "DescriptionStyleModel",
          "model_module_version": "1.5.0",
          "state": {
            "_model_module": "@jupyter-widgets/controls",
            "_model_module_version": "1.5.0",
            "_model_name": "DescriptionStyleModel",
            "_view_count": null,
            "_view_module": "@jupyter-widgets/base",
            "_view_module_version": "1.2.0",
            "_view_name": "StyleView",
            "description_width": ""
          }
        },
        "5ac8b7217fec464e9b84e368f5edb52b": {
          "model_module": "@jupyter-widgets/controls",
          "model_name": "HBoxModel",
          "model_module_version": "1.5.0",
          "state": {
            "_dom_classes": [],
            "_model_module": "@jupyter-widgets/controls",
            "_model_module_version": "1.5.0",
            "_model_name": "HBoxModel",
            "_view_count": null,
            "_view_module": "@jupyter-widgets/controls",
            "_view_module_version": "1.5.0",
            "_view_name": "HBoxView",
            "box_style": "",
            "children": [
              "IPY_MODEL_edb70dc364ee4eacaa9d7a72f7c69f6a",
              "IPY_MODEL_65a2a6d210294976948a22fbf8054e3c",
              "IPY_MODEL_ea3bd5d28b2a419897283d0291e8b3fc"
            ],
            "layout": "IPY_MODEL_01d536d7ee8d4da085c44d2bd007e621"
          }
        },
        "edb70dc364ee4eacaa9d7a72f7c69f6a": {
          "model_module": "@jupyter-widgets/controls",
          "model_name": "HTMLModel",
          "model_module_version": "1.5.0",
          "state": {
            "_dom_classes": [],
            "_model_module": "@jupyter-widgets/controls",
            "_model_module_version": "1.5.0",
            "_model_name": "HTMLModel",
            "_view_count": null,
            "_view_module": "@jupyter-widgets/controls",
            "_view_module_version": "1.5.0",
            "_view_name": "HTMLView",
            "description": "",
            "description_tooltip": null,
            "layout": "IPY_MODEL_1ba57af516be4e7681f7a51b0a532aec",
            "placeholder": "​",
            "style": "IPY_MODEL_f1f0cc6175ce4a6593c779b2794a77b9",
            "value": "Downloading pytorch_model.bin: 100%"
          }
        },
        "65a2a6d210294976948a22fbf8054e3c": {
          "model_module": "@jupyter-widgets/controls",
          "model_name": "FloatProgressModel",
          "model_module_version": "1.5.0",
          "state": {
            "_dom_classes": [],
            "_model_module": "@jupyter-widgets/controls",
            "_model_module_version": "1.5.0",
            "_model_name": "FloatProgressModel",
            "_view_count": null,
            "_view_module": "@jupyter-widgets/controls",
            "_view_module_version": "1.5.0",
            "_view_name": "ProgressView",
            "bar_style": "success",
            "description": "",
            "description_tooltip": null,
            "layout": "IPY_MODEL_4910e2bb5a83489b99c9089d84ab7768",
            "max": 498679497,
            "min": 0,
            "orientation": "horizontal",
            "style": "IPY_MODEL_36b872c9afb14adba1002787c213bfa7",
            "value": 498679497
          }
        },
        "ea3bd5d28b2a419897283d0291e8b3fc": {
          "model_module": "@jupyter-widgets/controls",
          "model_name": "HTMLModel",
          "model_module_version": "1.5.0",
          "state": {
            "_dom_classes": [],
            "_model_module": "@jupyter-widgets/controls",
            "_model_module_version": "1.5.0",
            "_model_name": "HTMLModel",
            "_view_count": null,
            "_view_module": "@jupyter-widgets/controls",
            "_view_module_version": "1.5.0",
            "_view_name": "HTMLView",
            "description": "",
            "description_tooltip": null,
            "layout": "IPY_MODEL_8e05ff9fabe04392be2b97ee97465b31",
            "placeholder": "​",
            "style": "IPY_MODEL_259eca6657db45d6b39e9c12bb54ab74",
            "value": " 499M/499M [00:05&lt;00:00, 37.0MB/s]"
          }
        },
        "01d536d7ee8d4da085c44d2bd007e621": {
          "model_module": "@jupyter-widgets/base",
          "model_name": "LayoutModel",
          "model_module_version": "1.2.0",
          "state": {
            "_model_module": "@jupyter-widgets/base",
            "_model_module_version": "1.2.0",
            "_model_name": "LayoutModel",
            "_view_count": null,
            "_view_module": "@jupyter-widgets/base",
            "_view_module_version": "1.2.0",
            "_view_name": "LayoutView",
            "align_content": null,
            "align_items": null,
            "align_self": null,
            "border": null,
            "bottom": null,
            "display": null,
            "flex": null,
            "flex_flow": null,
            "grid_area": null,
            "grid_auto_columns": null,
            "grid_auto_flow": null,
            "grid_auto_rows": null,
            "grid_column": null,
            "grid_gap": null,
            "grid_row": null,
            "grid_template_areas": null,
            "grid_template_columns": null,
            "grid_template_rows": null,
            "height": null,
            "justify_content": null,
            "justify_items": null,
            "left": null,
            "margin": null,
            "max_height": null,
            "max_width": null,
            "min_height": null,
            "min_width": null,
            "object_fit": null,
            "object_position": null,
            "order": null,
            "overflow": null,
            "overflow_x": null,
            "overflow_y": null,
            "padding": null,
            "right": null,
            "top": null,
            "visibility": null,
            "width": null
          }
        },
        "1ba57af516be4e7681f7a51b0a532aec": {
          "model_module": "@jupyter-widgets/base",
          "model_name": "LayoutModel",
          "model_module_version": "1.2.0",
          "state": {
            "_model_module": "@jupyter-widgets/base",
            "_model_module_version": "1.2.0",
            "_model_name": "LayoutModel",
            "_view_count": null,
            "_view_module": "@jupyter-widgets/base",
            "_view_module_version": "1.2.0",
            "_view_name": "LayoutView",
            "align_content": null,
            "align_items": null,
            "align_self": null,
            "border": null,
            "bottom": null,
            "display": null,
            "flex": null,
            "flex_flow": null,
            "grid_area": null,
            "grid_auto_columns": null,
            "grid_auto_flow": null,
            "grid_auto_rows": null,
            "grid_column": null,
            "grid_gap": null,
            "grid_row": null,
            "grid_template_areas": null,
            "grid_template_columns": null,
            "grid_template_rows": null,
            "height": null,
            "justify_content": null,
            "justify_items": null,
            "left": null,
            "margin": null,
            "max_height": null,
            "max_width": null,
            "min_height": null,
            "min_width": null,
            "object_fit": null,
            "object_position": null,
            "order": null,
            "overflow": null,
            "overflow_x": null,
            "overflow_y": null,
            "padding": null,
            "right": null,
            "top": null,
            "visibility": null,
            "width": null
          }
        },
        "f1f0cc6175ce4a6593c779b2794a77b9": {
          "model_module": "@jupyter-widgets/controls",
          "model_name": "DescriptionStyleModel",
          "model_module_version": "1.5.0",
          "state": {
            "_model_module": "@jupyter-widgets/controls",
            "_model_module_version": "1.5.0",
            "_model_name": "DescriptionStyleModel",
            "_view_count": null,
            "_view_module": "@jupyter-widgets/base",
            "_view_module_version": "1.2.0",
            "_view_name": "StyleView",
            "description_width": ""
          }
        },
        "4910e2bb5a83489b99c9089d84ab7768": {
          "model_module": "@jupyter-widgets/base",
          "model_name": "LayoutModel",
          "model_module_version": "1.2.0",
          "state": {
            "_model_module": "@jupyter-widgets/base",
            "_model_module_version": "1.2.0",
            "_model_name": "LayoutModel",
            "_view_count": null,
            "_view_module": "@jupyter-widgets/base",
            "_view_module_version": "1.2.0",
            "_view_name": "LayoutView",
            "align_content": null,
            "align_items": null,
            "align_self": null,
            "border": null,
            "bottom": null,
            "display": null,
            "flex": null,
            "flex_flow": null,
            "grid_area": null,
            "grid_auto_columns": null,
            "grid_auto_flow": null,
            "grid_auto_rows": null,
            "grid_column": null,
            "grid_gap": null,
            "grid_row": null,
            "grid_template_areas": null,
            "grid_template_columns": null,
            "grid_template_rows": null,
            "height": null,
            "justify_content": null,
            "justify_items": null,
            "left": null,
            "margin": null,
            "max_height": null,
            "max_width": null,
            "min_height": null,
            "min_width": null,
            "object_fit": null,
            "object_position": null,
            "order": null,
            "overflow": null,
            "overflow_x": null,
            "overflow_y": null,
            "padding": null,
            "right": null,
            "top": null,
            "visibility": null,
            "width": null
          }
        },
        "36b872c9afb14adba1002787c213bfa7": {
          "model_module": "@jupyter-widgets/controls",
          "model_name": "ProgressStyleModel",
          "model_module_version": "1.5.0",
          "state": {
            "_model_module": "@jupyter-widgets/controls",
            "_model_module_version": "1.5.0",
            "_model_name": "ProgressStyleModel",
            "_view_count": null,
            "_view_module": "@jupyter-widgets/base",
            "_view_module_version": "1.2.0",
            "_view_name": "StyleView",
            "bar_color": null,
            "description_width": ""
          }
        },
        "8e05ff9fabe04392be2b97ee97465b31": {
          "model_module": "@jupyter-widgets/base",
          "model_name": "LayoutModel",
          "model_module_version": "1.2.0",
          "state": {
            "_model_module": "@jupyter-widgets/base",
            "_model_module_version": "1.2.0",
            "_model_name": "LayoutModel",
            "_view_count": null,
            "_view_module": "@jupyter-widgets/base",
            "_view_module_version": "1.2.0",
            "_view_name": "LayoutView",
            "align_content": null,
            "align_items": null,
            "align_self": null,
            "border": null,
            "bottom": null,
            "display": null,
            "flex": null,
            "flex_flow": null,
            "grid_area": null,
            "grid_auto_columns": null,
            "grid_auto_flow": null,
            "grid_auto_rows": null,
            "grid_column": null,
            "grid_gap": null,
            "grid_row": null,
            "grid_template_areas": null,
            "grid_template_columns": null,
            "grid_template_rows": null,
            "height": null,
            "justify_content": null,
            "justify_items": null,
            "left": null,
            "margin": null,
            "max_height": null,
            "max_width": null,
            "min_height": null,
            "min_width": null,
            "object_fit": null,
            "object_position": null,
            "order": null,
            "overflow": null,
            "overflow_x": null,
            "overflow_y": null,
            "padding": null,
            "right": null,
            "top": null,
            "visibility": null,
            "width": null
          }
        },
        "259eca6657db45d6b39e9c12bb54ab74": {
          "model_module": "@jupyter-widgets/controls",
          "model_name": "DescriptionStyleModel",
          "model_module_version": "1.5.0",
          "state": {
            "_model_module": "@jupyter-widgets/controls",
            "_model_module_version": "1.5.0",
            "_model_name": "DescriptionStyleModel",
            "_view_count": null,
            "_view_module": "@jupyter-widgets/base",
            "_view_module_version": "1.2.0",
            "_view_name": "StyleView",
            "description_width": ""
          }
        },
        "af5dfd97d54043ca9d2a7d15671b8407": {
          "model_module": "@jupyter-widgets/controls",
          "model_name": "HBoxModel",
          "model_module_version": "1.5.0",
          "state": {
            "_dom_classes": [],
            "_model_module": "@jupyter-widgets/controls",
            "_model_module_version": "1.5.0",
            "_model_name": "HBoxModel",
            "_view_count": null,
            "_view_module": "@jupyter-widgets/controls",
            "_view_module_version": "1.5.0",
            "_view_name": "HBoxView",
            "box_style": "",
            "children": [
              "IPY_MODEL_0f3fa95e062742e4a454e39ffce8cce4",
              "IPY_MODEL_f0312a1963bc4867b8405db85b0f8f44",
              "IPY_MODEL_b63a48df21c146cba78ae3246a549570"
            ],
            "layout": "IPY_MODEL_5a5bbb0ae0aa46e79124504adc8c1b07"
          }
        },
        "0f3fa95e062742e4a454e39ffce8cce4": {
          "model_module": "@jupyter-widgets/controls",
          "model_name": "HTMLModel",
          "model_module_version": "1.5.0",
          "state": {
            "_dom_classes": [],
            "_model_module": "@jupyter-widgets/controls",
            "_model_module_version": "1.5.0",
            "_model_name": "HTMLModel",
            "_view_count": null,
            "_view_module": "@jupyter-widgets/controls",
            "_view_module_version": "1.5.0",
            "_view_name": "HTMLView",
            "description": "",
            "description_tooltip": null,
            "layout": "IPY_MODEL_1b3c72582bbd46369086dbb843560b14",
            "placeholder": "​",
            "style": "IPY_MODEL_7ebcf3fa62b8454ca2f1c3e064a33c5e",
            "value": "Downloading (…)lve/main/config.json: 100%"
          }
        },
        "f0312a1963bc4867b8405db85b0f8f44": {
          "model_module": "@jupyter-widgets/controls",
          "model_name": "FloatProgressModel",
          "model_module_version": "1.5.0",
          "state": {
            "_dom_classes": [],
            "_model_module": "@jupyter-widgets/controls",
            "_model_module_version": "1.5.0",
            "_model_name": "FloatProgressModel",
            "_view_count": null,
            "_view_module": "@jupyter-widgets/controls",
            "_view_module_version": "1.5.0",
            "_view_name": "ProgressView",
            "bar_style": "success",
            "description": "",
            "description_tooltip": null,
            "layout": "IPY_MODEL_ca86052bb2d74546914e8f5acbd7f989",
            "max": 768,
            "min": 0,
            "orientation": "horizontal",
            "style": "IPY_MODEL_7eb9afeac1d84cfda49822228bca442a",
            "value": 768
          }
        },
        "b63a48df21c146cba78ae3246a549570": {
          "model_module": "@jupyter-widgets/controls",
          "model_name": "HTMLModel",
          "model_module_version": "1.5.0",
          "state": {
            "_dom_classes": [],
            "_model_module": "@jupyter-widgets/controls",
            "_model_module_version": "1.5.0",
            "_model_name": "HTMLModel",
            "_view_count": null,
            "_view_module": "@jupyter-widgets/controls",
            "_view_module_version": "1.5.0",
            "_view_name": "HTMLView",
            "description": "",
            "description_tooltip": null,
            "layout": "IPY_MODEL_afa32ae5b04145b887242fc0322c4545",
            "placeholder": "​",
            "style": "IPY_MODEL_7bcfa9d392f34e88bda9540046a2916b",
            "value": " 768/768 [00:00&lt;00:00, 61.1kB/s]"
          }
        },
        "5a5bbb0ae0aa46e79124504adc8c1b07": {
          "model_module": "@jupyter-widgets/base",
          "model_name": "LayoutModel",
          "model_module_version": "1.2.0",
          "state": {
            "_model_module": "@jupyter-widgets/base",
            "_model_module_version": "1.2.0",
            "_model_name": "LayoutModel",
            "_view_count": null,
            "_view_module": "@jupyter-widgets/base",
            "_view_module_version": "1.2.0",
            "_view_name": "LayoutView",
            "align_content": null,
            "align_items": null,
            "align_self": null,
            "border": null,
            "bottom": null,
            "display": null,
            "flex": null,
            "flex_flow": null,
            "grid_area": null,
            "grid_auto_columns": null,
            "grid_auto_flow": null,
            "grid_auto_rows": null,
            "grid_column": null,
            "grid_gap": null,
            "grid_row": null,
            "grid_template_areas": null,
            "grid_template_columns": null,
            "grid_template_rows": null,
            "height": null,
            "justify_content": null,
            "justify_items": null,
            "left": null,
            "margin": null,
            "max_height": null,
            "max_width": null,
            "min_height": null,
            "min_width": null,
            "object_fit": null,
            "object_position": null,
            "order": null,
            "overflow": null,
            "overflow_x": null,
            "overflow_y": null,
            "padding": null,
            "right": null,
            "top": null,
            "visibility": null,
            "width": null
          }
        },
        "1b3c72582bbd46369086dbb843560b14": {
          "model_module": "@jupyter-widgets/base",
          "model_name": "LayoutModel",
          "model_module_version": "1.2.0",
          "state": {
            "_model_module": "@jupyter-widgets/base",
            "_model_module_version": "1.2.0",
            "_model_name": "LayoutModel",
            "_view_count": null,
            "_view_module": "@jupyter-widgets/base",
            "_view_module_version": "1.2.0",
            "_view_name": "LayoutView",
            "align_content": null,
            "align_items": null,
            "align_self": null,
            "border": null,
            "bottom": null,
            "display": null,
            "flex": null,
            "flex_flow": null,
            "grid_area": null,
            "grid_auto_columns": null,
            "grid_auto_flow": null,
            "grid_auto_rows": null,
            "grid_column": null,
            "grid_gap": null,
            "grid_row": null,
            "grid_template_areas": null,
            "grid_template_columns": null,
            "grid_template_rows": null,
            "height": null,
            "justify_content": null,
            "justify_items": null,
            "left": null,
            "margin": null,
            "max_height": null,
            "max_width": null,
            "min_height": null,
            "min_width": null,
            "object_fit": null,
            "object_position": null,
            "order": null,
            "overflow": null,
            "overflow_x": null,
            "overflow_y": null,
            "padding": null,
            "right": null,
            "top": null,
            "visibility": null,
            "width": null
          }
        },
        "7ebcf3fa62b8454ca2f1c3e064a33c5e": {
          "model_module": "@jupyter-widgets/controls",
          "model_name": "DescriptionStyleModel",
          "model_module_version": "1.5.0",
          "state": {
            "_model_module": "@jupyter-widgets/controls",
            "_model_module_version": "1.5.0",
            "_model_name": "DescriptionStyleModel",
            "_view_count": null,
            "_view_module": "@jupyter-widgets/base",
            "_view_module_version": "1.2.0",
            "_view_name": "StyleView",
            "description_width": ""
          }
        },
        "ca86052bb2d74546914e8f5acbd7f989": {
          "model_module": "@jupyter-widgets/base",
          "model_name": "LayoutModel",
          "model_module_version": "1.2.0",
          "state": {
            "_model_module": "@jupyter-widgets/base",
            "_model_module_version": "1.2.0",
            "_model_name": "LayoutModel",
            "_view_count": null,
            "_view_module": "@jupyter-widgets/base",
            "_view_module_version": "1.2.0",
            "_view_name": "LayoutView",
            "align_content": null,
            "align_items": null,
            "align_self": null,
            "border": null,
            "bottom": null,
            "display": null,
            "flex": null,
            "flex_flow": null,
            "grid_area": null,
            "grid_auto_columns": null,
            "grid_auto_flow": null,
            "grid_auto_rows": null,
            "grid_column": null,
            "grid_gap": null,
            "grid_row": null,
            "grid_template_areas": null,
            "grid_template_columns": null,
            "grid_template_rows": null,
            "height": null,
            "justify_content": null,
            "justify_items": null,
            "left": null,
            "margin": null,
            "max_height": null,
            "max_width": null,
            "min_height": null,
            "min_width": null,
            "object_fit": null,
            "object_position": null,
            "order": null,
            "overflow": null,
            "overflow_x": null,
            "overflow_y": null,
            "padding": null,
            "right": null,
            "top": null,
            "visibility": null,
            "width": null
          }
        },
        "7eb9afeac1d84cfda49822228bca442a": {
          "model_module": "@jupyter-widgets/controls",
          "model_name": "ProgressStyleModel",
          "model_module_version": "1.5.0",
          "state": {
            "_model_module": "@jupyter-widgets/controls",
            "_model_module_version": "1.5.0",
            "_model_name": "ProgressStyleModel",
            "_view_count": null,
            "_view_module": "@jupyter-widgets/base",
            "_view_module_version": "1.2.0",
            "_view_name": "StyleView",
            "bar_color": null,
            "description_width": ""
          }
        },
        "afa32ae5b04145b887242fc0322c4545": {
          "model_module": "@jupyter-widgets/base",
          "model_name": "LayoutModel",
          "model_module_version": "1.2.0",
          "state": {
            "_model_module": "@jupyter-widgets/base",
            "_model_module_version": "1.2.0",
            "_model_name": "LayoutModel",
            "_view_count": null,
            "_view_module": "@jupyter-widgets/base",
            "_view_module_version": "1.2.0",
            "_view_name": "LayoutView",
            "align_content": null,
            "align_items": null,
            "align_self": null,
            "border": null,
            "bottom": null,
            "display": null,
            "flex": null,
            "flex_flow": null,
            "grid_area": null,
            "grid_auto_columns": null,
            "grid_auto_flow": null,
            "grid_auto_rows": null,
            "grid_column": null,
            "grid_gap": null,
            "grid_row": null,
            "grid_template_areas": null,
            "grid_template_columns": null,
            "grid_template_rows": null,
            "height": null,
            "justify_content": null,
            "justify_items": null,
            "left": null,
            "margin": null,
            "max_height": null,
            "max_width": null,
            "min_height": null,
            "min_width": null,
            "object_fit": null,
            "object_position": null,
            "order": null,
            "overflow": null,
            "overflow_x": null,
            "overflow_y": null,
            "padding": null,
            "right": null,
            "top": null,
            "visibility": null,
            "width": null
          }
        },
        "7bcfa9d392f34e88bda9540046a2916b": {
          "model_module": "@jupyter-widgets/controls",
          "model_name": "DescriptionStyleModel",
          "model_module_version": "1.5.0",
          "state": {
            "_model_module": "@jupyter-widgets/controls",
            "_model_module_version": "1.5.0",
            "_model_name": "DescriptionStyleModel",
            "_view_count": null,
            "_view_module": "@jupyter-widgets/base",
            "_view_module_version": "1.2.0",
            "_view_name": "StyleView",
            "description_width": ""
          }
        },
        "ecb20b85d6954157b0ea585463d32967": {
          "model_module": "@jupyter-widgets/controls",
          "model_name": "HBoxModel",
          "model_module_version": "1.5.0",
          "state": {
            "_dom_classes": [],
            "_model_module": "@jupyter-widgets/controls",
            "_model_module_version": "1.5.0",
            "_model_name": "HBoxModel",
            "_view_count": null,
            "_view_module": "@jupyter-widgets/controls",
            "_view_module_version": "1.5.0",
            "_view_name": "HBoxView",
            "box_style": "",
            "children": [
              "IPY_MODEL_f9a34f4c70c44759a4c1e9f5a8225aa3",
              "IPY_MODEL_d6cb82d4b8f4469d8fca23f2e11f660f",
              "IPY_MODEL_70452024aa8741189e8ffb497e0c3e8c"
            ],
            "layout": "IPY_MODEL_3eb6ec7491ca433ab04a3a3f452b4dc4"
          }
        },
        "f9a34f4c70c44759a4c1e9f5a8225aa3": {
          "model_module": "@jupyter-widgets/controls",
          "model_name": "HTMLModel",
          "model_module_version": "1.5.0",
          "state": {
            "_dom_classes": [],
            "_model_module": "@jupyter-widgets/controls",
            "_model_module_version": "1.5.0",
            "_model_name": "HTMLModel",
            "_view_count": null,
            "_view_module": "@jupyter-widgets/controls",
            "_view_module_version": "1.5.0",
            "_view_name": "HTMLView",
            "description": "",
            "description_tooltip": null,
            "layout": "IPY_MODEL_8b656bdb00d448428c350ffdb64f2c5d",
            "placeholder": "​",
            "style": "IPY_MODEL_a9ced85460654dc0b991bfe54a9ec979",
            "value": "Downloading (…)olve/main/vocab.json: 100%"
          }
        },
        "d6cb82d4b8f4469d8fca23f2e11f660f": {
          "model_module": "@jupyter-widgets/controls",
          "model_name": "FloatProgressModel",
          "model_module_version": "1.5.0",
          "state": {
            "_dom_classes": [],
            "_model_module": "@jupyter-widgets/controls",
            "_model_module_version": "1.5.0",
            "_model_name": "FloatProgressModel",
            "_view_count": null,
            "_view_module": "@jupyter-widgets/controls",
            "_view_module_version": "1.5.0",
            "_view_name": "ProgressView",
            "bar_style": "success",
            "description": "",
            "description_tooltip": null,
            "layout": "IPY_MODEL_58405387ce3a4854a7fe8f586f1a5b54",
            "max": 898822,
            "min": 0,
            "orientation": "horizontal",
            "style": "IPY_MODEL_6ba2c57929714655b59adc0af951dacb",
            "value": 898822
          }
        },
        "70452024aa8741189e8ffb497e0c3e8c": {
          "model_module": "@jupyter-widgets/controls",
          "model_name": "HTMLModel",
          "model_module_version": "1.5.0",
          "state": {
            "_dom_classes": [],
            "_model_module": "@jupyter-widgets/controls",
            "_model_module_version": "1.5.0",
            "_model_name": "HTMLModel",
            "_view_count": null,
            "_view_module": "@jupyter-widgets/controls",
            "_view_module_version": "1.5.0",
            "_view_name": "HTMLView",
            "description": "",
            "description_tooltip": null,
            "layout": "IPY_MODEL_efe767ad914c4a799181e9608e6130cd",
            "placeholder": "​",
            "style": "IPY_MODEL_5d46838d9886427e9f574374765a04ea",
            "value": " 899k/899k [00:00&lt;00:00, 3.83MB/s]"
          }
        },
        "3eb6ec7491ca433ab04a3a3f452b4dc4": {
          "model_module": "@jupyter-widgets/base",
          "model_name": "LayoutModel",
          "model_module_version": "1.2.0",
          "state": {
            "_model_module": "@jupyter-widgets/base",
            "_model_module_version": "1.2.0",
            "_model_name": "LayoutModel",
            "_view_count": null,
            "_view_module": "@jupyter-widgets/base",
            "_view_module_version": "1.2.0",
            "_view_name": "LayoutView",
            "align_content": null,
            "align_items": null,
            "align_self": null,
            "border": null,
            "bottom": null,
            "display": null,
            "flex": null,
            "flex_flow": null,
            "grid_area": null,
            "grid_auto_columns": null,
            "grid_auto_flow": null,
            "grid_auto_rows": null,
            "grid_column": null,
            "grid_gap": null,
            "grid_row": null,
            "grid_template_areas": null,
            "grid_template_columns": null,
            "grid_template_rows": null,
            "height": null,
            "justify_content": null,
            "justify_items": null,
            "left": null,
            "margin": null,
            "max_height": null,
            "max_width": null,
            "min_height": null,
            "min_width": null,
            "object_fit": null,
            "object_position": null,
            "order": null,
            "overflow": null,
            "overflow_x": null,
            "overflow_y": null,
            "padding": null,
            "right": null,
            "top": null,
            "visibility": null,
            "width": null
          }
        },
        "8b656bdb00d448428c350ffdb64f2c5d": {
          "model_module": "@jupyter-widgets/base",
          "model_name": "LayoutModel",
          "model_module_version": "1.2.0",
          "state": {
            "_model_module": "@jupyter-widgets/base",
            "_model_module_version": "1.2.0",
            "_model_name": "LayoutModel",
            "_view_count": null,
            "_view_module": "@jupyter-widgets/base",
            "_view_module_version": "1.2.0",
            "_view_name": "LayoutView",
            "align_content": null,
            "align_items": null,
            "align_self": null,
            "border": null,
            "bottom": null,
            "display": null,
            "flex": null,
            "flex_flow": null,
            "grid_area": null,
            "grid_auto_columns": null,
            "grid_auto_flow": null,
            "grid_auto_rows": null,
            "grid_column": null,
            "grid_gap": null,
            "grid_row": null,
            "grid_template_areas": null,
            "grid_template_columns": null,
            "grid_template_rows": null,
            "height": null,
            "justify_content": null,
            "justify_items": null,
            "left": null,
            "margin": null,
            "max_height": null,
            "max_width": null,
            "min_height": null,
            "min_width": null,
            "object_fit": null,
            "object_position": null,
            "order": null,
            "overflow": null,
            "overflow_x": null,
            "overflow_y": null,
            "padding": null,
            "right": null,
            "top": null,
            "visibility": null,
            "width": null
          }
        },
        "a9ced85460654dc0b991bfe54a9ec979": {
          "model_module": "@jupyter-widgets/controls",
          "model_name": "DescriptionStyleModel",
          "model_module_version": "1.5.0",
          "state": {
            "_model_module": "@jupyter-widgets/controls",
            "_model_module_version": "1.5.0",
            "_model_name": "DescriptionStyleModel",
            "_view_count": null,
            "_view_module": "@jupyter-widgets/base",
            "_view_module_version": "1.2.0",
            "_view_name": "StyleView",
            "description_width": ""
          }
        },
        "58405387ce3a4854a7fe8f586f1a5b54": {
          "model_module": "@jupyter-widgets/base",
          "model_name": "LayoutModel",
          "model_module_version": "1.2.0",
          "state": {
            "_model_module": "@jupyter-widgets/base",
            "_model_module_version": "1.2.0",
            "_model_name": "LayoutModel",
            "_view_count": null,
            "_view_module": "@jupyter-widgets/base",
            "_view_module_version": "1.2.0",
            "_view_name": "LayoutView",
            "align_content": null,
            "align_items": null,
            "align_self": null,
            "border": null,
            "bottom": null,
            "display": null,
            "flex": null,
            "flex_flow": null,
            "grid_area": null,
            "grid_auto_columns": null,
            "grid_auto_flow": null,
            "grid_auto_rows": null,
            "grid_column": null,
            "grid_gap": null,
            "grid_row": null,
            "grid_template_areas": null,
            "grid_template_columns": null,
            "grid_template_rows": null,
            "height": null,
            "justify_content": null,
            "justify_items": null,
            "left": null,
            "margin": null,
            "max_height": null,
            "max_width": null,
            "min_height": null,
            "min_width": null,
            "object_fit": null,
            "object_position": null,
            "order": null,
            "overflow": null,
            "overflow_x": null,
            "overflow_y": null,
            "padding": null,
            "right": null,
            "top": null,
            "visibility": null,
            "width": null
          }
        },
        "6ba2c57929714655b59adc0af951dacb": {
          "model_module": "@jupyter-widgets/controls",
          "model_name": "ProgressStyleModel",
          "model_module_version": "1.5.0",
          "state": {
            "_model_module": "@jupyter-widgets/controls",
            "_model_module_version": "1.5.0",
            "_model_name": "ProgressStyleModel",
            "_view_count": null,
            "_view_module": "@jupyter-widgets/base",
            "_view_module_version": "1.2.0",
            "_view_name": "StyleView",
            "bar_color": null,
            "description_width": ""
          }
        },
        "efe767ad914c4a799181e9608e6130cd": {
          "model_module": "@jupyter-widgets/base",
          "model_name": "LayoutModel",
          "model_module_version": "1.2.0",
          "state": {
            "_model_module": "@jupyter-widgets/base",
            "_model_module_version": "1.2.0",
            "_model_name": "LayoutModel",
            "_view_count": null,
            "_view_module": "@jupyter-widgets/base",
            "_view_module_version": "1.2.0",
            "_view_name": "LayoutView",
            "align_content": null,
            "align_items": null,
            "align_self": null,
            "border": null,
            "bottom": null,
            "display": null,
            "flex": null,
            "flex_flow": null,
            "grid_area": null,
            "grid_auto_columns": null,
            "grid_auto_flow": null,
            "grid_auto_rows": null,
            "grid_column": null,
            "grid_gap": null,
            "grid_row": null,
            "grid_template_areas": null,
            "grid_template_columns": null,
            "grid_template_rows": null,
            "height": null,
            "justify_content": null,
            "justify_items": null,
            "left": null,
            "margin": null,
            "max_height": null,
            "max_width": null,
            "min_height": null,
            "min_width": null,
            "object_fit": null,
            "object_position": null,
            "order": null,
            "overflow": null,
            "overflow_x": null,
            "overflow_y": null,
            "padding": null,
            "right": null,
            "top": null,
            "visibility": null,
            "width": null
          }
        },
        "5d46838d9886427e9f574374765a04ea": {
          "model_module": "@jupyter-widgets/controls",
          "model_name": "DescriptionStyleModel",
          "model_module_version": "1.5.0",
          "state": {
            "_model_module": "@jupyter-widgets/controls",
            "_model_module_version": "1.5.0",
            "_model_name": "DescriptionStyleModel",
            "_view_count": null,
            "_view_module": "@jupyter-widgets/base",
            "_view_module_version": "1.2.0",
            "_view_name": "StyleView",
            "description_width": ""
          }
        },
        "d570195545f6466f957c24e96d7d8841": {
          "model_module": "@jupyter-widgets/controls",
          "model_name": "HBoxModel",
          "model_module_version": "1.5.0",
          "state": {
            "_dom_classes": [],
            "_model_module": "@jupyter-widgets/controls",
            "_model_module_version": "1.5.0",
            "_model_name": "HBoxModel",
            "_view_count": null,
            "_view_module": "@jupyter-widgets/controls",
            "_view_module_version": "1.5.0",
            "_view_name": "HBoxView",
            "box_style": "",
            "children": [
              "IPY_MODEL_0d951114153a4b11a0cf430e5784a8f7",
              "IPY_MODEL_61459047865b432f9ed8835ec451eafe",
              "IPY_MODEL_95f6b73a191b43d4a40dccdcede95b12"
            ],
            "layout": "IPY_MODEL_4ff7155122e94585a2377c842e68043f"
          }
        },
        "0d951114153a4b11a0cf430e5784a8f7": {
          "model_module": "@jupyter-widgets/controls",
          "model_name": "HTMLModel",
          "model_module_version": "1.5.0",
          "state": {
            "_dom_classes": [],
            "_model_module": "@jupyter-widgets/controls",
            "_model_module_version": "1.5.0",
            "_model_name": "HTMLModel",
            "_view_count": null,
            "_view_module": "@jupyter-widgets/controls",
            "_view_module_version": "1.5.0",
            "_view_name": "HTMLView",
            "description": "",
            "description_tooltip": null,
            "layout": "IPY_MODEL_822accc8143b4d1eb6f8650250912753",
            "placeholder": "​",
            "style": "IPY_MODEL_5390bdfded3248cb8189942a4ce5b582",
            "value": "Downloading (…)olve/main/merges.txt: 100%"
          }
        },
        "61459047865b432f9ed8835ec451eafe": {
          "model_module": "@jupyter-widgets/controls",
          "model_name": "FloatProgressModel",
          "model_module_version": "1.5.0",
          "state": {
            "_dom_classes": [],
            "_model_module": "@jupyter-widgets/controls",
            "_model_module_version": "1.5.0",
            "_model_name": "FloatProgressModel",
            "_view_count": null,
            "_view_module": "@jupyter-widgets/controls",
            "_view_module_version": "1.5.0",
            "_view_name": "ProgressView",
            "bar_style": "success",
            "description": "",
            "description_tooltip": null,
            "layout": "IPY_MODEL_7e03c707e9704769a79774b3a55ad915",
            "max": 456318,
            "min": 0,
            "orientation": "horizontal",
            "style": "IPY_MODEL_fcb688d88f7743579e5af33a189186a7",
            "value": 456318
          }
        },
        "95f6b73a191b43d4a40dccdcede95b12": {
          "model_module": "@jupyter-widgets/controls",
          "model_name": "HTMLModel",
          "model_module_version": "1.5.0",
          "state": {
            "_dom_classes": [],
            "_model_module": "@jupyter-widgets/controls",
            "_model_module_version": "1.5.0",
            "_model_name": "HTMLModel",
            "_view_count": null,
            "_view_module": "@jupyter-widgets/controls",
            "_view_module_version": "1.5.0",
            "_view_name": "HTMLView",
            "description": "",
            "description_tooltip": null,
            "layout": "IPY_MODEL_c34a8bd930b442a79e962bddc6701e47",
            "placeholder": "​",
            "style": "IPY_MODEL_80bf8006d42046cfaed6d5bd6fefdaf1",
            "value": " 456k/456k [00:00&lt;00:00, 1.98MB/s]"
          }
        },
        "4ff7155122e94585a2377c842e68043f": {
          "model_module": "@jupyter-widgets/base",
          "model_name": "LayoutModel",
          "model_module_version": "1.2.0",
          "state": {
            "_model_module": "@jupyter-widgets/base",
            "_model_module_version": "1.2.0",
            "_model_name": "LayoutModel",
            "_view_count": null,
            "_view_module": "@jupyter-widgets/base",
            "_view_module_version": "1.2.0",
            "_view_name": "LayoutView",
            "align_content": null,
            "align_items": null,
            "align_self": null,
            "border": null,
            "bottom": null,
            "display": null,
            "flex": null,
            "flex_flow": null,
            "grid_area": null,
            "grid_auto_columns": null,
            "grid_auto_flow": null,
            "grid_auto_rows": null,
            "grid_column": null,
            "grid_gap": null,
            "grid_row": null,
            "grid_template_areas": null,
            "grid_template_columns": null,
            "grid_template_rows": null,
            "height": null,
            "justify_content": null,
            "justify_items": null,
            "left": null,
            "margin": null,
            "max_height": null,
            "max_width": null,
            "min_height": null,
            "min_width": null,
            "object_fit": null,
            "object_position": null,
            "order": null,
            "overflow": null,
            "overflow_x": null,
            "overflow_y": null,
            "padding": null,
            "right": null,
            "top": null,
            "visibility": null,
            "width": null
          }
        },
        "822accc8143b4d1eb6f8650250912753": {
          "model_module": "@jupyter-widgets/base",
          "model_name": "LayoutModel",
          "model_module_version": "1.2.0",
          "state": {
            "_model_module": "@jupyter-widgets/base",
            "_model_module_version": "1.2.0",
            "_model_name": "LayoutModel",
            "_view_count": null,
            "_view_module": "@jupyter-widgets/base",
            "_view_module_version": "1.2.0",
            "_view_name": "LayoutView",
            "align_content": null,
            "align_items": null,
            "align_self": null,
            "border": null,
            "bottom": null,
            "display": null,
            "flex": null,
            "flex_flow": null,
            "grid_area": null,
            "grid_auto_columns": null,
            "grid_auto_flow": null,
            "grid_auto_rows": null,
            "grid_column": null,
            "grid_gap": null,
            "grid_row": null,
            "grid_template_areas": null,
            "grid_template_columns": null,
            "grid_template_rows": null,
            "height": null,
            "justify_content": null,
            "justify_items": null,
            "left": null,
            "margin": null,
            "max_height": null,
            "max_width": null,
            "min_height": null,
            "min_width": null,
            "object_fit": null,
            "object_position": null,
            "order": null,
            "overflow": null,
            "overflow_x": null,
            "overflow_y": null,
            "padding": null,
            "right": null,
            "top": null,
            "visibility": null,
            "width": null
          }
        },
        "5390bdfded3248cb8189942a4ce5b582": {
          "model_module": "@jupyter-widgets/controls",
          "model_name": "DescriptionStyleModel",
          "model_module_version": "1.5.0",
          "state": {
            "_model_module": "@jupyter-widgets/controls",
            "_model_module_version": "1.5.0",
            "_model_name": "DescriptionStyleModel",
            "_view_count": null,
            "_view_module": "@jupyter-widgets/base",
            "_view_module_version": "1.2.0",
            "_view_name": "StyleView",
            "description_width": ""
          }
        },
        "7e03c707e9704769a79774b3a55ad915": {
          "model_module": "@jupyter-widgets/base",
          "model_name": "LayoutModel",
          "model_module_version": "1.2.0",
          "state": {
            "_model_module": "@jupyter-widgets/base",
            "_model_module_version": "1.2.0",
            "_model_name": "LayoutModel",
            "_view_count": null,
            "_view_module": "@jupyter-widgets/base",
            "_view_module_version": "1.2.0",
            "_view_name": "LayoutView",
            "align_content": null,
            "align_items": null,
            "align_self": null,
            "border": null,
            "bottom": null,
            "display": null,
            "flex": null,
            "flex_flow": null,
            "grid_area": null,
            "grid_auto_columns": null,
            "grid_auto_flow": null,
            "grid_auto_rows": null,
            "grid_column": null,
            "grid_gap": null,
            "grid_row": null,
            "grid_template_areas": null,
            "grid_template_columns": null,
            "grid_template_rows": null,
            "height": null,
            "justify_content": null,
            "justify_items": null,
            "left": null,
            "margin": null,
            "max_height": null,
            "max_width": null,
            "min_height": null,
            "min_width": null,
            "object_fit": null,
            "object_position": null,
            "order": null,
            "overflow": null,
            "overflow_x": null,
            "overflow_y": null,
            "padding": null,
            "right": null,
            "top": null,
            "visibility": null,
            "width": null
          }
        },
        "fcb688d88f7743579e5af33a189186a7": {
          "model_module": "@jupyter-widgets/controls",
          "model_name": "ProgressStyleModel",
          "model_module_version": "1.5.0",
          "state": {
            "_model_module": "@jupyter-widgets/controls",
            "_model_module_version": "1.5.0",
            "_model_name": "ProgressStyleModel",
            "_view_count": null,
            "_view_module": "@jupyter-widgets/base",
            "_view_module_version": "1.2.0",
            "_view_name": "StyleView",
            "bar_color": null,
            "description_width": ""
          }
        },
        "c34a8bd930b442a79e962bddc6701e47": {
          "model_module": "@jupyter-widgets/base",
          "model_name": "LayoutModel",
          "model_module_version": "1.2.0",
          "state": {
            "_model_module": "@jupyter-widgets/base",
            "_model_module_version": "1.2.0",
            "_model_name": "LayoutModel",
            "_view_count": null,
            "_view_module": "@jupyter-widgets/base",
            "_view_module_version": "1.2.0",
            "_view_name": "LayoutView",
            "align_content": null,
            "align_items": null,
            "align_self": null,
            "border": null,
            "bottom": null,
            "display": null,
            "flex": null,
            "flex_flow": null,
            "grid_area": null,
            "grid_auto_columns": null,
            "grid_auto_flow": null,
            "grid_auto_rows": null,
            "grid_column": null,
            "grid_gap": null,
            "grid_row": null,
            "grid_template_areas": null,
            "grid_template_columns": null,
            "grid_template_rows": null,
            "height": null,
            "justify_content": null,
            "justify_items": null,
            "left": null,
            "margin": null,
            "max_height": null,
            "max_width": null,
            "min_height": null,
            "min_width": null,
            "object_fit": null,
            "object_position": null,
            "order": null,
            "overflow": null,
            "overflow_x": null,
            "overflow_y": null,
            "padding": null,
            "right": null,
            "top": null,
            "visibility": null,
            "width": null
          }
        },
        "80bf8006d42046cfaed6d5bd6fefdaf1": {
          "model_module": "@jupyter-widgets/controls",
          "model_name": "DescriptionStyleModel",
          "model_module_version": "1.5.0",
          "state": {
            "_model_module": "@jupyter-widgets/controls",
            "_model_module_version": "1.5.0",
            "_model_name": "DescriptionStyleModel",
            "_view_count": null,
            "_view_module": "@jupyter-widgets/base",
            "_view_module_version": "1.2.0",
            "_view_name": "StyleView",
            "description_width": ""
          }
        },
        "438dca0bfe994d4ab31d4f80f6587b48": {
          "model_module": "@jupyter-widgets/controls",
          "model_name": "HBoxModel",
          "model_module_version": "1.5.0",
          "state": {
            "_dom_classes": [],
            "_model_module": "@jupyter-widgets/controls",
            "_model_module_version": "1.5.0",
            "_model_name": "HBoxModel",
            "_view_count": null,
            "_view_module": "@jupyter-widgets/controls",
            "_view_module_version": "1.5.0",
            "_view_name": "HBoxView",
            "box_style": "",
            "children": [
              "IPY_MODEL_7bfab6934dd4449ba43822984045217b",
              "IPY_MODEL_4696c7d41ad84e66a7657e6b5121f4e3",
              "IPY_MODEL_d5c6771d01ea4cc1972f77754b291ade"
            ],
            "layout": "IPY_MODEL_8a4842f059744d94a8b7c897f0b8c6e6"
          }
        },
        "7bfab6934dd4449ba43822984045217b": {
          "model_module": "@jupyter-widgets/controls",
          "model_name": "HTMLModel",
          "model_module_version": "1.5.0",
          "state": {
            "_dom_classes": [],
            "_model_module": "@jupyter-widgets/controls",
            "_model_module_version": "1.5.0",
            "_model_name": "HTMLModel",
            "_view_count": null,
            "_view_module": "@jupyter-widgets/controls",
            "_view_module_version": "1.5.0",
            "_view_name": "HTMLView",
            "description": "",
            "description_tooltip": null,
            "layout": "IPY_MODEL_790376b26d734f96a91d65c5316d309c",
            "placeholder": "​",
            "style": "IPY_MODEL_5fab9d1990734776a32b44fed94a0caa",
            "value": "Downloading (…)cial_tokens_map.json: 100%"
          }
        },
        "4696c7d41ad84e66a7657e6b5121f4e3": {
          "model_module": "@jupyter-widgets/controls",
          "model_name": "FloatProgressModel",
          "model_module_version": "1.5.0",
          "state": {
            "_dom_classes": [],
            "_model_module": "@jupyter-widgets/controls",
            "_model_module_version": "1.5.0",
            "_model_name": "FloatProgressModel",
            "_view_count": null,
            "_view_module": "@jupyter-widgets/controls",
            "_view_module_version": "1.5.0",
            "_view_name": "ProgressView",
            "bar_style": "success",
            "description": "",
            "description_tooltip": null,
            "layout": "IPY_MODEL_59bac9c35fc34547a3cb081f6e29fd3a",
            "max": 150,
            "min": 0,
            "orientation": "horizontal",
            "style": "IPY_MODEL_a84ddc1fcee04b1797b5e0a653cfd38c",
            "value": 150
          }
        },
        "d5c6771d01ea4cc1972f77754b291ade": {
          "model_module": "@jupyter-widgets/controls",
          "model_name": "HTMLModel",
          "model_module_version": "1.5.0",
          "state": {
            "_dom_classes": [],
            "_model_module": "@jupyter-widgets/controls",
            "_model_module_version": "1.5.0",
            "_model_name": "HTMLModel",
            "_view_count": null,
            "_view_module": "@jupyter-widgets/controls",
            "_view_module_version": "1.5.0",
            "_view_name": "HTMLView",
            "description": "",
            "description_tooltip": null,
            "layout": "IPY_MODEL_9b6e449c45fa472eb7b69eaee04c26ed",
            "placeholder": "​",
            "style": "IPY_MODEL_3bb9e84d93cc4dd2a3c8a135f1ace99e",
            "value": " 150/150 [00:00&lt;00:00, 11.8kB/s]"
          }
        },
        "8a4842f059744d94a8b7c897f0b8c6e6": {
          "model_module": "@jupyter-widgets/base",
          "model_name": "LayoutModel",
          "model_module_version": "1.2.0",
          "state": {
            "_model_module": "@jupyter-widgets/base",
            "_model_module_version": "1.2.0",
            "_model_name": "LayoutModel",
            "_view_count": null,
            "_view_module": "@jupyter-widgets/base",
            "_view_module_version": "1.2.0",
            "_view_name": "LayoutView",
            "align_content": null,
            "align_items": null,
            "align_self": null,
            "border": null,
            "bottom": null,
            "display": null,
            "flex": null,
            "flex_flow": null,
            "grid_area": null,
            "grid_auto_columns": null,
            "grid_auto_flow": null,
            "grid_auto_rows": null,
            "grid_column": null,
            "grid_gap": null,
            "grid_row": null,
            "grid_template_areas": null,
            "grid_template_columns": null,
            "grid_template_rows": null,
            "height": null,
            "justify_content": null,
            "justify_items": null,
            "left": null,
            "margin": null,
            "max_height": null,
            "max_width": null,
            "min_height": null,
            "min_width": null,
            "object_fit": null,
            "object_position": null,
            "order": null,
            "overflow": null,
            "overflow_x": null,
            "overflow_y": null,
            "padding": null,
            "right": null,
            "top": null,
            "visibility": null,
            "width": null
          }
        },
        "790376b26d734f96a91d65c5316d309c": {
          "model_module": "@jupyter-widgets/base",
          "model_name": "LayoutModel",
          "model_module_version": "1.2.0",
          "state": {
            "_model_module": "@jupyter-widgets/base",
            "_model_module_version": "1.2.0",
            "_model_name": "LayoutModel",
            "_view_count": null,
            "_view_module": "@jupyter-widgets/base",
            "_view_module_version": "1.2.0",
            "_view_name": "LayoutView",
            "align_content": null,
            "align_items": null,
            "align_self": null,
            "border": null,
            "bottom": null,
            "display": null,
            "flex": null,
            "flex_flow": null,
            "grid_area": null,
            "grid_auto_columns": null,
            "grid_auto_flow": null,
            "grid_auto_rows": null,
            "grid_column": null,
            "grid_gap": null,
            "grid_row": null,
            "grid_template_areas": null,
            "grid_template_columns": null,
            "grid_template_rows": null,
            "height": null,
            "justify_content": null,
            "justify_items": null,
            "left": null,
            "margin": null,
            "max_height": null,
            "max_width": null,
            "min_height": null,
            "min_width": null,
            "object_fit": null,
            "object_position": null,
            "order": null,
            "overflow": null,
            "overflow_x": null,
            "overflow_y": null,
            "padding": null,
            "right": null,
            "top": null,
            "visibility": null,
            "width": null
          }
        },
        "5fab9d1990734776a32b44fed94a0caa": {
          "model_module": "@jupyter-widgets/controls",
          "model_name": "DescriptionStyleModel",
          "model_module_version": "1.5.0",
          "state": {
            "_model_module": "@jupyter-widgets/controls",
            "_model_module_version": "1.5.0",
            "_model_name": "DescriptionStyleModel",
            "_view_count": null,
            "_view_module": "@jupyter-widgets/base",
            "_view_module_version": "1.2.0",
            "_view_name": "StyleView",
            "description_width": ""
          }
        },
        "59bac9c35fc34547a3cb081f6e29fd3a": {
          "model_module": "@jupyter-widgets/base",
          "model_name": "LayoutModel",
          "model_module_version": "1.2.0",
          "state": {
            "_model_module": "@jupyter-widgets/base",
            "_model_module_version": "1.2.0",
            "_model_name": "LayoutModel",
            "_view_count": null,
            "_view_module": "@jupyter-widgets/base",
            "_view_module_version": "1.2.0",
            "_view_name": "LayoutView",
            "align_content": null,
            "align_items": null,
            "align_self": null,
            "border": null,
            "bottom": null,
            "display": null,
            "flex": null,
            "flex_flow": null,
            "grid_area": null,
            "grid_auto_columns": null,
            "grid_auto_flow": null,
            "grid_auto_rows": null,
            "grid_column": null,
            "grid_gap": null,
            "grid_row": null,
            "grid_template_areas": null,
            "grid_template_columns": null,
            "grid_template_rows": null,
            "height": null,
            "justify_content": null,
            "justify_items": null,
            "left": null,
            "margin": null,
            "max_height": null,
            "max_width": null,
            "min_height": null,
            "min_width": null,
            "object_fit": null,
            "object_position": null,
            "order": null,
            "overflow": null,
            "overflow_x": null,
            "overflow_y": null,
            "padding": null,
            "right": null,
            "top": null,
            "visibility": null,
            "width": null
          }
        },
        "a84ddc1fcee04b1797b5e0a653cfd38c": {
          "model_module": "@jupyter-widgets/controls",
          "model_name": "ProgressStyleModel",
          "model_module_version": "1.5.0",
          "state": {
            "_model_module": "@jupyter-widgets/controls",
            "_model_module_version": "1.5.0",
            "_model_name": "ProgressStyleModel",
            "_view_count": null,
            "_view_module": "@jupyter-widgets/base",
            "_view_module_version": "1.2.0",
            "_view_name": "StyleView",
            "bar_color": null,
            "description_width": ""
          }
        },
        "9b6e449c45fa472eb7b69eaee04c26ed": {
          "model_module": "@jupyter-widgets/base",
          "model_name": "LayoutModel",
          "model_module_version": "1.2.0",
          "state": {
            "_model_module": "@jupyter-widgets/base",
            "_model_module_version": "1.2.0",
            "_model_name": "LayoutModel",
            "_view_count": null,
            "_view_module": "@jupyter-widgets/base",
            "_view_module_version": "1.2.0",
            "_view_name": "LayoutView",
            "align_content": null,
            "align_items": null,
            "align_self": null,
            "border": null,
            "bottom": null,
            "display": null,
            "flex": null,
            "flex_flow": null,
            "grid_area": null,
            "grid_auto_columns": null,
            "grid_auto_flow": null,
            "grid_auto_rows": null,
            "grid_column": null,
            "grid_gap": null,
            "grid_row": null,
            "grid_template_areas": null,
            "grid_template_columns": null,
            "grid_template_rows": null,
            "height": null,
            "justify_content": null,
            "justify_items": null,
            "left": null,
            "margin": null,
            "max_height": null,
            "max_width": null,
            "min_height": null,
            "min_width": null,
            "object_fit": null,
            "object_position": null,
            "order": null,
            "overflow": null,
            "overflow_x": null,
            "overflow_y": null,
            "padding": null,
            "right": null,
            "top": null,
            "visibility": null,
            "width": null
          }
        },
        "3bb9e84d93cc4dd2a3c8a135f1ace99e": {
          "model_module": "@jupyter-widgets/controls",
          "model_name": "DescriptionStyleModel",
          "model_module_version": "1.5.0",
          "state": {
            "_model_module": "@jupyter-widgets/controls",
            "_model_module_version": "1.5.0",
            "_model_name": "DescriptionStyleModel",
            "_view_count": null,
            "_view_module": "@jupyter-widgets/base",
            "_view_module_version": "1.2.0",
            "_view_name": "StyleView",
            "description_width": ""
          }
        },
        "64014fc1731f4a2cb9d13841d664a5a6": {
          "model_module": "@jupyter-widgets/controls",
          "model_name": "HBoxModel",
          "model_module_version": "1.5.0",
          "state": {
            "_dom_classes": [],
            "_model_module": "@jupyter-widgets/controls",
            "_model_module_version": "1.5.0",
            "_model_name": "HBoxModel",
            "_view_count": null,
            "_view_module": "@jupyter-widgets/controls",
            "_view_module_version": "1.5.0",
            "_view_name": "HBoxView",
            "box_style": "",
            "children": [
              "IPY_MODEL_be8d2efd982c4e22a836be78d42f6d07",
              "IPY_MODEL_c64e972758f44770a89c14013ef960a3",
              "IPY_MODEL_9cdd3ed30aa6450bb8b254e6c361b969"
            ],
            "layout": "IPY_MODEL_db05ace8b67b4281a824bad0f91aef67"
          }
        },
        "be8d2efd982c4e22a836be78d42f6d07": {
          "model_module": "@jupyter-widgets/controls",
          "model_name": "HTMLModel",
          "model_module_version": "1.5.0",
          "state": {
            "_dom_classes": [],
            "_model_module": "@jupyter-widgets/controls",
            "_model_module_version": "1.5.0",
            "_model_name": "HTMLModel",
            "_view_count": null,
            "_view_module": "@jupyter-widgets/controls",
            "_view_module_version": "1.5.0",
            "_view_name": "HTMLView",
            "description": "",
            "description_tooltip": null,
            "layout": "IPY_MODEL_a9554c4bb7c14b7881807c14444b8834",
            "placeholder": "​",
            "style": "IPY_MODEL_ef5efa269cd34e9c9c03f4a79c4cbf7a",
            "value": "Downloading pytorch_model.bin: 100%"
          }
        },
        "c64e972758f44770a89c14013ef960a3": {
          "model_module": "@jupyter-widgets/controls",
          "model_name": "FloatProgressModel",
          "model_module_version": "1.5.0",
          "state": {
            "_dom_classes": [],
            "_model_module": "@jupyter-widgets/controls",
            "_model_module_version": "1.5.0",
            "_model_name": "FloatProgressModel",
            "_view_count": null,
            "_view_module": "@jupyter-widgets/controls",
            "_view_module_version": "1.5.0",
            "_view_name": "ProgressView",
            "bar_style": "success",
            "description": "",
            "description_tooltip": null,
            "layout": "IPY_MODEL_8900a3b9f185476cb9ad53cad429164d",
            "max": 498682569,
            "min": 0,
            "orientation": "horizontal",
            "style": "IPY_MODEL_8e5ca5d5880b40fa873e341fa4c13431",
            "value": 498682569
          }
        },
        "9cdd3ed30aa6450bb8b254e6c361b969": {
          "model_module": "@jupyter-widgets/controls",
          "model_name": "HTMLModel",
          "model_module_version": "1.5.0",
          "state": {
            "_dom_classes": [],
            "_model_module": "@jupyter-widgets/controls",
            "_model_module_version": "1.5.0",
            "_model_name": "HTMLModel",
            "_view_count": null,
            "_view_module": "@jupyter-widgets/controls",
            "_view_module_version": "1.5.0",
            "_view_name": "HTMLView",
            "description": "",
            "description_tooltip": null,
            "layout": "IPY_MODEL_4b619226b06142da99ba4bf441aa7c5d",
            "placeholder": "​",
            "style": "IPY_MODEL_6ccdbcfd58064d0f9b9761fc80917630",
            "value": " 499M/499M [00:14&lt;00:00, 60.6MB/s]"
          }
        },
        "db05ace8b67b4281a824bad0f91aef67": {
          "model_module": "@jupyter-widgets/base",
          "model_name": "LayoutModel",
          "model_module_version": "1.2.0",
          "state": {
            "_model_module": "@jupyter-widgets/base",
            "_model_module_version": "1.2.0",
            "_model_name": "LayoutModel",
            "_view_count": null,
            "_view_module": "@jupyter-widgets/base",
            "_view_module_version": "1.2.0",
            "_view_name": "LayoutView",
            "align_content": null,
            "align_items": null,
            "align_self": null,
            "border": null,
            "bottom": null,
            "display": null,
            "flex": null,
            "flex_flow": null,
            "grid_area": null,
            "grid_auto_columns": null,
            "grid_auto_flow": null,
            "grid_auto_rows": null,
            "grid_column": null,
            "grid_gap": null,
            "grid_row": null,
            "grid_template_areas": null,
            "grid_template_columns": null,
            "grid_template_rows": null,
            "height": null,
            "justify_content": null,
            "justify_items": null,
            "left": null,
            "margin": null,
            "max_height": null,
            "max_width": null,
            "min_height": null,
            "min_width": null,
            "object_fit": null,
            "object_position": null,
            "order": null,
            "overflow": null,
            "overflow_x": null,
            "overflow_y": null,
            "padding": null,
            "right": null,
            "top": null,
            "visibility": null,
            "width": null
          }
        },
        "a9554c4bb7c14b7881807c14444b8834": {
          "model_module": "@jupyter-widgets/base",
          "model_name": "LayoutModel",
          "model_module_version": "1.2.0",
          "state": {
            "_model_module": "@jupyter-widgets/base",
            "_model_module_version": "1.2.0",
            "_model_name": "LayoutModel",
            "_view_count": null,
            "_view_module": "@jupyter-widgets/base",
            "_view_module_version": "1.2.0",
            "_view_name": "LayoutView",
            "align_content": null,
            "align_items": null,
            "align_self": null,
            "border": null,
            "bottom": null,
            "display": null,
            "flex": null,
            "flex_flow": null,
            "grid_area": null,
            "grid_auto_columns": null,
            "grid_auto_flow": null,
            "grid_auto_rows": null,
            "grid_column": null,
            "grid_gap": null,
            "grid_row": null,
            "grid_template_areas": null,
            "grid_template_columns": null,
            "grid_template_rows": null,
            "height": null,
            "justify_content": null,
            "justify_items": null,
            "left": null,
            "margin": null,
            "max_height": null,
            "max_width": null,
            "min_height": null,
            "min_width": null,
            "object_fit": null,
            "object_position": null,
            "order": null,
            "overflow": null,
            "overflow_x": null,
            "overflow_y": null,
            "padding": null,
            "right": null,
            "top": null,
            "visibility": null,
            "width": null
          }
        },
        "ef5efa269cd34e9c9c03f4a79c4cbf7a": {
          "model_module": "@jupyter-widgets/controls",
          "model_name": "DescriptionStyleModel",
          "model_module_version": "1.5.0",
          "state": {
            "_model_module": "@jupyter-widgets/controls",
            "_model_module_version": "1.5.0",
            "_model_name": "DescriptionStyleModel",
            "_view_count": null,
            "_view_module": "@jupyter-widgets/base",
            "_view_module_version": "1.2.0",
            "_view_name": "StyleView",
            "description_width": ""
          }
        },
        "8900a3b9f185476cb9ad53cad429164d": {
          "model_module": "@jupyter-widgets/base",
          "model_name": "LayoutModel",
          "model_module_version": "1.2.0",
          "state": {
            "_model_module": "@jupyter-widgets/base",
            "_model_module_version": "1.2.0",
            "_model_name": "LayoutModel",
            "_view_count": null,
            "_view_module": "@jupyter-widgets/base",
            "_view_module_version": "1.2.0",
            "_view_name": "LayoutView",
            "align_content": null,
            "align_items": null,
            "align_self": null,
            "border": null,
            "bottom": null,
            "display": null,
            "flex": null,
            "flex_flow": null,
            "grid_area": null,
            "grid_auto_columns": null,
            "grid_auto_flow": null,
            "grid_auto_rows": null,
            "grid_column": null,
            "grid_gap": null,
            "grid_row": null,
            "grid_template_areas": null,
            "grid_template_columns": null,
            "grid_template_rows": null,
            "height": null,
            "justify_content": null,
            "justify_items": null,
            "left": null,
            "margin": null,
            "max_height": null,
            "max_width": null,
            "min_height": null,
            "min_width": null,
            "object_fit": null,
            "object_position": null,
            "order": null,
            "overflow": null,
            "overflow_x": null,
            "overflow_y": null,
            "padding": null,
            "right": null,
            "top": null,
            "visibility": null,
            "width": null
          }
        },
        "8e5ca5d5880b40fa873e341fa4c13431": {
          "model_module": "@jupyter-widgets/controls",
          "model_name": "ProgressStyleModel",
          "model_module_version": "1.5.0",
          "state": {
            "_model_module": "@jupyter-widgets/controls",
            "_model_module_version": "1.5.0",
            "_model_name": "ProgressStyleModel",
            "_view_count": null,
            "_view_module": "@jupyter-widgets/base",
            "_view_module_version": "1.2.0",
            "_view_name": "StyleView",
            "bar_color": null,
            "description_width": ""
          }
        },
        "4b619226b06142da99ba4bf441aa7c5d": {
          "model_module": "@jupyter-widgets/base",
          "model_name": "LayoutModel",
          "model_module_version": "1.2.0",
          "state": {
            "_model_module": "@jupyter-widgets/base",
            "_model_module_version": "1.2.0",
            "_model_name": "LayoutModel",
            "_view_count": null,
            "_view_module": "@jupyter-widgets/base",
            "_view_module_version": "1.2.0",
            "_view_name": "LayoutView",
            "align_content": null,
            "align_items": null,
            "align_self": null,
            "border": null,
            "bottom": null,
            "display": null,
            "flex": null,
            "flex_flow": null,
            "grid_area": null,
            "grid_auto_columns": null,
            "grid_auto_flow": null,
            "grid_auto_rows": null,
            "grid_column": null,
            "grid_gap": null,
            "grid_row": null,
            "grid_template_areas": null,
            "grid_template_columns": null,
            "grid_template_rows": null,
            "height": null,
            "justify_content": null,
            "justify_items": null,
            "left": null,
            "margin": null,
            "max_height": null,
            "max_width": null,
            "min_height": null,
            "min_width": null,
            "object_fit": null,
            "object_position": null,
            "order": null,
            "overflow": null,
            "overflow_x": null,
            "overflow_y": null,
            "padding": null,
            "right": null,
            "top": null,
            "visibility": null,
            "width": null
          }
        },
        "6ccdbcfd58064d0f9b9761fc80917630": {
          "model_module": "@jupyter-widgets/controls",
          "model_name": "DescriptionStyleModel",
          "model_module_version": "1.5.0",
          "state": {
            "_model_module": "@jupyter-widgets/controls",
            "_model_module_version": "1.5.0",
            "_model_name": "DescriptionStyleModel",
            "_view_count": null,
            "_view_module": "@jupyter-widgets/base",
            "_view_module_version": "1.2.0",
            "_view_name": "StyleView",
            "description_width": ""
          }
        }
      }
    }
  },
  "cells": [
    {
      "cell_type": "markdown",
      "source": [
        "## Open-ended Task"
      ],
      "metadata": {
        "id": "vA8owx-pwlGv"
      }
    },
    {
      "cell_type": "markdown",
      "source": [
        "Our main research question is: How different meanings of stimuli affect the brain region measured during fMRI.\n",
        "\n",
        "\n",
        "In order to investigate the question in depth, in this project we decided to perform several analyzes for each specific research question"
      ],
      "metadata": {
        "id": "x4cViAcSww3t"
      }
    },
    {
      "cell_type": "markdown",
      "source": [
        "The research question are:\n",
        "1. How the positive or negative context of a sentence or paragraph affects the fMRI measurements and the brain cortical hippocampus.\n",
        "2. Are there diffrent areas of the brain that are activated in every context or stimulation type (eg: happy ,mad ,etc)."
      ],
      "metadata": {
        "id": "V4ltPIV-wt2K"
      }
    },
    {
      "cell_type": "markdown",
      "source": [
        "How the positive or negative context of a sentence or paragraph affects the fMRI measurements"
      ],
      "metadata": {
        "id": "tYFWQbBdw3IZ"
      }
    },
    {
      "cell_type": "markdown",
      "source": [
        "In order to analyze the research question we need to obtain words or sentences labeled \"positive\" or \"negative\" = Sentiment Analysis\n",
        "we used \"Getting Started with Sentiment Analysis using Python\" by HaggingFace"
      ],
      "metadata": {
        "id": "SA9PG5mZw5XF"
      }
    },
    {
      "cell_type": "markdown",
      "source": [
        "#### genreal prep (for both parts )"
      ],
      "metadata": {
        "id": "IlMVAGEpLaB7"
      }
    },
    {
      "cell_type": "markdown",
      "source": [
        "##### install transformer (IMPORTANT )"
      ],
      "metadata": {
        "id": "KlbooT3xJJRg"
      }
    },
    {
      "cell_type": "code",
      "execution_count": 1,
      "metadata": {
        "id": "WRJ6WPIfqPDl",
        "colab": {
          "base_uri": "https://localhost:8080/"
        },
        "outputId": "88b541e3-e0ba-4b7e-d46a-6b37bdc0fc87"
      },
      "outputs": [
        {
          "output_type": "stream",
          "name": "stdout",
          "text": [
            "\u001b[2K     \u001b[90m━━━━━━━━━━━━━━━━━━━━━━━━━━━━━━━━━━━━━━━━\u001b[0m \u001b[32m7.2/7.2 MB\u001b[0m \u001b[31m77.2 MB/s\u001b[0m eta \u001b[36m0:00:00\u001b[0m\n",
            "\u001b[2K     \u001b[90m━━━━━━━━━━━━━━━━━━━━━━━━━━━━━━━━━━━━━━\u001b[0m \u001b[32m236.8/236.8 kB\u001b[0m \u001b[31m26.2 MB/s\u001b[0m eta \u001b[36m0:00:00\u001b[0m\n",
            "\u001b[2K     \u001b[90m━━━━━━━━━━━━━━━━━━━━━━━━━━━━━━━━━━━━━━━━\u001b[0m \u001b[32m7.8/7.8 MB\u001b[0m \u001b[31m122.4 MB/s\u001b[0m eta \u001b[36m0:00:00\u001b[0m\n",
            "\u001b[2K     \u001b[90m━━━━━━━━━━━━━━━━━━━━━━━━━━━━━━━━━━━━━━━━\u001b[0m \u001b[32m1.3/1.3 MB\u001b[0m \u001b[31m83.3 MB/s\u001b[0m eta \u001b[36m0:00:00\u001b[0m\n",
            "\u001b[?25h"
          ]
        }
      ],
      "source": [
        "!pip install -q transformers\n"
      ]
    },
    {
      "cell_type": "markdown",
      "source": [
        "\n",
        "\n",
        "##### loading data"
      ],
      "metadata": {
        "id": "J_YcSxcq3roL"
      }
    },
    {
      "cell_type": "markdown",
      "source": [
        "##### load data"
      ],
      "metadata": {
        "id": "7dDLx5Hlm-JP"
      }
    },
    {
      "cell_type": "code",
      "source": [
        "from sklearn.metrics import accuracy_score\n",
        "from sklearn.linear_model import LogisticRegression\n",
        "from sklearn.linear_model import LinearRegression\n",
        "from sklearn.svm import SVC\n",
        "from sklearn.preprocessing import StandardScaler\n",
        "from sklearn.pipeline import make_pipeline\n",
        "from sklearn.model_selection import train_test_split\n",
        "from sklearn.model_selection import KFold\n",
        "from sklearn.metrics import roc_curve, auc"
      ],
      "metadata": {
        "id": "Ld2t_Dp1gxRi"
      },
      "execution_count": 22,
      "outputs": []
    },
    {
      "cell_type": "code",
      "source": [
        "# loading the pickles files\n",
        "import pickle\n",
        "import copy\n",
        "from google.colab import drive\n",
        "\n",
        "# Mount Google Drive\n",
        "drive.mount('/content/drive')\n",
        "\n",
        "# Specify the file path in your Google Drive\n",
        "file_path2 = '/content/drive/MyDrive/Structured Task (sentence decoding)/EXP2.pkl'\n",
        "file_path3 = '/content/drive/MyDrive/Structured Task (sentence decoding)/EXP3.pkl'\n",
        "# Open and load the file\n",
        "with open(file_path2, 'rb') as f:\n",
        "    exp2 = pickle.load(f)\n",
        "with open(file_path3, 'rb') as f:\n",
        "    exp3 = pickle.load(f)"
      ],
      "metadata": {
        "colab": {
          "base_uri": "https://localhost:8080/"
        },
        "id": "7fyxXEdMqfh5",
        "outputId": "d1b0e625-7b0d-4cc5-ae7a-3b36d16d58fe"
      },
      "execution_count": 2,
      "outputs": [
        {
          "output_type": "stream",
          "name": "stdout",
          "text": [
            "Mounted at /content/drive\n"
          ]
        }
      ]
    },
    {
      "cell_type": "code",
      "source": [
        "# getting the vectors, concepts (sentences) and the data\n",
        "#data2\n",
        "import numpy as np\n",
        "with open('/content/drive/MyDrive/Structured Task (sentence decoding)/vectors_384sentences.GV42B300.average.txt', 'r') as file:\n",
        "    content = file.readlines()\n",
        "vectors2 = np.array([row.split() for row in content])\n",
        "\n",
        "concepts2 = exp2['keySentences']\n",
        "data2 = exp2[\"Fmridata\"]\n",
        "\n",
        "#data3\n",
        "with open('/content/drive/MyDrive/Structured Task (sentence decoding)/vectors_243sentences.GV42B300.average.txt', 'r') as file:\n",
        "    content = file.readlines()\n",
        "vectors3 = np.array([row.split() for row in content])\n",
        "\n",
        "concepts3 = exp3['keySentences']\n",
        "data3 = exp3[\"Fmridata\"]"
      ],
      "metadata": {
        "id": "p7tnBbR_qhbA"
      },
      "execution_count": 3,
      "outputs": []
    },
    {
      "cell_type": "code",
      "source": [
        "# cobining both experiments to get larger data\n",
        "concepts_c = []\n",
        "for i in range(len(concepts2)):\n",
        "    concepts_c.append(concepts2[i][0][0])\n",
        "for i in range(len(concepts3)):\n",
        "    concepts_c.append(concepts3[i][0][0])\n",
        "\n",
        "vectors_c = np.append(vectors2, vectors3, axis =0)\n",
        "data_c = np.append(data2, data3, axis =0)"
      ],
      "metadata": {
        "id": "jGthQHV1qoMU"
      },
      "execution_count": 4,
      "outputs": []
    },
    {
      "cell_type": "code",
      "source": [
        "## make sure to load file before running\n",
        "loaded_array = np.load('active_voxels_from_unstruct (1).npy')\n",
        "active_voxels= data_c[:,loaded_array[0]]\n",
        "active_voxels.shape"
      ],
      "metadata": {
        "colab": {
          "base_uri": "https://localhost:8080/"
        },
        "id": "wgU6DLTD6LbT",
        "outputId": "04c92a45-5666-42a8-e5d6-e745fec80006"
      },
      "execution_count": 70,
      "outputs": [
        {
          "output_type": "execute_result",
          "data": {
            "text/plain": [
              "(627, 512)"
            ]
          },
          "metadata": {},
          "execution_count": 70
        }
      ]
    },
    {
      "cell_type": "markdown",
      "source": [
        "##### loading decoder model"
      ],
      "metadata": {
        "id": "_prpj3H5UQjn"
      }
    },
    {
      "cell_type": "code",
      "source": [
        "!wget --load-cookies /tmp/cookies.txt \"https://docs.google.com/uc?export=download&confirm=$(wget --quiet --save-cookies /tmp/cookies.txt --keep-session-cookies --no-check-certificate 'https://docs.google.com/uc?export=download&id=1xZaorRH-xxjfochvSesAhOTUg82_Xq56' -O- | sed -rn 's/.*confirm=([0-9A-Za-z_]+).*/\\1\\n/p')&id=1xZaorRH-xxjfochvSesAhOTUg82_Xq56\" -O files.zip && rm -rf /tmp/cookies.txt\n",
        "!unzip files.zip\n",
        "!rm files.zip"
      ],
      "metadata": {
        "colab": {
          "base_uri": "https://localhost:8080/"
        },
        "id": "o4ctgriJrAWE",
        "outputId": "ca84e781-6271-4a23-f3ee-658ff82c8006"
      },
      "execution_count": 6,
      "outputs": [
        {
          "output_type": "stream",
          "name": "stdout",
          "text": [
            "--2023-07-02 12:07:19--  https://docs.google.com/uc?export=download&confirm=t&id=1xZaorRH-xxjfochvSesAhOTUg82_Xq56\n",
            "Resolving docs.google.com (docs.google.com)... 142.250.99.138, 142.250.99.113, 142.250.99.100, ...\n",
            "Connecting to docs.google.com (docs.google.com)|142.250.99.138|:443... connected.\n",
            "HTTP request sent, awaiting response... 303 See Other\n",
            "Location: https://doc-0g-54-docs.googleusercontent.com/docs/securesc/ha0ro937gcuc7l7deffksulhg5h7mbp1/4jjkldneljh963f7te163r3vtudcepmf/1688299575000/01333689271208460322/*/1xZaorRH-xxjfochvSesAhOTUg82_Xq56?e=download&uuid=2bceab88-4ef3-483d-927d-2040984a6144 [following]\n",
            "Warning: wildcards not supported in HTTP.\n",
            "--2023-07-02 12:07:20--  https://doc-0g-54-docs.googleusercontent.com/docs/securesc/ha0ro937gcuc7l7deffksulhg5h7mbp1/4jjkldneljh963f7te163r3vtudcepmf/1688299575000/01333689271208460322/*/1xZaorRH-xxjfochvSesAhOTUg82_Xq56?e=download&uuid=2bceab88-4ef3-483d-927d-2040984a6144\n",
            "Resolving doc-0g-54-docs.googleusercontent.com (doc-0g-54-docs.googleusercontent.com)... 74.125.199.132, 2607:f8b0:400e:c02::84\n",
            "Connecting to doc-0g-54-docs.googleusercontent.com (doc-0g-54-docs.googleusercontent.com)|74.125.199.132|:443... connected.\n",
            "HTTP request sent, awaiting response... 200 OK\n",
            "Length: 97708666 (93M) [application/x-zip-compressed]\n",
            "Saving to: ‘files.zip’\n",
            "\n",
            "files.zip           100%[===================>]  93.18M  88.1MB/s    in 1.1s    \n",
            "\n",
            "2023-07-02 12:07:21 (88.1 MB/s) - ‘files.zip’ saved [97708666/97708666]\n",
            "\n",
            "Archive:  files.zip\n",
            "  inflating: stimuli_180concepts.txt  \n",
            "  inflating: learn_decoder.py        \n",
            "  inflating: vectors_180concepts.GV42B300.txt  \n",
            "  inflating: imaging_data.csv        \n"
          ]
        }
      ]
    },
    {
      "cell_type": "markdown",
      "source": [
        "### First research question - Sentiment Analysis"
      ],
      "metadata": {
        "id": "ls2DlbsQw0xn"
      }
    },
    {
      "cell_type": "markdown",
      "source": [
        "#####load model"
      ],
      "metadata": {
        "id": "tXCAwAmFmxfD"
      }
    },
    {
      "cell_type": "code",
      "source": [
        "from transformers import AutoModelForSequenceClassification\n",
        "from transformers import TFAutoModelForSequenceClassification\n",
        "from transformers import AutoTokenizer\n",
        "import numpy as np\n",
        "from scipy.special import softmax\n",
        "import csv\n",
        "import urllib.request\n",
        "\n",
        "# Preprocess text (username and link placeholders)\n",
        "def preprocess(text):\n",
        "    new_text = []\n",
        "\n",
        "\n",
        "    for t in text.split(\" \"):\n",
        "        t = '@user' if t.startswith('@') and len(t) > 1 else t\n",
        "        t = 'http' if t.startswith('http') else t\n",
        "        new_text.append(t)\n",
        "    return \" \".join(new_text)\n",
        "\n",
        "# Tasks:\n",
        "# emoji, emotion, hate, irony, offensive, sentiment\n",
        "# stance/abortion, stance/atheism, stance/climate, stance/feminist, stance/hillary\n",
        "\n",
        "task='sentiment'\n",
        "MODEL = f\"cardiffnlp/twitter-roberta-base-{task}\"\n",
        "\n",
        "tokenizer = AutoTokenizer.from_pretrained(MODEL)\n"
      ],
      "metadata": {
        "id": "wfVgsKU-qbys",
        "colab": {
          "base_uri": "https://localhost:8080/",
          "height": 145,
          "referenced_widgets": [
            "4e20dd59a1bd4ff19fa53f807a828cfa",
            "0796f6d67cca484695c04143f1276928",
            "40fa87f38af547879d4181291ae3b4b7",
            "f5b03027d03e4f18bae7ddbf417021dd",
            "b6bad8aebcb84dab810a6edf18281ef3",
            "4b51dd6639d84f24891a38395b83cd69",
            "c64878d1ac8b42d1885d50c45067beb0",
            "e87b9c06fc6243a99597247226ef1c30",
            "ce7cde4add1045d2a74651b8918f50e3",
            "933be03ddd6d4734a16369f352e930a5",
            "bbb88bb7480449cabce1da40ee3cba49",
            "d3e0e662d07243c8a8521892a4f1081d",
            "42e218fc46d349c887ece9f07feb45ff",
            "6c16f52e3046476298dc778c69849984",
            "c9d8a5837db04262af57d8da0fde84ca",
            "6df2d7c3cab94fdca97edc9925f8beca",
            "628ac43137f44699bffe987e83280f78",
            "55dbf4fd32654f0b96b6acf9962e2e84",
            "6023704c865644ee9833aefd81fbd653",
            "a45c057910034a1e93280334ecb7bbce",
            "046deeb30f9d4e449e2c19da77da1468",
            "9ea4253505d14182ab941dc833bed16f",
            "9359b71e05a74e5ebccf70c7ba2691c3",
            "f41d0d3b6f4b48358aba0863f9c47144",
            "746c2d02a2bd4e6a99101dd8469cd38f",
            "7038a725f6344c7eafd41482d426e689",
            "bfdc0772fce4492987eb99ec17da1479",
            "59294ff890b8442a9b93f647f3d19002",
            "257c92f37cc2451fbf9b9903afb18559",
            "6040a5a3d2e949e2b91e8892b58bc405",
            "b9aeb18115de40009e97febe3e73ed66",
            "2b9ddebe9a554034ae0ffbe92d9e4553",
            "4c402b48dfec4f75a039ef5cd46778aa",
            "74034a3b6e9942e4b24c0dcb92d93e44",
            "5f534ea6769040278e582daf51d1f703",
            "e744fb3acfab4333985d537d268c56db",
            "b070f0c07de94ae08bac67b6949655ce",
            "5d54f3763eec4734904ed879b8552965",
            "06bc170ee2c44f4897a0be65093f4ac2",
            "b3e2bc38c7c94a0487aa44cf69a7ed03",
            "d274a424b46b4ad59c9cb9e6778f7cfa",
            "21ea6ac6c4f8430f8e92186020a297ed",
            "16829b1decf94348bbfdd370b568c62d",
            "3318b0859df4415ea17e65a7d5ad6c57"
          ]
        },
        "outputId": "ac911740-50b1-4a55-fe2e-f2d312a2ab0a"
      },
      "execution_count": 7,
      "outputs": [
        {
          "output_type": "display_data",
          "data": {
            "text/plain": [
              "Downloading (…)lve/main/config.json:   0%|          | 0.00/747 [00:00<?, ?B/s]"
            ],
            "application/vnd.jupyter.widget-view+json": {
              "version_major": 2,
              "version_minor": 0,
              "model_id": "4e20dd59a1bd4ff19fa53f807a828cfa"
            }
          },
          "metadata": {}
        },
        {
          "output_type": "display_data",
          "data": {
            "text/plain": [
              "Downloading (…)olve/main/vocab.json:   0%|          | 0.00/899k [00:00<?, ?B/s]"
            ],
            "application/vnd.jupyter.widget-view+json": {
              "version_major": 2,
              "version_minor": 0,
              "model_id": "d3e0e662d07243c8a8521892a4f1081d"
            }
          },
          "metadata": {}
        },
        {
          "output_type": "display_data",
          "data": {
            "text/plain": [
              "Downloading (…)olve/main/merges.txt:   0%|          | 0.00/456k [00:00<?, ?B/s]"
            ],
            "application/vnd.jupyter.widget-view+json": {
              "version_major": 2,
              "version_minor": 0,
              "model_id": "9359b71e05a74e5ebccf70c7ba2691c3"
            }
          },
          "metadata": {}
        },
        {
          "output_type": "display_data",
          "data": {
            "text/plain": [
              "Downloading (…)cial_tokens_map.json:   0%|          | 0.00/150 [00:00<?, ?B/s]"
            ],
            "application/vnd.jupyter.widget-view+json": {
              "version_major": 2,
              "version_minor": 0,
              "model_id": "74034a3b6e9942e4b24c0dcb92d93e44"
            }
          },
          "metadata": {}
        }
      ]
    },
    {
      "cell_type": "code",
      "source": [
        "\n",
        "# download label mapping\n",
        "labels=[]\n",
        "mapping_link = f\"https://raw.githubusercontent.com/cardiffnlp/tweeteval/main/datasets/{task}/mapping.txt\"\n",
        "with urllib.request.urlopen(mapping_link) as f:\n",
        "    html = f.read().decode('utf-8').split(\"\\n\")\n",
        "    csvreader = csv.reader(html, delimiter='\\t')\n",
        "labels = [row[1] for row in csvreader if len(row) > 1]\n",
        "\n",
        "# PT\n",
        "model = AutoModelForSequenceClassification.from_pretrained(MODEL)\n",
        "model.save_pretrained(MODEL)\n"
      ],
      "metadata": {
        "colab": {
          "base_uri": "https://localhost:8080/",
          "height": 49,
          "referenced_widgets": [
            "5ac8b7217fec464e9b84e368f5edb52b",
            "edb70dc364ee4eacaa9d7a72f7c69f6a",
            "65a2a6d210294976948a22fbf8054e3c",
            "ea3bd5d28b2a419897283d0291e8b3fc",
            "01d536d7ee8d4da085c44d2bd007e621",
            "1ba57af516be4e7681f7a51b0a532aec",
            "f1f0cc6175ce4a6593c779b2794a77b9",
            "4910e2bb5a83489b99c9089d84ab7768",
            "36b872c9afb14adba1002787c213bfa7",
            "8e05ff9fabe04392be2b97ee97465b31",
            "259eca6657db45d6b39e9c12bb54ab74"
          ]
        },
        "id": "Y-L3PvH9U46v",
        "outputId": "fe521b1a-d1b4-44c6-bc0d-c8f556ba26e2"
      },
      "execution_count": 8,
      "outputs": [
        {
          "output_type": "display_data",
          "data": {
            "text/plain": [
              "Downloading pytorch_model.bin:   0%|          | 0.00/499M [00:00<?, ?B/s]"
            ],
            "application/vnd.jupyter.widget-view+json": {
              "version_major": 2,
              "version_minor": 0,
              "model_id": "5ac8b7217fec464e9b84e368f5edb52b"
            }
          },
          "metadata": {}
        }
      ]
    },
    {
      "cell_type": "markdown",
      "source": [
        "#### labeling data"
      ],
      "metadata": {
        "id": "5ZLalXjPKdFS"
      }
    },
    {
      "cell_type": "code",
      "source": [
        "#this function return the lable according to the huggingface algorithem\n",
        "def get_lable(text):\n",
        "  encoded_input = tokenizer(text, return_tensors='pt')\n",
        "  output = model(**encoded_input)\n",
        "  scores = output[0][0].detach().numpy()\n",
        "  sscores = softmax(scores)\n",
        "  ranking = np.argsort(sscores)\n",
        "  ranking = ranking[::-1]\n",
        "  l = labels[ranking[0]]\n",
        "  return l ,sscores"
      ],
      "metadata": {
        "id": "G8on8-I1rUYg"
      },
      "execution_count": 9,
      "outputs": []
    },
    {
      "cell_type": "code",
      "source": [
        "concepts_cop = []\n",
        "vectors_cop = []\n",
        "data_cop = []\n",
        "data_part2 = np.zeros((157,len(data2[0])))\n",
        "labels_part2 = np.zeros(157)\n",
        "scores_c=[]"
      ],
      "metadata": {
        "id": "rkPmwiE3tThQ"
      },
      "execution_count": 10,
      "outputs": []
    },
    {
      "cell_type": "code",
      "source": [
        "#getting the lables for each text and emove neutral as it is not relevent in this experiment\n",
        "vectors_dict = {}\n",
        "concepts_dict = {}\n",
        "x = 0\n",
        "for i in range(len(concepts_c)):\n",
        "  vec = vectors_c[i]\n",
        "  con = concepts_c[i]\n",
        "  d = data_c[i]\n",
        "  l ,scores= get_lable(con)\n",
        "  scores_c.append(scores)\n",
        "  if l != \"neutral\":\n",
        "    data_cop.append(d)\n",
        "    vectors_cop.append(vec)\n",
        "    concepts_cop.append(con)\n",
        "    string_vec = np.array2string(vec)\n",
        "    vectors_dict[string_vec] = l\n",
        "    concepts_dict[con] = {\"true_lable\": l, \"predict\": None}\n",
        "    data_part2[x] = d\n",
        "    labels_part2[x] = (1 if l == \"positive\" else 0)\n",
        "    x+=1\n"
      ],
      "metadata": {
        "id": "3KNL_vlWrGjD"
      },
      "execution_count": 11,
      "outputs": []
    },
    {
      "cell_type": "markdown",
      "source": [
        "#### quickly test if there is a signifact diffrenace between the two catagories"
      ],
      "metadata": {
        "id": "FU9LCyajVu9g"
      }
    },
    {
      "cell_type": "code",
      "source": [
        "# we define strong conaction being 3 times more actice than other voxels\n",
        "alpha =3"
      ],
      "metadata": {
        "id": "xqaKnAV5WuqT"
      },
      "execution_count": 12,
      "outputs": []
    },
    {
      "cell_type": "code",
      "source": [
        "scores_c =np.array(scores_c)\n",
        "s0 = scores_c[:,0]\n",
        "s2 = scores_c[:,2]"
      ],
      "metadata": {
        "id": "fq8cdWvMW3I6"
      },
      "execution_count": 13,
      "outputs": []
    },
    {
      "cell_type": "code",
      "source": [
        "allsum = np.sum(data_c,axis=0)\n",
        "allcount=len(data_c)\n",
        "mask = np.array(s0) > 0.5\n",
        "negsum = np.sum(data_c[mask],axis=0)\n",
        "negcount = np.count_nonzero(mask)\n",
        "mask = np.array(s2) > 0.5\n",
        "possum = np.sum(data_c[mask],axis=0)\n",
        "poscount = np.count_nonzero(mask)\n",
        "diffneg = negsum/negcount - (allsum-negsum)/(allcount-negcount)\n",
        "diffpos = possum/poscount - (allsum-possum)/(allcount-poscount)\n",
        "mean_abs = np.mean(np.abs(allsum)) /allcount\n",
        "posabove = np.where(diffpos >alpha*mean_abs )[0]\n",
        "posbelow = np.where(diffpos <-alpha*mean_abs )[0]\n",
        "negabove = np.where(diffneg >alpha*mean_abs )[0]\n",
        "negbelow = np.where(diffneg <-alpha*mean_abs )[0]\n",
        "uni_acti_voxels =np.unique( np.concatenate((posabove,posbelow,negabove,negbelow)) )\n",
        "print(\"the amount of voxels with strong reaction to sementive stimuli :\", len(uni_acti_voxels))"
      ],
      "metadata": {
        "colab": {
          "base_uri": "https://localhost:8080/"
        },
        "id": "LC6raXQtXZ4Y",
        "outputId": "e7368113-bb0e-4a60-830a-277d4ab6463a"
      },
      "execution_count": 69,
      "outputs": [
        {
          "output_type": "stream",
          "name": "stdout",
          "text": [
            "the amount of voxels with strong reaction to sementive stimuli : 482\n"
          ]
        }
      ]
    },
    {
      "cell_type": "markdown",
      "source": [
        "##### strong areas in 3D brain graph"
      ],
      "metadata": {
        "id": "lvwz3_X_XiNY"
      }
    },
    {
      "cell_type": "code",
      "source": [
        "#todo # was advised to drop this graph due to brain normolzation done to data complecations"
      ],
      "metadata": {
        "id": "MBHHhGl7Xqv_"
      },
      "execution_count": 15,
      "outputs": []
    },
    {
      "cell_type": "markdown",
      "source": [
        "#### K-nearest nighbors , to test is catagories are similar to each other"
      ],
      "metadata": {
        "id": "mVsNtw9VUVpW"
      }
    },
    {
      "cell_type": "code",
      "source": [
        "from learn_decoder import *\n",
        "\n",
        "#seems to be unsed\n",
        "#data = read_matrix(\"imaging_data.csv\", sep=\",\")\n",
        "#vectors = read_matrix(\"vectors_180concepts.GV42B300.txt\", sep=\" \")\n",
        "#concepts = np.genfromtxt('stimuli_180concepts.txt', dtype=np.dtype('U')) #The names of the 180 concepts"
      ],
      "metadata": {
        "id": "_0cxOU55q8hg"
      },
      "execution_count": 16,
      "outputs": []
    },
    {
      "cell_type": "code",
      "source": [
        "# we will have 13 folds each have 12 sentences we will calcaulate M each time and get the neg/pos according to the first k closest vectors\n",
        "#elad 20/6/23 should be avoided ( has many pre programed numbers )\n",
        "def k13_fold(data, vectors):\n",
        "  # constant numbers\n",
        "  NUM_K = 13\n",
        "  NUM_IN_GROUP = 12\n",
        "  NUM_CONCEPTS = 300\n",
        "  NUM_V = 185866\n",
        "  #creating empty arrays\n",
        "  split_data = np.zeros((NUM_K,NUM_IN_GROUP,NUM_V))\n",
        "  split_vectors = np.zeros((NUM_K,NUM_IN_GROUP,NUM_CONCEPTS))\n",
        "  j = 0\n",
        "  for i in range(0,156,12):\n",
        "      split_data[j] = data[i:i+12]\n",
        "      split_vectors[j] = vectors[i:i+12]\n",
        "      j += 1\n",
        "  return split_data, split_vectors"
      ],
      "metadata": {
        "id": "SNa7Ej3bxUmx"
      },
      "execution_count": 17,
      "outputs": []
    },
    {
      "cell_type": "code",
      "source": [
        "# function that computes rank-based accuracy score.\n",
        "# it gets v, v_hat and the 156 true semantic vectors\n",
        "# it calculate the ranking for this vector\n",
        "from sklearn.metrics.pairwise import cosine_similarity\n",
        "\n",
        "def calculate_lable(v, v_hat, vectors,K, vectors_dict):\n",
        "  count_dict = {\"positive\": 0, \"negative\": 0}\n",
        "  simularity_array = []\n",
        "  for vec in vectors:\n",
        "    simu = cosine_similarity([vec] , [v_hat])\n",
        "    simularity_array.append([simu,vec])\n",
        "    sorted_list = sorted(simularity_array, key=lambda x: x[0],reverse=True)\n",
        "\n",
        "  K_nearest = sorted_list[:K]\n",
        "  for k in range(K):\n",
        "    vec = K_nearest[k][1]\n",
        "    string_vec = np.array2string(vec)\n",
        "    l = vectors_dict[string_vec]\n",
        "    count_dict[l] += 1\n",
        "  sum = count_dict[\"positive\"] + count_dict[\"negative\"]\n",
        "  if (count_dict[\"positive\"] / sum ) > 0.5:\n",
        "    return \"positive\"\n",
        "  else:\n",
        "    return \"negative\"\n"
      ],
      "metadata": {
        "id": "hWvZAJBWye3X"
      },
      "execution_count": 18,
      "outputs": []
    },
    {
      "cell_type": "code",
      "source": [
        "# function to go over the 18 folds and do the calculation for the graphs\n",
        "import copy\n",
        "\n",
        "def get_prdiction(data,vectors,concepts,vectors_dict,concepts_dict,num_nei):\n",
        "  kf = KFold(n_splits=13)\n",
        "  if not isinstance(data, np.ndarray):\n",
        "    data= np.array(data)\n",
        "  if not isinstance(vectors, np.ndarray):\n",
        "    vectors= np.array(vectors)\n",
        "  if not isinstance(concepts, np.ndarray):\n",
        "    concepts= np.array(concepts)\n",
        "  #split_data, split_vectors = k13_fold(data,vectors)\n",
        "\n",
        "  score_for_concept = {}\n",
        "  score_for_fold = {}\n",
        "  for train_index, test_index in kf.split(data):\n",
        "    train_set_data, test_set_data = data[train_index], data[test_index]\n",
        "    train_set_vectors, test_set_vectors = vectors[train_index] ,vectors[test_index]\n",
        "    train_set_labels , test_set_labels = concepts[train_index] ,concepts[test_index]\n",
        "\n",
        "    #caculate M:\n",
        "    M = learn_decoder(train_set_data,train_set_vectors)\n",
        "\n",
        "    #go over the test set and compute the lable\n",
        "    for j in range(len(test_index)):\n",
        "      temp_v = test_set_data[j]\n",
        "      lable = test_set_labels[j]\n",
        "      v_hat = np.dot(temp_v, M)\n",
        "      v = test_set_vectors[j]\n",
        "      pred_lab =  calculate_lable(v, v_hat, vectors, num_nei, vectors_dict)\n",
        "      concepts_dict[lable][\"predict\"] = pred_lab\n",
        "\n",
        "  return concepts_dict\n",
        "\n"
      ],
      "metadata": {
        "id": "fpHDeIDpy544"
      },
      "execution_count": 19,
      "outputs": []
    },
    {
      "cell_type": "markdown",
      "source": [
        "##### run K-nearest model"
      ],
      "metadata": {
        "id": "pTzjvdrSUeeo"
      }
    },
    {
      "cell_type": "code",
      "source": [
        "#use pca to remove noise:\n",
        "import numpy as np\n",
        "from sklearn.decomposition import PCA\n",
        "number_to_represnt_the_brain_and_life_as_a_whole =100\n",
        "pca = PCA(n_components=number_to_represnt_the_brain_and_life_as_a_whole)\n",
        "pcaData = pca.fit_transform(data_cop)\n",
        "\n",
        "#test pca\n",
        "import matplotlib.pyplot as plt\n",
        "from sklearn.decomposition import PCA\n",
        "\n",
        "# Calculate variance explained by each principal component\n",
        "variance_explained = pca.explained_variance_ratio_\n",
        "\n",
        "# Calculate cumulative variance explained\n",
        "cumulative_variance_explained = np.cumsum(variance_explained)\n",
        "\n",
        "print(\"###### total cumulative variance \", cumulative_variance_explained[-1])"
      ],
      "metadata": {
        "colab": {
          "base_uri": "https://localhost:8080/"
        },
        "id": "1YNBLIHIF0Df",
        "outputId": "a7d6aaf1-e323-4061-d8b3-3dbf563f72b2"
      },
      "execution_count": 20,
      "outputs": [
        {
          "output_type": "stream",
          "name": "stdout",
          "text": [
            "###### total cumulative variance  0.9411268958585977\n"
          ]
        }
      ]
    },
    {
      "cell_type": "code",
      "source": [
        "#pred_dict = get_prdiction(data_cop,vectors_cop,concepts_cop, vectors_dict,concepts_dict,5)\n",
        "pred_dict = get_prdiction(pcaData,vectors_cop,concepts_cop, vectors_dict,concepts_dict,19)"
      ],
      "metadata": {
        "id": "MMhsEDUnzNU-"
      },
      "execution_count": 23,
      "outputs": []
    },
    {
      "cell_type": "code",
      "source": [
        "# getting the accuracy score for each semantic\n",
        "label_counts = {\n",
        "    'positive': {'total': 0, 'correct': 0},\n",
        "    'negative': {'total': 0, 'correct': 0},\n",
        "}\n",
        "acc_dict = {'positive': 0,\n",
        "    'negative': 0}\n",
        "\n",
        "for key in pred_dict.keys():\n",
        "    true_label = pred_dict[key]['true_lable']\n",
        "    predicted_label = pred_dict[key]['predict']\n",
        "\n",
        "    label_counts[true_label]['total'] += 1\n",
        "\n",
        "    if true_label == predicted_label:\n",
        "        label_counts[true_label]['correct'] += 1\n",
        "\n",
        "for label, counts in label_counts.items():\n",
        "    accuracy = counts['correct'] / counts['total'] * 100 if counts['total'] > 0 else 0\n",
        "    acc_dict[label] = accuracy\n",
        "print(acc_dict)\n",
        "    # print(f\"Label: {label}, Accuracy: {accuracy:.2f}% k is: {5}\",)"
      ],
      "metadata": {
        "colab": {
          "base_uri": "https://localhost:8080/"
        },
        "id": "XvV8H_0o1R_M",
        "outputId": "77556704-6961-4e12-d965-e003b845336c"
      },
      "execution_count": 24,
      "outputs": [
        {
          "output_type": "stream",
          "name": "stdout",
          "text": [
            "{'positive': 41.07142857142857, 'negative': 83.16831683168317}\n"
          ]
        }
      ]
    },
    {
      "cell_type": "markdown",
      "source": [
        "##### results"
      ],
      "metadata": {
        "id": "SX1PYPfAYD88"
      }
    },
    {
      "cell_type": "code",
      "source": [
        "import matplotlib.pyplot as plt\n",
        "\n",
        "labels = list(acc_dict.keys())\n",
        "values = list(acc_dict.values())\n",
        "colors = ['green', 'red']\n",
        "plt.bar(labels, values, color=colors)\n",
        "plt.xlabel(\"Sentiment\")\n",
        "plt.ylabel(\"accuracy in %\")\n",
        "plt.title(\"Sentiment Analysis\")\n",
        "\n",
        "plt.show()\n"
      ],
      "metadata": {
        "colab": {
          "base_uri": "https://localhost:8080/",
          "height": 472
        },
        "id": "ogO-b7L31qtK",
        "outputId": "4e4ac1bc-98e2-4efd-df44-0900dc570cf7"
      },
      "execution_count": 25,
      "outputs": [
        {
          "output_type": "display_data",
          "data": {
            "text/plain": [
              "<Figure size 640x480 with 1 Axes>"
            ],
            "image/png": "[encoded data removed]"
          },
          "metadata": {}
        }
      ]
    },
    {
      "cell_type": "markdown",
      "source": [
        "**conclution for first analysis:**\n",
        "we got 87.1% for prediction of \"negative\" and 44.6% for \"positive\"\n"
      ],
      "metadata": {
        "id": "3RauA1XE32XJ"
      }
    },
    {
      "cell_type": "markdown",
      "source": [
        "#### testing threshhold for strong sitemint using logistic regreastion"
      ],
      "metadata": {
        "id": "yE5DV1KrYpmZ"
      }
    },
    {
      "cell_type": "markdown",
      "source": [
        "##### pre for labeling"
      ],
      "metadata": {
        "id": "7qN9Rs98Y_Ug"
      }
    },
    {
      "cell_type": "code",
      "source": [
        "def TrueFalseTest(y_test, y_pred):\n",
        "  tp_fp_fn_tn =[0,0,0,0]\n",
        "  for test,pred in zip(y_test, y_pred ):\n",
        "    if test:\n",
        "      if pred:\n",
        "        tp_fp_fn_tn[0]+=1 #true postive\n",
        "      else:\n",
        "        tp_fp_fn_tn[2]+=1\n",
        "    else:\n",
        "      if pred:\n",
        "        tp_fp_fn_tn[1]+=1 # false posite\n",
        "      else:\n",
        "        tp_fp_fn_tn[3]+=1\n",
        "  if tp_fp_fn_tn[0]==0:\n",
        "    return 0\n",
        "  return tp_fp_fn_tn[0]/(tp_fp_fn_tn[0]+0.2*tp_fp_fn_tn[1] +0.8*tp_fp_fn_tn[2])\n",
        "  #print(\"TP:\",tp_fp_fn_tn[0],\"FP:\",tp_fp_fn_tn[2],\"FN:\",tp_fp_fn_tn[1],\"TN:\",tp_fp_fn_tn[3] )"
      ],
      "metadata": {
        "id": "GPwnbY0oZCdA"
      },
      "execution_count": 26,
      "outputs": []
    },
    {
      "cell_type": "markdown",
      "source": [
        "##### classification test based on streangth"
      ],
      "metadata": {
        "id": "eBOJdeBTZSBB"
      }
    },
    {
      "cell_type": "code",
      "source": [
        "sc=np.array(scores_c).T\n",
        "sc.shape"
      ],
      "metadata": {
        "colab": {
          "base_uri": "https://localhost:8080/"
        },
        "id": "wZId0UR17J0-",
        "outputId": "0ac86ea5-87a2-4558-97de-f268f5a61d47"
      },
      "execution_count": 27,
      "outputs": [
        {
          "output_type": "execute_result",
          "data": {
            "text/plain": [
              "(3, 627)"
            ]
          },
          "metadata": {},
          "execution_count": 27
        }
      ]
    },
    {
      "cell_type": "code",
      "source": [
        "def  classification_strong_test(is_label):\n",
        "  data_type = np.array(active_voxels)\n",
        "  data_copy=data_type\n",
        "  over_sample_ratio= 0.1\n",
        "  accur_per_fold =[]\n",
        "  strangth =[]\n",
        "  tprr=[]\n",
        "  fprr=[]\n",
        "  for  i in range(1,10):\n",
        "    strong=0.1 *i\n",
        "    strong_positve = is_label >strong\n",
        "\n",
        "    num_strong =np.count_nonzero(strong_positve)\n",
        "    num_waek =len(is_label)-num_strong\n",
        "    #### over smaple\n",
        "    cur_r = num_strong/ len(is_label)\n",
        "    if not cur_r:\n",
        "      continue\n",
        "    strangth.append(\"At \"+str(round(strong,2)))\n",
        "    over_by = int(np.floor(0.9+(over_sample_ratio-cur_r)/cur_r))\n",
        "    over_by=0\n",
        "    if over_by:\n",
        "      to_tile=data_copy[strong_positve]\n",
        "      tiled_arr = np.repeat(to_tile,over_by,axis=0)\n",
        "      data_type = np.concatenate((data_copy,tiled_arr))\n",
        "      array = np.ones(len(data_type)-len(strong_positve), dtype=bool)\n",
        "      strong_positve = np.concatenate((strong_positve,array))\n",
        "    ###\n",
        "    #X, y = np.array(data_c) , np.array(strong_positve)\n",
        "    X , y = np.array(data_type) , np.array(strong_positve)\n",
        "    kf = KFold(n_splits=7)\n",
        "    tempA=[]\n",
        "    tempF=[]\n",
        "    tempWP =[]\n",
        "    TP=0\n",
        "    FP=0\n",
        "    TN=0\n",
        "    FN=0\n",
        "    for train_index, test_index in kf.split(y):\n",
        "      X_train, X_test=X[train_index], X[test_index]\n",
        "      y_train, y_test =y[train_index], y[test_index]\n",
        "      model = LogisticRegression(max_iter=10000) #12 sec\n",
        "      model.fit(X_train, y_train)\n",
        "      y_pred = model.predict(X_test)\n",
        "      tempWP.append((len(s2)-np.count_nonzero(y_pred))/len(is_label))\n",
        "      tempA.append( accuracy_score(y_test, y_pred))\n",
        "      tempF.append(TrueFalseTest(y_test, y_pred))\n",
        "      TP+=np.count_nonzero(np.logical_and(y_test, y_pred))\n",
        "      FP+=np.count_nonzero(np.logical_and((y_test==False), y_pred))\n",
        "      FN+=np.count_nonzero(np.logical_and(y_test, (y_pred==False)))\n",
        "      TN+=np.count_nonzero(np.logical_and((y_test==False), (y_pred==False)))\n",
        "    tprr.append(TP/(TP+FN))\n",
        "    fprr.append(FP/(FP+TN))\n",
        "    accur_per_fold.append(tempA)\n",
        "  import matplotlib.pyplot as plt\n",
        "\n",
        "  # Calculate average and variation for each category\n",
        "  averagesA = np.mean(accur_per_fold, axis=1)\n",
        "  variationsA = np.std(accur_per_fold, axis=1)\n",
        "\n",
        "\n",
        "  # Plotting the graph\n",
        "  fig, ax = plt.subplots()\n",
        "  ax.boxplot(np.array(accur_per_fold).T, labels=strangth)\n",
        "  ax.set_title('Accuracy Scores by strong sementive threashold')\n",
        "  ax.set_xlabel('threashold')\n",
        "  ax.set_ylabel('postive Accuracy Score')\n",
        "\n",
        "  # Add average and variation labels\n",
        "  for i in range(len(strangth)):\n",
        "      ax.text(i + 1, averagesA[i], f'Avg: {averagesA[i]:.2f}', ha='center', va='bottom')\n",
        "\n",
        "  plt.show()\n",
        "\n",
        "  # Plot the ROC curve\n",
        "  plt.figure()\n",
        "  plt.plot(fprr, tprr, color='darkorange', lw=2)#,label='ROC curve (area = %0.2f)' % roc_auc)\n",
        "  plt.plot([0, 1], [0, 1], color='navy', lw=2, linestyle='--')\n",
        "  plt.xlim([0.0, 1.0])\n",
        "  plt.ylim([0.0, 1.05])\n",
        "  plt.xlabel('False Positive Rate')\n",
        "  plt.ylabel('True Positive Rate')\n",
        "  plt.title('Receiver Operating Characteristic')\n",
        "  plt.legend(loc=\"lower right\")\n",
        "  plt.show()"
      ],
      "metadata": {
        "id": "puuo_F2EYoKJ"
      },
      "execution_count": 30,
      "outputs": []
    },
    {
      "cell_type": "code",
      "source": [
        "to_test =[s0,s2]\n",
        "for i in to_test:\n",
        "  classification_strong_test(i)"
      ],
      "metadata": {
        "colab": {
          "base_uri": "https://localhost:8080/",
          "height": 321
        },
        "id": "8SH2_0c3ELsC",
        "outputId": "8d8d205d-38e2-4533-8a60-a0179e6932b7"
      },
      "execution_count": 33,
      "outputs": [
        {
          "output_type": "error",
          "ename": "IndexError",
          "evalue": "ignored",
          "traceback": [
            "\u001b[0;31m---------------------------------------------------------------------------\u001b[0m",
            "\u001b[0;31mIndexError\u001b[0m                                Traceback (most recent call last)",
            "\u001b[0;32m<ipython-input-33-5c1a1ba45dd9>\u001b[0m in \u001b[0;36m<cell line: 2>\u001b[0;34m()\u001b[0m\n\u001b[1;32m      1\u001b[0m \u001b[0mto_test\u001b[0m \u001b[0;34m=\u001b[0m\u001b[0;34m[\u001b[0m\u001b[0ms0\u001b[0m\u001b[0;34m,\u001b[0m\u001b[0ms2\u001b[0m\u001b[0;34m]\u001b[0m\u001b[0;34m\u001b[0m\u001b[0;34m\u001b[0m\u001b[0m\n\u001b[1;32m      2\u001b[0m \u001b[0;32mfor\u001b[0m \u001b[0mi\u001b[0m \u001b[0;32min\u001b[0m \u001b[0mto_test\u001b[0m\u001b[0;34m:\u001b[0m\u001b[0;34m\u001b[0m\u001b[0;34m\u001b[0m\u001b[0m\n\u001b[0;32m----> 3\u001b[0;31m   \u001b[0mclassification_strong_test\u001b[0m\u001b[0;34m(\u001b[0m\u001b[0mi\u001b[0m\u001b[0;34m)\u001b[0m\u001b[0;34m\u001b[0m\u001b[0;34m\u001b[0m\u001b[0m\n\u001b[0m",
            "\u001b[0;32m<ipython-input-30-e42f2fbaf125>\u001b[0m in \u001b[0;36mclassification_strong_test\u001b[0;34m(is_label)\u001b[0m\n\u001b[1;32m     38\u001b[0m     \u001b[0mFN\u001b[0m\u001b[0;34m=\u001b[0m\u001b[0;36m0\u001b[0m\u001b[0;34m\u001b[0m\u001b[0;34m\u001b[0m\u001b[0m\n\u001b[1;32m     39\u001b[0m     \u001b[0;32mfor\u001b[0m \u001b[0mtrain_index\u001b[0m\u001b[0;34m,\u001b[0m \u001b[0mtest_index\u001b[0m \u001b[0;32min\u001b[0m \u001b[0mkf\u001b[0m\u001b[0;34m.\u001b[0m\u001b[0msplit\u001b[0m\u001b[0;34m(\u001b[0m\u001b[0my\u001b[0m\u001b[0;34m)\u001b[0m\u001b[0;34m:\u001b[0m\u001b[0;34m\u001b[0m\u001b[0;34m\u001b[0m\u001b[0m\n\u001b[0;32m---> 40\u001b[0;31m       \u001b[0mX_train\u001b[0m\u001b[0;34m,\u001b[0m \u001b[0mX_test\u001b[0m\u001b[0;34m=\u001b[0m\u001b[0mX\u001b[0m\u001b[0;34m[\u001b[0m\u001b[0mtrain_index\u001b[0m\u001b[0;34m]\u001b[0m\u001b[0;34m,\u001b[0m \u001b[0mX\u001b[0m\u001b[0;34m[\u001b[0m\u001b[0mtest_index\u001b[0m\u001b[0;34m]\u001b[0m\u001b[0;34m\u001b[0m\u001b[0;34m\u001b[0m\u001b[0m\n\u001b[0m\u001b[1;32m     41\u001b[0m       \u001b[0my_train\u001b[0m\u001b[0;34m,\u001b[0m \u001b[0my_test\u001b[0m \u001b[0;34m=\u001b[0m\u001b[0my\u001b[0m\u001b[0;34m[\u001b[0m\u001b[0mtrain_index\u001b[0m\u001b[0;34m]\u001b[0m\u001b[0;34m,\u001b[0m \u001b[0my\u001b[0m\u001b[0;34m[\u001b[0m\u001b[0mtest_index\u001b[0m\u001b[0;34m]\u001b[0m\u001b[0;34m\u001b[0m\u001b[0;34m\u001b[0m\u001b[0m\n\u001b[1;32m     42\u001b[0m       \u001b[0mmodel\u001b[0m \u001b[0;34m=\u001b[0m \u001b[0mLogisticRegression\u001b[0m\u001b[0;34m(\u001b[0m\u001b[0mmax_iter\u001b[0m\u001b[0;34m=\u001b[0m\u001b[0;36m10000\u001b[0m\u001b[0;34m)\u001b[0m \u001b[0;31m#12 sec\u001b[0m\u001b[0;34m\u001b[0m\u001b[0;34m\u001b[0m\u001b[0m\n",
            "\u001b[0;31mIndexError\u001b[0m: index 482 is out of bounds for axis 0 with size 482"
          ]
        }
      ]
    },
    {
      "cell_type": "code",
      "source": [
        "labels[::2]"
      ],
      "metadata": {
        "colab": {
          "base_uri": "https://localhost:8080/"
        },
        "id": "CwiyEzC3lM3I",
        "outputId": "4ceb6ebe-3583-4460-8ba3-f4b3b4a28adb"
      },
      "execution_count": 34,
      "outputs": [
        {
          "output_type": "execute_result",
          "data": {
            "text/plain": [
              "['positive']"
            ]
          },
          "metadata": {},
          "execution_count": 34
        }
      ]
    },
    {
      "cell_type": "markdown",
      "source": [
        "#### fourth analysis - using the feedforward neural networks for deep learned connecion\n",
        "\n",
        "\n",
        "\n",
        "\n"
      ],
      "metadata": {
        "id": "tgWQVGKVjHhP"
      }
    },
    {
      "cell_type": "code",
      "source": [
        "import tensorflow as tf\n",
        "import numpy as np\n",
        "from sklearn.model_selection import train_test_split\n"
      ],
      "metadata": {
        "id": "SRyoPlAOjZrw"
      },
      "execution_count": 35,
      "outputs": []
    },
    {
      "cell_type": "code",
      "source": [
        "print(data_part2.shape[1])\n",
        "pcaData.shape"
      ],
      "metadata": {
        "colab": {
          "base_uri": "https://localhost:8080/"
        },
        "id": "YjkmQKzEhAnN",
        "outputId": "dfe8879e-6adf-4121-d4b2-e7295be6f553"
      },
      "execution_count": 36,
      "outputs": [
        {
          "output_type": "stream",
          "name": "stdout",
          "text": [
            "185866\n"
          ]
        },
        {
          "output_type": "execute_result",
          "data": {
            "text/plain": [
              "(157, 100)"
            ]
          },
          "metadata": {},
          "execution_count": 36
        }
      ]
    },
    {
      "cell_type": "code",
      "source": [
        "samples = []\n",
        "for i in range(0,10):\n",
        "  # Define the model architecture\n",
        "  model = tf.keras.models.Sequential([\n",
        "      tf.keras.layers.Dense(128, activation='sigmoid', kernel_regularizer=tf.keras.regularizers.l2(0.01), input_shape=(pcaData.shape[1],)),\n",
        "      tf.keras.layers.Dense(128, activation='sigmoid', kernel_regularizer=tf.keras.regularizers.l2(0.01)),\n",
        "      tf.keras.layers.Dense(128, activation='sigmoid', kernel_regularizer=tf.keras.regularizers.l2(0.01)),\n",
        "      tf.keras.layers.Dense(1, activation='sigmoid')\n",
        "  ])\n",
        "\n",
        "  # Compile the model\n",
        "  model.compile(optimizer='adam', loss='binary_crossentropy', metrics=['accuracy'])\n",
        "\n",
        "  # Split the data into training and testing sets\n",
        "  # train_data = data_part2[:140]\n",
        "  # train_labels = labels_part2[:140]\n",
        "  # test_data = data_part2[140:]\n",
        "  # test_labels = labels_part2[140:]\n",
        "  train_data, test_data, train_labels, test_labels = train_test_split(pcaData, labels_part2, test_size=0.1)\n",
        "  # Train the model\n",
        "  model.fit(train_data, train_labels, epochs=10, batch_size=32)\n",
        "\n",
        "  # Evaluate the model on the test set\n",
        "  loss, accuracy = model.evaluate(test_data, test_labels)\n",
        "  print('Test Loss:', loss)\n",
        "  print('Test Accuracy:', accuracy)\n",
        "  samples.append(accuracy)\n",
        "samples\n"
      ],
      "metadata": {
        "colab": {
          "base_uri": "https://localhost:8080/"
        },
        "id": "8OkcDLurjTU6",
        "outputId": "b0d780e1-f720-4fef-81bd-6afaeb3b2d94"
      },
      "execution_count": 37,
      "outputs": [
        {
          "output_type": "stream",
          "name": "stdout",
          "text": [
            "Epoch 1/10\n",
            "5/5 [==============================] - 1s 4ms/step - loss: 4.2276 - accuracy: 0.6454\n",
            "Epoch 2/10\n",
            "5/5 [==============================] - 0s 3ms/step - loss: 3.9235 - accuracy: 0.6454\n",
            "Epoch 3/10\n",
            "5/5 [==============================] - 0s 3ms/step - loss: 3.6518 - accuracy: 0.6454\n",
            "Epoch 4/10\n",
            "5/5 [==============================] - 0s 3ms/step - loss: 3.3834 - accuracy: 0.6454\n",
            "Epoch 5/10\n",
            "5/5 [==============================] - 0s 3ms/step - loss: 3.1488 - accuracy: 0.6454\n",
            "Epoch 6/10\n",
            "5/5 [==============================] - 0s 3ms/step - loss: 2.9168 - accuracy: 0.6454\n",
            "Epoch 7/10\n",
            "5/5 [==============================] - 0s 3ms/step - loss: 2.7138 - accuracy: 0.6454\n",
            "Epoch 8/10\n",
            "5/5 [==============================] - 0s 3ms/step - loss: 2.5214 - accuracy: 0.6454\n",
            "Epoch 9/10\n",
            "5/5 [==============================] - 0s 3ms/step - loss: 2.3464 - accuracy: 0.6454\n",
            "Epoch 10/10\n",
            "5/5 [==============================] - 0s 3ms/step - loss: 2.1805 - accuracy: 0.6454\n",
            "1/1 [==============================] - 0s 138ms/step - loss: 2.1042 - accuracy: 0.6250\n",
            "Test Loss: 2.104235887527466\n",
            "Test Accuracy: 0.625\n",
            "Epoch 1/10\n",
            "5/5 [==============================] - 1s 3ms/step - loss: 4.3588 - accuracy: 0.4397\n",
            "Epoch 2/10\n",
            "5/5 [==============================] - 0s 3ms/step - loss: 4.0189 - accuracy: 0.6383\n",
            "Epoch 3/10\n",
            "5/5 [==============================] - 0s 3ms/step - loss: 3.7623 - accuracy: 0.6383\n",
            "Epoch 4/10\n",
            "5/5 [==============================] - 0s 3ms/step - loss: 3.4992 - accuracy: 0.6383\n",
            "Epoch 5/10\n",
            "5/5 [==============================] - 0s 3ms/step - loss: 3.2659 - accuracy: 0.6383\n",
            "Epoch 6/10\n",
            "5/5 [==============================] - 0s 3ms/step - loss: 3.0450 - accuracy: 0.6383\n",
            "Epoch 7/10\n",
            "5/5 [==============================] - 0s 3ms/step - loss: 2.8382 - accuracy: 0.6383\n",
            "Epoch 8/10\n",
            "5/5 [==============================] - 0s 2ms/step - loss: 2.6461 - accuracy: 0.6383\n",
            "Epoch 9/10\n",
            "5/5 [==============================] - 0s 2ms/step - loss: 2.4701 - accuracy: 0.6383\n",
            "Epoch 10/10\n",
            "5/5 [==============================] - 0s 3ms/step - loss: 2.3087 - accuracy: 0.6383\n",
            "1/1 [==============================] - 0s 122ms/step - loss: 2.1934 - accuracy: 0.6875\n",
            "Test Loss: 2.1934101581573486\n",
            "Test Accuracy: 0.6875\n",
            "Epoch 1/10\n",
            "5/5 [==============================] - 1s 3ms/step - loss: 4.6510 - accuracy: 0.3759\n",
            "Epoch 2/10\n",
            "5/5 [==============================] - 0s 3ms/step - loss: 4.0939 - accuracy: 0.4894\n",
            "Epoch 3/10\n",
            "5/5 [==============================] - 0s 2ms/step - loss: 3.8232 - accuracy: 0.6241\n",
            "Epoch 4/10\n",
            "5/5 [==============================] - 0s 2ms/step - loss: 3.5937 - accuracy: 0.6241\n",
            "Epoch 5/10\n",
            "5/5 [==============================] - 0s 3ms/step - loss: 3.3484 - accuracy: 0.6241\n",
            "Epoch 6/10\n",
            "5/5 [==============================] - 0s 3ms/step - loss: 3.1281 - accuracy: 0.6241\n",
            "Epoch 7/10\n",
            "5/5 [==============================] - 0s 3ms/step - loss: 2.9198 - accuracy: 0.6241\n",
            "Epoch 8/10\n",
            "5/5 [==============================] - 0s 2ms/step - loss: 2.7331 - accuracy: 0.6241\n",
            "Epoch 9/10\n",
            "5/5 [==============================] - 0s 3ms/step - loss: 2.5566 - accuracy: 0.6241\n",
            "Epoch 10/10\n",
            "5/5 [==============================] - 0s 2ms/step - loss: 2.3920 - accuracy: 0.6241\n",
            "1/1 [==============================] - 0s 116ms/step - loss: 2.2192 - accuracy: 0.8125\n",
            "Test Loss: 2.219193935394287\n",
            "Test Accuracy: 0.8125\n",
            "Epoch 1/10\n",
            "5/5 [==============================] - 1s 3ms/step - loss: 4.2544 - accuracy: 0.6454\n",
            "Epoch 2/10\n",
            "5/5 [==============================] - 0s 3ms/step - loss: 3.9358 - accuracy: 0.6454\n",
            "Epoch 3/10\n",
            "5/5 [==============================] - 0s 2ms/step - loss: 3.6563 - accuracy: 0.6454\n",
            "Epoch 4/10\n",
            "5/5 [==============================] - 0s 3ms/step - loss: 3.3937 - accuracy: 0.6454\n",
            "Epoch 5/10\n",
            "5/5 [==============================] - 0s 3ms/step - loss: 3.1505 - accuracy: 0.6454\n",
            "Epoch 6/10\n",
            "5/5 [==============================] - 0s 2ms/step - loss: 2.9232 - accuracy: 0.6454\n",
            "Epoch 7/10\n",
            "5/5 [==============================] - 0s 3ms/step - loss: 2.7162 - accuracy: 0.6454\n",
            "Epoch 8/10\n",
            "5/5 [==============================] - 0s 2ms/step - loss: 2.5210 - accuracy: 0.6454\n",
            "Epoch 9/10\n",
            "5/5 [==============================] - 0s 2ms/step - loss: 2.3472 - accuracy: 0.6454\n",
            "Epoch 10/10\n",
            "5/5 [==============================] - 0s 3ms/step - loss: 2.1838 - accuracy: 0.6454\n",
            "1/1 [==============================] - 0s 125ms/step - loss: 2.1070 - accuracy: 0.6250\n",
            "Test Loss: 2.106963634490967\n",
            "Test Accuracy: 0.625\n",
            "Epoch 1/10\n",
            "5/5 [==============================] - 1s 3ms/step - loss: 4.4168 - accuracy: 0.3759\n",
            "Epoch 2/10\n",
            "5/5 [==============================] - 0s 3ms/step - loss: 4.0268 - accuracy: 0.6312\n",
            "Epoch 3/10\n",
            "5/5 [==============================] - 0s 3ms/step - loss: 3.7798 - accuracy: 0.6312\n",
            "Epoch 4/10\n",
            "5/5 [==============================] - 0s 3ms/step - loss: 3.5248 - accuracy: 0.6312\n",
            "Epoch 5/10\n",
            "5/5 [==============================] - 0s 3ms/step - loss: 3.2717 - accuracy: 0.6312\n",
            "Epoch 6/10\n",
            "5/5 [==============================] - 0s 4ms/step - loss: 3.0520 - accuracy: 0.6312\n",
            "Epoch 7/10\n",
            "5/5 [==============================] - 0s 3ms/step - loss: 2.8461 - accuracy: 0.6312\n",
            "Epoch 8/10\n",
            "5/5 [==============================] - 0s 3ms/step - loss: 2.6536 - accuracy: 0.6312\n",
            "Epoch 9/10\n",
            "5/5 [==============================] - 0s 3ms/step - loss: 2.4773 - accuracy: 0.6312\n",
            "Epoch 10/10\n",
            "5/5 [==============================] - 0s 3ms/step - loss: 2.3138 - accuracy: 0.6312\n"
          ]
        },
        {
          "output_type": "stream",
          "name": "stderr",
          "text": [
            "WARNING:tensorflow:5 out of the last 5 calls to <function Model.make_test_function.<locals>.test_function at 0x7f3d50c7ce50> triggered tf.function retracing. Tracing is expensive and the excessive number of tracings could be due to (1) creating @tf.function repeatedly in a loop, (2) passing tensors with different shapes, (3) passing Python objects instead of tensors. For (1), please define your @tf.function outside of the loop. For (2), @tf.function has reduce_retracing=True option that can avoid unnecessary retracing. For (3), please refer to https://www.tensorflow.org/guide/function#controlling_retracing and https://www.tensorflow.org/api_docs/python/tf/function for  more details.\n"
          ]
        },
        {
          "output_type": "stream",
          "name": "stdout",
          "text": [
            "1/1 [==============================] - 0s 119ms/step - loss: 2.1776 - accuracy: 0.7500\n",
            "Test Loss: 2.1776015758514404\n",
            "Test Accuracy: 0.75\n",
            "Epoch 1/10\n",
            "5/5 [==============================] - 1s 4ms/step - loss: 4.4262 - accuracy: 0.3546\n",
            "Epoch 2/10\n",
            "5/5 [==============================] - 0s 3ms/step - loss: 4.0385 - accuracy: 0.6383\n",
            "Epoch 3/10\n",
            "5/5 [==============================] - 0s 3ms/step - loss: 3.7871 - accuracy: 0.6383\n",
            "Epoch 4/10\n",
            "5/5 [==============================] - 0s 3ms/step - loss: 3.5327 - accuracy: 0.6383\n",
            "Epoch 5/10\n",
            "5/5 [==============================] - 0s 3ms/step - loss: 3.2922 - accuracy: 0.6383\n",
            "Epoch 6/10\n",
            "5/5 [==============================] - 0s 3ms/step - loss: 3.0753 - accuracy: 0.6383\n",
            "Epoch 7/10\n",
            "5/5 [==============================] - 0s 4ms/step - loss: 2.8711 - accuracy: 0.6383\n",
            "Epoch 8/10\n",
            "5/5 [==============================] - 0s 3ms/step - loss: 2.6796 - accuracy: 0.6383\n",
            "Epoch 9/10\n",
            "5/5 [==============================] - 0s 3ms/step - loss: 2.5053 - accuracy: 0.6383\n",
            "Epoch 10/10\n",
            "5/5 [==============================] - 0s 2ms/step - loss: 2.3414 - accuracy: 0.6383\n"
          ]
        },
        {
          "output_type": "stream",
          "name": "stderr",
          "text": [
            "WARNING:tensorflow:6 out of the last 6 calls to <function Model.make_test_function.<locals>.test_function at 0x7f3d50c7c280> triggered tf.function retracing. Tracing is expensive and the excessive number of tracings could be due to (1) creating @tf.function repeatedly in a loop, (2) passing tensors with different shapes, (3) passing Python objects instead of tensors. For (1), please define your @tf.function outside of the loop. For (2), @tf.function has reduce_retracing=True option that can avoid unnecessary retracing. For (3), please refer to https://www.tensorflow.org/guide/function#controlling_retracing and https://www.tensorflow.org/api_docs/python/tf/function for  more details.\n"
          ]
        },
        {
          "output_type": "stream",
          "name": "stdout",
          "text": [
            "1/1 [==============================] - 0s 122ms/step - loss: 2.2211 - accuracy: 0.6875\n",
            "Test Loss: 2.2211050987243652\n",
            "Test Accuracy: 0.6875\n",
            "Epoch 1/10\n",
            "5/5 [==============================] - 1s 5ms/step - loss: 4.4041 - accuracy: 0.3901\n",
            "Epoch 2/10\n",
            "5/5 [==============================] - 0s 4ms/step - loss: 3.9831 - accuracy: 0.6738\n",
            "Epoch 3/10\n",
            "5/5 [==============================] - 0s 4ms/step - loss: 3.7479 - accuracy: 0.6738\n",
            "Epoch 4/10\n",
            "5/5 [==============================] - 0s 6ms/step - loss: 3.4910 - accuracy: 0.6738\n",
            "Epoch 5/10\n",
            "5/5 [==============================] - 0s 7ms/step - loss: 3.2397 - accuracy: 0.6738\n",
            "Epoch 6/10\n",
            "5/5 [==============================] - 0s 5ms/step - loss: 3.0155 - accuracy: 0.6738\n",
            "Epoch 7/10\n",
            "5/5 [==============================] - 0s 3ms/step - loss: 2.8096 - accuracy: 0.6738\n",
            "Epoch 8/10\n",
            "5/5 [==============================] - 0s 4ms/step - loss: 2.6142 - accuracy: 0.6738\n",
            "Epoch 9/10\n",
            "5/5 [==============================] - 0s 4ms/step - loss: 2.4377 - accuracy: 0.6738\n",
            "Epoch 10/10\n",
            "5/5 [==============================] - 0s 3ms/step - loss: 2.2754 - accuracy: 0.6738\n",
            "1/1 [==============================] - 0s 159ms/step - loss: 2.3710 - accuracy: 0.3750\n",
            "Test Loss: 2.3710076808929443\n",
            "Test Accuracy: 0.375\n",
            "Epoch 1/10\n",
            "5/5 [==============================] - 1s 4ms/step - loss: 4.2677 - accuracy: 0.6383\n",
            "Epoch 2/10\n",
            "5/5 [==============================] - 0s 5ms/step - loss: 3.9548 - accuracy: 0.6383\n",
            "Epoch 3/10\n",
            "5/5 [==============================] - 0s 5ms/step - loss: 3.6828 - accuracy: 0.6383\n",
            "Epoch 4/10\n",
            "5/5 [==============================] - 0s 4ms/step - loss: 3.4237 - accuracy: 0.6383\n",
            "Epoch 5/10\n",
            "5/5 [==============================] - 0s 4ms/step - loss: 3.1773 - accuracy: 0.6383\n",
            "Epoch 6/10\n",
            "5/5 [==============================] - 0s 4ms/step - loss: 2.9534 - accuracy: 0.6383\n",
            "Epoch 7/10\n",
            "5/5 [==============================] - 0s 4ms/step - loss: 2.7451 - accuracy: 0.6383\n",
            "Epoch 8/10\n",
            "5/5 [==============================] - 0s 3ms/step - loss: 2.5526 - accuracy: 0.6383\n",
            "Epoch 9/10\n",
            "5/5 [==============================] - 0s 3ms/step - loss: 2.3773 - accuracy: 0.6383\n",
            "Epoch 10/10\n",
            "5/5 [==============================] - 0s 3ms/step - loss: 2.2146 - accuracy: 0.6383\n",
            "1/1 [==============================] - 0s 182ms/step - loss: 2.0951 - accuracy: 0.6875\n",
            "Test Loss: 2.095121145248413\n",
            "Test Accuracy: 0.6875\n",
            "Epoch 1/10\n",
            "5/5 [==============================] - 1s 3ms/step - loss: 4.2762 - accuracy: 0.5177\n",
            "Epoch 2/10\n",
            "5/5 [==============================] - 0s 2ms/step - loss: 3.9917 - accuracy: 0.6241\n",
            "Epoch 3/10\n",
            "5/5 [==============================] - 0s 2ms/step - loss: 3.7085 - accuracy: 0.6241\n",
            "Epoch 4/10\n",
            "5/5 [==============================] - 0s 3ms/step - loss: 3.4559 - accuracy: 0.6241\n",
            "Epoch 5/10\n",
            "5/5 [==============================] - 0s 2ms/step - loss: 3.2222 - accuracy: 0.6241\n",
            "Epoch 6/10\n",
            "5/5 [==============================] - 0s 2ms/step - loss: 2.9992 - accuracy: 0.6241\n",
            "Epoch 7/10\n",
            "5/5 [==============================] - 0s 3ms/step - loss: 2.7898 - accuracy: 0.6241\n",
            "Epoch 8/10\n",
            "5/5 [==============================] - 0s 2ms/step - loss: 2.6083 - accuracy: 0.6241\n",
            "Epoch 9/10\n",
            "5/5 [==============================] - 0s 3ms/step - loss: 2.4366 - accuracy: 0.6241\n",
            "Epoch 10/10\n",
            "5/5 [==============================] - 0s 3ms/step - loss: 2.2750 - accuracy: 0.6241\n",
            "1/1 [==============================] - 0s 117ms/step - loss: 2.0809 - accuracy: 0.8125\n",
            "Test Loss: 2.080871105194092\n",
            "Test Accuracy: 0.8125\n",
            "Epoch 1/10\n",
            "5/5 [==============================] - 1s 4ms/step - loss: 4.3069 - accuracy: 0.5177\n",
            "Epoch 2/10\n",
            "5/5 [==============================] - 0s 3ms/step - loss: 3.9844 - accuracy: 0.6525\n",
            "Epoch 3/10\n",
            "5/5 [==============================] - 0s 3ms/step - loss: 3.7091 - accuracy: 0.6525\n",
            "Epoch 4/10\n",
            "5/5 [==============================] - 0s 3ms/step - loss: 3.4469 - accuracy: 0.6525\n",
            "Epoch 5/10\n",
            "5/5 [==============================] - 0s 3ms/step - loss: 3.2047 - accuracy: 0.6525\n",
            "Epoch 6/10\n",
            "5/5 [==============================] - 0s 3ms/step - loss: 2.9753 - accuracy: 0.6525\n",
            "Epoch 7/10\n",
            "5/5 [==============================] - 0s 3ms/step - loss: 2.7668 - accuracy: 0.6525\n",
            "Epoch 8/10\n",
            "5/5 [==============================] - 0s 3ms/step - loss: 2.5743 - accuracy: 0.6525\n",
            "Epoch 9/10\n",
            "5/5 [==============================] - 0s 3ms/step - loss: 2.3957 - accuracy: 0.6525\n",
            "Epoch 10/10\n",
            "5/5 [==============================] - 0s 3ms/step - loss: 2.2319 - accuracy: 0.6525\n",
            "1/1 [==============================] - 0s 126ms/step - loss: 2.1885 - accuracy: 0.5625\n",
            "Test Loss: 2.1885218620300293\n",
            "Test Accuracy: 0.5625\n"
          ]
        },
        {
          "output_type": "execute_result",
          "data": {
            "text/plain": [
              "[0.625, 0.6875, 0.8125, 0.625, 0.75, 0.6875, 0.375, 0.6875, 0.8125, 0.5625]"
            ]
          },
          "metadata": {},
          "execution_count": 37
        }
      ]
    },
    {
      "cell_type": "code",
      "source": [
        "print(\"the avarage accuracy is:\" ,sum(samples)/ len(samples))"
      ],
      "metadata": {
        "colab": {
          "base_uri": "https://localhost:8080/"
        },
        "id": "JRDJoKHepzy-",
        "outputId": "e383d7f5-e68c-4f9c-d67b-d40a8bab579d"
      },
      "execution_count": 38,
      "outputs": [
        {
          "output_type": "stream",
          "name": "stdout",
          "text": [
            "the avarage accuracy is: 0.6625\n"
          ]
        }
      ]
    },
    {
      "cell_type": "markdown",
      "source": [
        "### Second research question - emotion Analysis"
      ],
      "metadata": {
        "id": "p_3-w8py1iKH"
      }
    },
    {
      "cell_type": "markdown",
      "source": [
        "####loading model"
      ],
      "metadata": {
        "id": "8SN3TFYqktc_"
      }
    },
    {
      "cell_type": "code",
      "source": [
        "from transformers import AutoModelForSequenceClassification\n",
        "from transformers import TFAutoModelForSequenceClassification\n",
        "from transformers import AutoTokenizer\n",
        "import numpy as np\n",
        "from scipy.special import softmax\n",
        "import csv\n",
        "import urllib.request\n",
        "\n",
        "# Preprocess text (username and link placeholders)\n",
        "def preprocess(text):\n",
        "    new_text = []\n",
        "\n",
        "\n",
        "    for t in text.split(\" \"):\n",
        "        t = '@user' if t.startswith('@') and len(t) > 1 else t\n",
        "        t = 'http' if t.startswith('http') else t\n",
        "        new_text.append(t)\n",
        "    return \" \".join(new_text)\n",
        "\n",
        "# Tasks:\n",
        "# emoji, emotion, hate, irony, offensive, sentiment\n",
        "# stance/abortion, stance/atheism, stance/climate, stance/feminist, stance/hillary\n",
        "\n",
        "task='emotion'\n",
        "MODEL = f\"cardiffnlp/twitter-roberta-base-{task}\"\n",
        "\n",
        "tokenizer = AutoTokenizer.from_pretrained(MODEL)\n",
        "\n",
        "# download label mapping\n",
        "labels=[]\n",
        "mapping_link = f\"https://raw.githubusercontent.com/cardiffnlp/tweeteval/main/datasets/{task}/mapping.txt\"\n",
        "with urllib.request.urlopen(mapping_link) as f:\n",
        "    html = f.read().decode('utf-8').split(\"\\n\")\n",
        "    csvreader = csv.reader(html, delimiter='\\t')\n",
        "labels = [row[1] for row in csvreader if len(row) > 1]\n",
        "\n",
        "# PT\n",
        "model = AutoModelForSequenceClassification.from_pretrained(MODEL)\n",
        "model.save_pretrained(MODEL)\n"
      ],
      "metadata": {
        "colab": {
          "base_uri": "https://localhost:8080/",
          "height": 0,
          "referenced_widgets": [
            "af5dfd97d54043ca9d2a7d15671b8407",
            "0f3fa95e062742e4a454e39ffce8cce4",
            "f0312a1963bc4867b8405db85b0f8f44",
            "b63a48df21c146cba78ae3246a549570",
            "5a5bbb0ae0aa46e79124504adc8c1b07",
            "1b3c72582bbd46369086dbb843560b14",
            "7ebcf3fa62b8454ca2f1c3e064a33c5e",
            "ca86052bb2d74546914e8f5acbd7f989",
            "7eb9afeac1d84cfda49822228bca442a",
            "afa32ae5b04145b887242fc0322c4545",
            "7bcfa9d392f34e88bda9540046a2916b",
            "ecb20b85d6954157b0ea585463d32967",
            "f9a34f4c70c44759a4c1e9f5a8225aa3",
            "d6cb82d4b8f4469d8fca23f2e11f660f",
            "70452024aa8741189e8ffb497e0c3e8c",
            "3eb6ec7491ca433ab04a3a3f452b4dc4",
            "8b656bdb00d448428c350ffdb64f2c5d",
            "a9ced85460654dc0b991bfe54a9ec979",
            "58405387ce3a4854a7fe8f586f1a5b54",
            "6ba2c57929714655b59adc0af951dacb",
            "efe767ad914c4a799181e9608e6130cd",
            "5d46838d9886427e9f574374765a04ea",
            "d570195545f6466f957c24e96d7d8841",
            "0d951114153a4b11a0cf430e5784a8f7",
            "61459047865b432f9ed8835ec451eafe",
            "95f6b73a191b43d4a40dccdcede95b12",
            "4ff7155122e94585a2377c842e68043f",
            "822accc8143b4d1eb6f8650250912753",
            "5390bdfded3248cb8189942a4ce5b582",
            "7e03c707e9704769a79774b3a55ad915",
            "fcb688d88f7743579e5af33a189186a7",
            "c34a8bd930b442a79e962bddc6701e47",
            "80bf8006d42046cfaed6d5bd6fefdaf1",
            "438dca0bfe994d4ab31d4f80f6587b48",
            "7bfab6934dd4449ba43822984045217b",
            "4696c7d41ad84e66a7657e6b5121f4e3",
            "d5c6771d01ea4cc1972f77754b291ade",
            "8a4842f059744d94a8b7c897f0b8c6e6",
            "790376b26d734f96a91d65c5316d309c",
            "5fab9d1990734776a32b44fed94a0caa",
            "59bac9c35fc34547a3cb081f6e29fd3a",
            "a84ddc1fcee04b1797b5e0a653cfd38c",
            "9b6e449c45fa472eb7b69eaee04c26ed",
            "3bb9e84d93cc4dd2a3c8a135f1ace99e",
            "64014fc1731f4a2cb9d13841d664a5a6",
            "be8d2efd982c4e22a836be78d42f6d07",
            "c64e972758f44770a89c14013ef960a3",
            "9cdd3ed30aa6450bb8b254e6c361b969",
            "db05ace8b67b4281a824bad0f91aef67",
            "a9554c4bb7c14b7881807c14444b8834",
            "ef5efa269cd34e9c9c03f4a79c4cbf7a",
            "8900a3b9f185476cb9ad53cad429164d",
            "8e5ca5d5880b40fa873e341fa4c13431",
            "4b619226b06142da99ba4bf441aa7c5d",
            "6ccdbcfd58064d0f9b9761fc80917630"
          ]
        },
        "id": "1K45pTdJ4E4w",
        "outputId": "db0a68b7-6a39-4ef4-ca1c-da0418a87743"
      },
      "execution_count": 39,
      "outputs": [
        {
          "output_type": "display_data",
          "data": {
            "text/plain": [
              "Downloading (…)lve/main/config.json:   0%|          | 0.00/768 [00:00<?, ?B/s]"
            ],
            "application/vnd.jupyter.widget-view+json": {
              "version_major": 2,
              "version_minor": 0,
              "model_id": "af5dfd97d54043ca9d2a7d15671b8407"
            }
          },
          "metadata": {}
        },
        {
          "output_type": "display_data",
          "data": {
            "text/plain": [
              "Downloading (…)olve/main/vocab.json:   0%|          | 0.00/899k [00:00<?, ?B/s]"
            ],
            "application/vnd.jupyter.widget-view+json": {
              "version_major": 2,
              "version_minor": 0,
              "model_id": "ecb20b85d6954157b0ea585463d32967"
            }
          },
          "metadata": {}
        },
        {
          "output_type": "display_data",
          "data": {
            "text/plain": [
              "Downloading (…)olve/main/merges.txt:   0%|          | 0.00/456k [00:00<?, ?B/s]"
            ],
            "application/vnd.jupyter.widget-view+json": {
              "version_major": 2,
              "version_minor": 0,
              "model_id": "d570195545f6466f957c24e96d7d8841"
            }
          },
          "metadata": {}
        },
        {
          "output_type": "display_data",
          "data": {
            "text/plain": [
              "Downloading (…)cial_tokens_map.json:   0%|          | 0.00/150 [00:00<?, ?B/s]"
            ],
            "application/vnd.jupyter.widget-view+json": {
              "version_major": 2,
              "version_minor": 0,
              "model_id": "438dca0bfe994d4ab31d4f80f6587b48"
            }
          },
          "metadata": {}
        },
        {
          "output_type": "display_data",
          "data": {
            "text/plain": [
              "Downloading pytorch_model.bin:   0%|          | 0.00/499M [00:00<?, ?B/s]"
            ],
            "application/vnd.jupyter.widget-view+json": {
              "version_major": 2,
              "version_minor": 0,
              "model_id": "64014fc1731f4a2cb9d13841d664a5a6"
            }
          },
          "metadata": {}
        }
      ]
    },
    {
      "cell_type": "code",
      "source": [
        "labels"
      ],
      "metadata": {
        "colab": {
          "base_uri": "https://localhost:8080/"
        },
        "id": "vw9xUqfCnRyf",
        "outputId": "e3ba101a-db3e-4c1e-ae51-dd49bf52aeba"
      },
      "execution_count": 40,
      "outputs": [
        {
          "output_type": "execute_result",
          "data": {
            "text/plain": [
              "['anger', 'joy', 'optimism', 'sadness']"
            ]
          },
          "metadata": {},
          "execution_count": 40
        }
      ]
    },
    {
      "cell_type": "code",
      "source": [
        "\n",
        "def test_model(text):\n",
        "  encoded_input = tokenizer(text, return_tensors='pt')\n",
        "  output = model(**encoded_input)[0][0].detach().numpy()\n",
        "  print(\"raw values: \",output)\n",
        "  print(\"soft values\", softmax(output))\n",
        "test_model(\"those 'people' toke every thing , i must hurt them\")\n",
        "test_model(\"the summer break was fun, i spent my time well\")\n",
        "test_model(\"with every miss step i learn and improve to have a better future \")\n",
        "test_model(\"the hardest part with grief is knowing you have to move foward alone\")"
      ],
      "metadata": {
        "colab": {
          "base_uri": "https://localhost:8080/"
        },
        "id": "O7qThg0bz7AQ",
        "outputId": "38f43844-204a-4c67-dfa3-ecbf9c96ae56"
      },
      "execution_count": 41,
      "outputs": [
        {
          "output_type": "stream",
          "name": "stdout",
          "text": [
            "raw values:  [ 3.1012287  -1.7754937  -0.22440125 -0.26977053]\n",
            "soft values [0.92770654 0.00707094 0.03335092 0.03187162]\n",
            "raw values:  [-1.845604    2.832486   -0.35760143 -1.1620624 ]\n",
            "soft values [0.00869765 0.9355579  0.03851531 0.01722901]\n",
            "raw values:  [-1.1458387 -0.237674   2.795863  -0.7364739]\n",
            "soft values [0.01770168 0.04389606 0.91174597 0.02665628]\n",
            "raw values:  [-1.2845714 -1.5092329 -1.0403293  3.6969202]\n",
            "soft values [0.00672192 0.00536938 0.00858157 0.97932714]\n"
          ]
        }
      ]
    },
    {
      "cell_type": "markdown",
      "source": [
        "#### labeling data"
      ],
      "metadata": {
        "id": "Qni6G_FdkzKg"
      }
    },
    {
      "cell_type": "code",
      "source": [
        "#this function return the lable according to the huggingface algorithem\n",
        "def get_lable(text):\n",
        "  encoded_input = tokenizer(text, return_tensors='pt')\n",
        "  output = model(**encoded_input)\n",
        "  scores = output[0][0].detach().numpy()\n",
        "  sscores = softmax(scores)\n",
        "  ranking = np.argsort(sscores)\n",
        "  ranking = ranking[::-1]\n",
        "  l = labels[ranking[0]]\n",
        "  return l ,sscores"
      ],
      "metadata": {
        "id": "Lepu5e_s6C2k"
      },
      "execution_count": 42,
      "outputs": []
    },
    {
      "cell_type": "code",
      "source": [
        "data_part2 = np.zeros((627,len(data2[0])))\n",
        "labels_part2 = []\n",
        "concepts_cop = []\n",
        "vectors_cop = []\n",
        "data_cop = []"
      ],
      "metadata": {
        "id": "-HSab8catFZ9"
      },
      "execution_count": 43,
      "outputs": []
    },
    {
      "cell_type": "code",
      "source": [
        "vectors_dict = {}\n",
        "concepts_dict = {}\n",
        "scores_c =[]\n",
        "for i in range(len(concepts_c)):\n",
        "  vec = vectors_c[i]\n",
        "  con = concepts_c[i]\n",
        "  d = data_c[i]\n",
        "  l ,score = get_lable(con)\n",
        "  scores_c.append(score)\n",
        "  # data_c = np.delete(data_c, np.where(np.isin(data_c, items_to_remove)))\n",
        "  # data_c = np.delete(data_c, i)\n",
        "  # vectors_c = np.delete(vectors_c, i)\n",
        "  # del concepts_c[i]\n",
        "  data_cop.append(d)\n",
        "  vectors_cop.append(vec)\n",
        "  concepts_cop.append(con)\n",
        "  string_vec = np.array2string(vec)\n",
        "  vectors_dict[string_vec] = l\n",
        "  concepts_dict[con] = {\"true_lable\": l, \"prediction\": None}\n",
        "  data_part2[i] = d\n",
        "  labels_part2.append(l)"
      ],
      "metadata": {
        "id": "Q1FhtYCB4ks_"
      },
      "execution_count": 44,
      "outputs": []
    },
    {
      "cell_type": "markdown",
      "source": [
        "#### quickly test if there is a signifact diffence between the catagories"
      ],
      "metadata": {
        "id": "W71vclOHllJ2"
      }
    },
    {
      "cell_type": "code",
      "source": [
        "alpha=3\n",
        "sc=np.array(scores_c).T\n",
        "allsum = np.sum(data_c,axis=0)\n",
        "allcount=len(data_c)\n",
        "mean_abs = np.mean(np.abs(allsum)) /allcount\n",
        "to_con=[]\n",
        "for i in range(4):\n",
        "  mask =  sc[i]> 0.5\n",
        "  nsum = np.sum(data_c[mask],axis=0)\n",
        "  ncount = np.count_nonzero(mask)\n",
        "  diffn = nsum/ncount - (allsum-nsum)/(allcount-ncount)\n",
        "  to_con.append(np.where(diffn >alpha*mean_abs )[0])\n",
        "  to_con.append(np.where(diffn <-alpha*mean_abs )[0])\n",
        "active_voxels =np.unique( np.concatenate(to_con) )\n",
        "print(\"the amount of voxels with strong reaction to sementive stimuli :\", len(active_voxels))"
      ],
      "metadata": {
        "colab": {
          "base_uri": "https://localhost:8080/"
        },
        "id": "HQVfFIZElkdA",
        "outputId": "ef2ff053-44cf-412b-bf6f-8ec99ef40c5e"
      },
      "execution_count": 45,
      "outputs": [
        {
          "output_type": "stream",
          "name": "stdout",
          "text": [
            "the amount of voxels with strong reaction to sementive stimuli : 1409\n"
          ]
        }
      ]
    },
    {
      "cell_type": "markdown",
      "source": [
        "#### k-nearest model"
      ],
      "metadata": {
        "id": "EMHuMo23k6jH"
      }
    },
    {
      "cell_type": "code",
      "source": [
        "# we will have 19 folds each have 33 sentences we will calcaulate M each time and get the neg/pos according to the first k closest vectors\n",
        "def k19_fold(data, vectors):\n",
        "  # constant numbers\n",
        "  NUM_K = 19\n",
        "  NUM_IN_GROUP = 33\n",
        "  NUM_CONCEPTS = 300\n",
        "  NUM_V = 185866\n",
        "  #creating empty arrays\n",
        "  split_data = np.zeros((NUM_K,NUM_IN_GROUP,NUM_V))\n",
        "  split_vectors = np.zeros((NUM_K,NUM_IN_GROUP,NUM_CONCEPTS))\n",
        "  j = 0\n",
        "  for i in range(0,627,33):\n",
        "      split_data[j] = data[i:i+33]\n",
        "      split_vectors[j] = vectors[i:i+33]\n",
        "      j += 1\n",
        "  return split_data, split_vectors"
      ],
      "metadata": {
        "id": "2XCI1wOs5YJu"
      },
      "execution_count": 46,
      "outputs": []
    },
    {
      "cell_type": "code",
      "source": [
        "# function that computes rank-based accuracy score.\n",
        "# it gets v, v_hat and the 156 true semantic vectors\n",
        "# it calculate the ranking for this vector\n",
        "from sklearn.metrics.pairwise import cosine_similarity\n",
        "\n",
        "def calculate_lable(v, v_hat, vectors,K, vectors_dict):\n",
        "  count_dict = {\n",
        "    'sadness': 0,\n",
        "    'anger': 0,\n",
        "    'optimism': 0,\n",
        "    'joy': 0,\n",
        "}\n",
        "  simularity_array = []\n",
        "  for vec in vectors:\n",
        "    simu = cosine_similarity([vec] , [v_hat])\n",
        "    simularity_array.append([simu,vec])\n",
        "    sorted_list = sorted(simularity_array, key=lambda x: x[0],reverse=True)\n",
        "\n",
        "  K_nearest = sorted_list[:K]\n",
        "  for k in range(K):\n",
        "    vec = K_nearest[k][1]\n",
        "    string_vec = np.array2string(vec)\n",
        "    l = vectors_dict[string_vec]\n",
        "    count_dict[l] += 1\n",
        "  max_key = max(count_dict, key=count_dict.get)\n",
        "  return max_key\n",
        "\n"
      ],
      "metadata": {
        "id": "tY4GfaGy6B__"
      },
      "execution_count": 47,
      "outputs": []
    },
    {
      "cell_type": "code",
      "source": [
        "# function to go over the 18 folds and do the calculation for the graphs\n",
        "import copy\n",
        "from sklearn.model_selection import KFold\n",
        "\n",
        "# Iterate over the splits\n",
        "\n",
        "def get_prdiction(data,vectors,concepts,vectors_dict,concepts_dict,num_nei):\n",
        "\n",
        "  #split_data, split_vectors = k19_fold(data,vectors)\n",
        "  k = 0\n",
        "  score_for_concept = {}\n",
        "  score_for_fold = {}\n",
        "  kf = KFold(n_splits=19)\n",
        "  if not isinstance(data, np.ndarray):\n",
        "    data= np.array(data)\n",
        "  if not isinstance(vectors, np.ndarray):\n",
        "    vectors= np.array(vectors)\n",
        "  if not isinstance(concepts, np.ndarray):\n",
        "    concepts= np.array(concepts)\n",
        "  #for i in range(0,627,33):\n",
        "  for train_index, test_index in kf.split(data):\n",
        "    train_set_data, test_set_data = data[train_index], data[test_index]\n",
        "    train_set_vectors, test_set_vectors = vectors[train_index], vectors[test_index]\n",
        "    train_set_labels,test_set_labels  =  concepts[train_index] ,concepts[test_index]\n",
        "    # get the current test and train fold\n",
        "    if False:\n",
        "      test_set_data = split_data[k]\n",
        "      test_set_vectors = split_vectors[k]\n",
        "      test_set_labels = concepts[i:i+33]\n",
        "\n",
        "      train_set_data =  copy.deepcopy(split_data)\n",
        "      train_set_data = np.delete(train_set_data,k,axis = 0)\n",
        "      train_set_data = train_set_data.reshape(594, 185866)\n",
        "\n",
        "      train_set_vectors =  copy.deepcopy(split_vectors)\n",
        "      train_set_vectors = np.delete(train_set_vectors,k,axis = 0)\n",
        "      train_set_vectors = train_set_vectors.reshape(594, 300)\n",
        "\n",
        "      train_set_labels = []\n",
        "      train_set_labels.extend(concepts[0:i])\n",
        "      train_set_labels.extend(concepts[i+33:])\n",
        "\n",
        "\n",
        "    #caculate M:\n",
        "    M = learn_decoder(train_set_data,train_set_vectors)\n",
        "\n",
        "    #go over the test set and compute the lable\n",
        "    for j in range(33):\n",
        "      temp_v = test_set_data[j]\n",
        "      lable = test_set_labels[j]\n",
        "      v_hat = np.dot(temp_v, M)\n",
        "      v = test_set_vectors[j]\n",
        "      pred_lab =  calculate_lable(v, v_hat, vectors, num_nei, vectors_dict)\n",
        "      concepts_dict[lable][\"predict\"] = pred_lab\n",
        "    k+=1\n",
        "\n",
        "  return concepts_dict\n",
        "\n"
      ],
      "metadata": {
        "id": "4WESuGbk6daw"
      },
      "execution_count": 48,
      "outputs": []
    },
    {
      "cell_type": "code",
      "source": [
        "pred_dict = get_prdiction(data_cop,vectors_cop,concepts_cop, vectors_dict,concepts_dict,13)\n",
        "#pred_dict = get_prdiction(pcaData,vectors_cop,concepts_cop, vectors_dict,concepts_dict,13)\n",
        "label_counts = {\n",
        "    'optimism': {'total': 0, 'correct': 0},\n",
        "    'joy': {'total': 0, 'correct': 0},\n",
        "    'sadness': {'total': 0, 'correct': 0},\n",
        "    'anger': {'total': 0, 'correct': 0}\n",
        "}\n",
        "\n",
        "for key in pred_dict.keys():\n",
        "    true_label = pred_dict[key]['true_lable']\n",
        "    predicted_label = pred_dict[key]['predict']\n",
        "\n",
        "    label_counts[true_label]['total'] += 1\n",
        "\n",
        "    if true_label == predicted_label:\n",
        "        label_counts[true_label]['correct'] += 1\n",
        "\n",
        "for label, counts in label_counts.items():\n",
        "    accuracy = counts['correct'] / counts['total'] * 100 if counts['total'] > 0 else 0\n",
        "    print(f\"Label: {label}, Accuracy: {accuracy:.2f}% k is: {1}\",)"
      ],
      "metadata": {
        "colab": {
          "base_uri": "https://localhost:8080/"
        },
        "id": "YtmHhEc27BbL",
        "outputId": "71ebdd7d-fa6c-4a09-fbd6-a2ef0e003a49"
      },
      "execution_count": 49,
      "outputs": [
        {
          "output_type": "stream",
          "name": "stdout",
          "text": [
            "Label: optimism, Accuracy: 40.00% k is: 1\n",
            "Label: joy, Accuracy: 52.30% k is: 1\n",
            "Label: sadness, Accuracy: 28.83% k is: 1\n",
            "Label: anger, Accuracy: 2.27% k is: 1\n"
          ]
        }
      ]
    },
    {
      "cell_type": "code",
      "source": [
        "label_counts"
      ],
      "metadata": {
        "colab": {
          "base_uri": "https://localhost:8080/"
        },
        "id": "PojQZ5JVI5DR",
        "outputId": "adb4376b-3913-4c91-9988-ac9e667e03ec"
      },
      "execution_count": 50,
      "outputs": [
        {
          "output_type": "execute_result",
          "data": {
            "text/plain": [
              "{'optimism': {'total': 145, 'correct': 58},\n",
              " 'joy': {'total': 283, 'correct': 148},\n",
              " 'sadness': {'total': 111, 'correct': 32},\n",
              " 'anger': {'total': 88, 'correct': 2}}"
            ]
          },
          "metadata": {},
          "execution_count": 50
        }
      ]
    },
    {
      "cell_type": "markdown",
      "source": [
        "#### determining thersholf for stron emotions"
      ],
      "metadata": {
        "id": "OXYwp2QilLVo"
      }
    },
    {
      "cell_type": "code",
      "source": [
        "from sklearn.metrics import accuracy_score\n",
        "from sklearn.linear_model import LogisticRegression\n",
        "from sklearn.model_selection import train_test_split\n",
        "def TrueFalseTest(y_test, y_pred):\n",
        "  tp_fp_fn_tn =[0,0,0,0]\n",
        "  for test,pred in zip(y_test, y_pred ):\n",
        "    if test:\n",
        "      if pred:\n",
        "        tp_fp_fn_tn[0]+=1 #true postive\n",
        "      else:\n",
        "        tp_fp_fn_tn[2]+=1\n",
        "    else:\n",
        "      if pred:\n",
        "        tp_fp_fn_tn[1]+=1 # false posite\n",
        "      else:\n",
        "        tp_fp_fn_tn[3]+=1\n",
        "  print(\"TP:\",tp_fp_fn_tn[0],\"FP:\",tp_fp_fn_tn[2],\"FN:\",tp_fp_fn_tn[1],\"TN:\",tp_fp_fn_tn[3] )"
      ],
      "metadata": {
        "id": "Xnl1zINtlS9y"
      },
      "execution_count": 51,
      "outputs": []
    },
    {
      "cell_type": "code",
      "source": [
        "scores_c = np.array(scores_c)\n",
        "s_anger =scores_c[:,0]\n",
        "s_joy =scores_c[:,1]\n",
        "s_optimism =scores_c[:,2]\n",
        "s_sadness =scores_c[:,3]"
      ],
      "metadata": {
        "id": "4figT_OElZoy"
      },
      "execution_count": 52,
      "outputs": []
    },
    {
      "cell_type": "code",
      "source": [
        "def  classification_strong_test(is_label):\n",
        "  data_type = np.array(active_voxels)\n",
        "  data_copy=data_type\n",
        "  over_sample_ratio= 0.1\n",
        "  accur_per_fold =[]\n",
        "  strangth =[]\n",
        "  tprr=[]\n",
        "  fprr=[]\n",
        "  for  i in range(1,10):\n",
        "    strong=0.1 *i\n",
        "    strong_positve = is_label >strong\n",
        "\n",
        "    num_strong =np.count_nonzero(strong_positve)\n",
        "    num_waek =len(is_label)-num_strong\n",
        "    #### over smaple\n",
        "    cur_r = num_strong/ len(is_label)\n",
        "    if not cur_r:\n",
        "      continue\n",
        "    strangth.append(\"At \"+str(round(strong,2)))\n",
        "    over_by = int(np.floor(0.9+(over_sample_ratio-cur_r)/cur_r))\n",
        "    over_by=0\n",
        "    if over_by:\n",
        "      to_tile=data_copy[strong_positve]\n",
        "      tiled_arr = np.repeat(to_tile,over_by,axis=0)\n",
        "      data_type = np.concatenate((data_copy,tiled_arr))\n",
        "      array = np.ones(len(data_type)-len(strong_positve), dtype=bool)\n",
        "      strong_positve = np.concatenate((strong_positve,array))\n",
        "    ###\n",
        "    #X, y = np.array(data_c) , np.array(strong_positve)\n",
        "    X , y = np.array(data_type) , np.array(strong_positve)\n",
        "    kf = KFold(n_splits=5)\n",
        "    tempA=[]\n",
        "    tempF=[]\n",
        "    tempWP =[]\n",
        "    TP=0\n",
        "    FP=0\n",
        "    TN=0\n",
        "    FN=0\n",
        "    for train_index, test_index in kf.split(y):\n",
        "      X_train, X_test=X[train_index], X[test_index]\n",
        "      y_train, y_test =y[train_index], y[test_index]\n",
        "      model = LogisticRegression(max_iter=10000) #12 sec\n",
        "      model.fit(X_train, y_train)\n",
        "      y_pred = model.predict(X_test)\n",
        "      tempWP.append((len(s2)-np.count_nonzero(y_pred))/len(is_label))\n",
        "      tempA.append( accuracy_score(y_test, y_pred))\n",
        "      tempF.append(TrueFalseTest(y_test, y_pred))\n",
        "      TP+=np.count_nonzero(np.logical_and(y_test, y_pred))\n",
        "      FP+=np.count_nonzero(np.logical_and((y_test==False), y_pred))\n",
        "      FN+=np.count_nonzero(np.logical_and(y_test, (y_pred==False)))\n",
        "      TN+=np.count_nonzero(np.logical_and((y_test==False), (y_pred==False)))\n",
        "    tprr.append(TP/(TP+FN))\n",
        "    fprr.append(FP/(FP+TN))\n",
        "    accur_per_fold.append(tempA)\n",
        "  import matplotlib.pyplot as plt\n",
        "\n",
        "  # Calculate average and variation for each category\n",
        "  averagesA = np.mean(accur_per_fold, axis=1)\n",
        "  variationsA = np.std(accur_per_fold, axis=1)\n",
        "\n",
        "\n",
        "  # Plotting the graph\n",
        "  fig, ax = plt.subplots()\n",
        "  ax.boxplot(np.array(accur_per_fold).T, labels=strangth)\n",
        "  ax.set_title('Accuracy Scores by strong sementive threashold')\n",
        "  ax.set_xlabel('threashold')\n",
        "  ax.set_ylabel('postive Accuracy Score')\n",
        "\n",
        "  # Add average and variation labels\n",
        "  for i in range(len(strangth)):\n",
        "      ax.text(i + 1, averagesA[i], f'Avg: {averagesA[i]:.2f}', ha='center', va='bottom')\n",
        "\n",
        "  plt.show()\n",
        "\n",
        "  # Plot the ROC curve\n",
        "  plt.figure()\n",
        "  plt.plot(fprr, tprr, color='darkorange', lw=2)#,label='ROC curve (area = %0.2f)' % roc_auc)\n",
        "  plt.plot([0, 1], [0, 1], color='navy', lw=2, linestyle='--')\n",
        "  plt.xlim([0.0, 1.0])\n",
        "  plt.ylim([0.0, 1.05])\n",
        "  plt.xlabel('False Positive Rate')\n",
        "  plt.ylabel('True Positive Rate')\n",
        "  plt.title('Receiver Operating Characteristic')\n",
        "  plt.legend(loc=\"lower right\")\n",
        "  plt.show()"
      ],
      "metadata": {
        "id": "APTcCPYJHfyu"
      },
      "execution_count": 59,
      "outputs": []
    },
    {
      "cell_type": "code",
      "source": [
        "for i in scores_c.T:\n",
        "  classification_strong_test(i)"
      ],
      "metadata": {
        "colab": {
          "base_uri": "https://localhost:8080/",
          "height": 1000
        },
        "id": "8-s4sE-OHgUn",
        "outputId": "708de73f-553c-46f5-85ac-aac99c20fafd"
      },
      "execution_count": 72,
      "outputs": [
        {
          "output_type": "stream",
          "name": "stdout",
          "text": [
            "TP: 28 FP: 23 FN: 48 TN: 27\n",
            "TP: 31 FP: 30 FN: 40 TN: 25\n",
            "TP: 25 FP: 43 FN: 30 TN: 27\n",
            "TP: 24 FP: 25 FN: 32 TN: 44\n",
            "TP: 26 FP: 21 FN: 40 TN: 38\n",
            "TP: 7 FP: 24 FN: 29 TN: 66\n",
            "TP: 13 FP: 19 FN: 26 TN: 68\n",
            "TP: 9 FP: 37 FN: 20 TN: 59\n",
            "TP: 6 FP: 18 FN: 22 TN: 79\n",
            "TP: 5 FP: 14 FN: 34 TN: 72\n",
            "TP: 3 FP: 20 FN: 21 TN: 82\n",
            "TP: 8 FP: 14 FN: 21 TN: 83\n",
            "TP: 7 FP: 29 FN: 14 TN: 75\n",
            "TP: 4 FP: 5 FN: 15 TN: 101\n",
            "TP: 1 FP: 9 FN: 28 TN: 87\n",
            "TP: 2 FP: 13 FN: 9 TN: 102\n",
            "TP: 6 FP: 8 FN: 18 TN: 94\n",
            "TP: 1 FP: 25 FN: 11 TN: 88\n",
            "TP: 3 FP: 4 FN: 11 TN: 107\n",
            "TP: 1 FP: 6 FN: 18 TN: 100\n",
            "TP: 2 FP: 11 FN: 7 TN: 106\n",
            "TP: 3 FP: 10 FN: 10 TN: 103\n",
            "TP: 1 FP: 15 FN: 9 TN: 100\n",
            "TP: 0 FP: 5 FN: 6 TN: 114\n",
            "TP: 0 FP: 5 FN: 12 TN: 108\n",
            "TP: 0 FP: 7 FN: 5 TN: 114\n",
            "TP: 2 FP: 8 FN: 1 TN: 115\n",
            "TP: 0 FP: 11 FN: 1 TN: 113\n",
            "TP: 0 FP: 2 FN: 5 TN: 118\n",
            "TP: 0 FP: 3 FN: 8 TN: 114\n",
            "TP: 0 FP: 6 FN: 1 TN: 119\n",
            "TP: 0 FP: 10 FN: 1 TN: 115\n",
            "TP: 0 FP: 7 FN: 3 TN: 115\n",
            "TP: 0 FP: 2 FN: 2 TN: 121\n",
            "TP: 0 FP: 1 FN: 5 TN: 119\n",
            "TP: 0 FP: 3 FN: 1 TN: 122\n",
            "TP: 0 FP: 7 FN: 0 TN: 119\n",
            "TP: 0 FP: 4 FN: 0 TN: 121\n",
            "TP: 0 FP: 1 FN: 0 TN: 124\n",
            "TP: 0 FP: 0 FN: 0 TN: 125\n",
            "TP: 0 FP: 2 FN: 0 TN: 124\n",
            "TP: 0 FP: 4 FN: 0 TN: 122\n",
            "TP: 0 FP: 2 FN: 0 TN: 123\n",
            "TP: 0 FP: 1 FN: 0 TN: 124\n",
            "TP: 0 FP: 0 FN: 0 TN: 125\n"
          ]
        },
        {
          "output_type": "display_data",
          "data": {
            "text/plain": [
              "<Figure size 640x480 with 1 Axes>"
            ],
            "image/png": "[encoded data removed]"
          },
          "metadata": {}
        },
        {
          "output_type": "stream",
          "name": "stderr",
          "text": [
            "WARNING:matplotlib.legend:No artists with labels found to put in legend.  Note that artists whose label start with an underscore are ignored when legend() is called with no argument.\n"
          ]
        },
        {
          "output_type": "display_data",
          "data": {
            "text/plain": [
              "<Figure size 640x480 with 1 Axes>"
            ],
            "image/png": "[encoded data removed]"
          },
          "metadata": {}
        },
        {
          "output_type": "stream",
          "name": "stdout",
          "text": [
            "TP: 84 FP: 16 FN: 19 TN: 7\n",
            "TP: 69 FP: 34 FN: 10 TN: 13\n",
            "TP: 81 FP: 19 FN: 15 TN: 10\n",
            "TP: 56 FP: 21 FN: 29 TN: 19\n",
            "TP: 45 FP: 31 FN: 27 TN: 22\n",
            "TP: 62 FP: 28 FN: 26 TN: 10\n",
            "TP: 55 FP: 35 FN: 14 TN: 22\n",
            "TP: 58 FP: 29 FN: 21 TN: 17\n",
            "TP: 43 FP: 20 FN: 34 TN: 28\n",
            "TP: 37 FP: 25 FN: 29 TN: 34\n",
            "TP: 41 FP: 40 FN: 26 TN: 19\n",
            "TP: 36 FP: 38 FN: 22 TN: 30\n",
            "TP: 44 FP: 26 FN: 31 TN: 24\n",
            "TP: 26 FP: 23 FN: 35 TN: 41\n",
            "TP: 21 FP: 30 FN: 34 TN: 40\n",
            "TP: 27 FP: 43 FN: 27 TN: 29\n",
            "TP: 25 FP: 35 FN: 30 TN: 36\n",
            "TP: 27 FP: 31 FN: 38 TN: 29\n",
            "TP: 18 FP: 17 FN: 41 TN: 49\n",
            "TP: 11 FP: 29 FN: 27 TN: 58\n",
            "TP: 22 FP: 36 FN: 21 TN: 47\n",
            "TP: 16 FP: 33 FN: 31 TN: 46\n",
            "TP: 21 FP: 24 FN: 36 TN: 44\n",
            "TP: 12 FP: 16 FN: 36 TN: 61\n",
            "TP: 9 FP: 22 FN: 24 TN: 70\n",
            "TP: 10 FP: 34 FN: 22 TN: 60\n",
            "TP: 11 FP: 26 FN: 22 TN: 67\n",
            "TP: 11 FP: 19 FN: 30 TN: 65\n",
            "TP: 8 FP: 13 FN: 33 TN: 71\n",
            "TP: 3 FP: 20 FN: 21 TN: 81\n",
            "TP: 2 FP: 26 FN: 11 TN: 87\n",
            "TP: 7 FP: 13 FN: 21 TN: 85\n",
            "TP: 2 FP: 16 FN: 25 TN: 82\n",
            "TP: 7 FP: 9 FN: 24 TN: 85\n",
            "TP: 1 FP: 19 FN: 13 TN: 92\n",
            "TP: 2 FP: 13 FN: 7 TN: 104\n",
            "TP: 3 FP: 11 FN: 10 TN: 102\n",
            "TP: 0 FP: 8 FN: 14 TN: 103\n",
            "TP: 1 FP: 9 FN: 16 TN: 99\n",
            "TP: 1 FP: 13 FN: 6 TN: 105\n",
            "TP: 1 FP: 1 FN: 3 TN: 121\n",
            "TP: 0 FP: 3 FN: 2 TN: 121\n",
            "TP: 0 FP: 1 FN: 0 TN: 124\n",
            "TP: 0 FP: 5 FN: 0 TN: 120\n",
            "TP: 0 FP: 1 FN: 2 TN: 122\n"
          ]
        },
        {
          "output_type": "display_data",
          "data": {
            "text/plain": [
              "<Figure size 640x480 with 1 Axes>"
            ],
            "image/png": "[encoded data removed]"
          },
          "metadata": {}
        },
        {
          "output_type": "stream",
          "name": "stderr",
          "text": [
            "WARNING:matplotlib.legend:No artists with labels found to put in legend.  Note that artists whose label start with an underscore are ignored when legend() is called with no argument.\n"
          ]
        },
        {
          "output_type": "display_data",
          "data": {
            "text/plain": [
              "<Figure size 640x480 with 1 Axes>"
            ],
            "image/png": "[encoded data removed]"
          },
          "metadata": {}
        },
        {
          "output_type": "stream",
          "name": "stdout",
          "text": [
            "TP: 66 FP: 28 FN: 25 TN: 7\n",
            "TP: 73 FP: 26 FN: 20 TN: 7\n",
            "TP: 85 FP: 17 FN: 16 TN: 7\n",
            "TP: 58 FP: 34 FN: 15 TN: 18\n",
            "TP: 64 FP: 18 FN: 28 TN: 15\n",
            "TP: 34 FP: 27 FN: 34 TN: 31\n",
            "TP: 32 FP: 35 FN: 24 TN: 35\n",
            "TP: 40 FP: 15 FN: 44 TN: 26\n",
            "TP: 35 FP: 39 FN: 15 TN: 36\n",
            "TP: 36 FP: 29 FN: 24 TN: 36\n",
            "TP: 13 FP: 20 FN: 29 TN: 64\n",
            "TP: 13 FP: 23 FN: 26 TN: 64\n",
            "TP: 16 FP: 18 FN: 35 TN: 56\n",
            "TP: 28 FP: 32 FN: 19 TN: 46\n",
            "TP: 18 FP: 30 FN: 32 TN: 45\n",
            "TP: 6 FP: 11 FN: 22 TN: 87\n",
            "TP: 6 FP: 11 FN: 17 TN: 92\n",
            "TP: 3 FP: 16 FN: 21 TN: 85\n",
            "TP: 14 FP: 27 FN: 20 TN: 64\n",
            "TP: 13 FP: 23 FN: 30 TN: 59\n",
            "TP: 1 FP: 5 FN: 13 TN: 107\n",
            "TP: 3 FP: 8 FN: 6 TN: 109\n",
            "TP: 2 FP: 11 FN: 6 TN: 106\n",
            "TP: 6 FP: 24 FN: 15 TN: 80\n",
            "TP: 7 FP: 18 FN: 29 TN: 71\n",
            "TP: 0 FP: 3 FN: 7 TN: 116\n",
            "TP: 1 FP: 5 FN: 8 TN: 112\n",
            "TP: 0 FP: 9 FN: 9 TN: 107\n",
            "TP: 3 FP: 21 FN: 5 TN: 96\n",
            "TP: 4 FP: 12 FN: 29 TN: 80\n",
            "TP: 0 FP: 3 FN: 1 TN: 122\n",
            "TP: 0 FP: 1 FN: 3 TN: 122\n",
            "TP: 0 FP: 6 FN: 3 TN: 116\n",
            "TP: 0 FP: 12 FN: 3 TN: 110\n",
            "TP: 0 FP: 11 FN: 9 TN: 105\n",
            "TP: 0 FP: 2 FN: 0 TN: 124\n",
            "TP: 0 FP: 0 FN: 2 TN: 124\n",
            "TP: 0 FP: 3 FN: 0 TN: 122\n",
            "TP: 0 FP: 6 FN: 3 TN: 116\n",
            "TP: 0 FP: 4 FN: 5 TN: 116\n"
          ]
        },
        {
          "output_type": "display_data",
          "data": {
            "text/plain": [
              "<Figure size 640x480 with 1 Axes>"
            ],
            "image/png": "[encoded data removed]"
          },
          "metadata": {}
        },
        {
          "output_type": "stream",
          "name": "stderr",
          "text": [
            "WARNING:matplotlib.legend:No artists with labels found to put in legend.  Note that artists whose label start with an underscore are ignored when legend() is called with no argument.\n"
          ]
        },
        {
          "output_type": "display_data",
          "data": {
            "text/plain": [
              "<Figure size 640x480 with 1 Axes>"
            ],
            "image/png": "[encoded data removed]"
          },
          "metadata": {}
        },
        {
          "output_type": "stream",
          "name": "stdout",
          "text": [
            "TP: 39 FP: 25 FN: 30 TN: 32\n",
            "TP: 32 FP: 30 FN: 35 TN: 29\n",
            "TP: 33 FP: 34 FN: 29 TN: 29\n",
            "TP: 38 FP: 42 FN: 19 TN: 26\n",
            "TP: 40 FP: 34 FN: 27 TN: 24\n",
            "TP: 7 FP: 25 FN: 32 TN: 62\n",
            "TP: 7 FP: 23 FN: 32 TN: 64\n",
            "TP: 7 FP: 17 FN: 22 TN: 79\n",
            "TP: 14 FP: 31 FN: 26 TN: 54\n",
            "TP: 17 FP: 35 FN: 30 TN: 43\n",
            "TP: 7 FP: 13 FN: 21 TN: 85\n",
            "TP: 6 FP: 14 FN: 27 TN: 79\n",
            "TP: 3 FP: 10 FN: 18 TN: 94\n",
            "TP: 14 FP: 24 FN: 20 TN: 67\n",
            "TP: 12 FP: 31 FN: 15 TN: 67\n",
            "TP: 1 FP: 11 FN: 17 TN: 97\n",
            "TP: 2 FP: 11 FN: 20 TN: 93\n",
            "TP: 1 FP: 6 FN: 10 TN: 108\n",
            "TP: 13 FP: 20 FN: 16 TN: 76\n",
            "TP: 11 FP: 27 FN: 18 TN: 69\n",
            "TP: 1 FP: 9 FN: 16 TN: 100\n",
            "TP: 2 FP: 9 FN: 13 TN: 102\n",
            "TP: 2 FP: 3 FN: 10 TN: 110\n",
            "TP: 10 FP: 17 FN: 15 TN: 83\n",
            "TP: 3 FP: 27 FN: 14 TN: 81\n",
            "TP: 0 FP: 8 FN: 12 TN: 106\n",
            "TP: 2 FP: 7 FN: 8 TN: 109\n",
            "TP: 1 FP: 3 FN: 3 TN: 118\n",
            "TP: 6 FP: 16 FN: 13 TN: 90\n",
            "TP: 1 FP: 27 FN: 7 TN: 90\n",
            "TP: 0 FP: 4 FN: 8 TN: 114\n",
            "TP: 0 FP: 6 FN: 3 TN: 117\n",
            "TP: 0 FP: 3 FN: 4 TN: 118\n",
            "TP: 3 FP: 13 FN: 13 TN: 96\n",
            "TP: 2 FP: 20 FN: 3 TN: 100\n",
            "TP: 0 FP: 3 FN: 2 TN: 121\n",
            "TP: 0 FP: 1 FN: 2 TN: 123\n",
            "TP: 0 FP: 0 FN: 1 TN: 124\n",
            "TP: 2 FP: 9 FN: 9 TN: 105\n",
            "TP: 0 FP: 16 FN: 1 TN: 108\n",
            "TP: 0 FP: 1 FN: 0 TN: 125\n",
            "TP: 0 FP: 0 FN: 0 TN: 126\n",
            "TP: 0 FP: 0 FN: 0 TN: 125\n",
            "TP: 0 FP: 8 FN: 0 TN: 117\n",
            "TP: 0 FP: 4 FN: 1 TN: 120\n"
          ]
        },
        {
          "output_type": "display_data",
          "data": {
            "text/plain": [
              "<Figure size 640x480 with 1 Axes>"
            ],
            "image/png": "[encoded data removed]"
          },
          "metadata": {}
        },
        {
          "output_type": "stream",
          "name": "stderr",
          "text": [
            "WARNING:matplotlib.legend:No artists with labels found to put in legend.  Note that artists whose label start with an underscore are ignored when legend() is called with no argument.\n"
          ]
        },
        {
          "output_type": "display_data",
          "data": {
            "text/plain": [
              "<Figure size 640x480 with 1 Axes>"
            ],
            "image/png": "[encoded data removed]"
          },
          "metadata": {}
        }
      ]
    },
    {
      "cell_type": "code",
      "source": [
        "labels"
      ],
      "metadata": {
        "colab": {
          "base_uri": "https://localhost:8080/"
        },
        "id": "zjEkOfeeHw3d",
        "outputId": "08759ff6-989e-4ca0-8efb-67c023f003ee"
      },
      "execution_count": 73,
      "outputs": [
        {
          "output_type": "execute_result",
          "data": {
            "text/plain": [
              "['anger', 'joy', 'optimism', 'sadness']"
            ]
          },
          "metadata": {},
          "execution_count": 73
        }
      ]
    },
    {
      "cell_type": "markdown",
      "source": [
        "#### forth analysis - using the feedforward neural networks , for deep connection\n"
      ],
      "metadata": {
        "id": "w8-loC2WsjiH"
      }
    },
    {
      "cell_type": "code",
      "source": [
        "# encode the labels:\n",
        "from sklearn.preprocessing import LabelEncoder\n",
        "\n",
        "encoder = LabelEncoder()\n",
        "encoder.fit(labels_part2)\n",
        "numeric_categories = encoder.transform(labels_part2)\n",
        "# Print the resulting numeric categories"
      ],
      "metadata": {
        "id": "HBdcF6NQumFs"
      },
      "execution_count": 74,
      "outputs": []
    },
    {
      "cell_type": "code",
      "source": [
        "import tensorflow as tf\n",
        "import numpy as np\n",
        "from sklearn.model_selection import train_test_split\n",
        "sam = []\n",
        "for i in range(0,5):\n",
        "\n",
        "  # Define the model architecture\n",
        "  model = tf.keras.models.Sequential([\n",
        "      tf.keras.layers.Dense(64, activation='sigmoid', kernel_regularizer=tf.keras.regularizers.l2(0.01), input_shape=(data_part2.shape[1],)),\n",
        "      #tf.keras.layers.Dense(64, activation='sigmoid', kernel_regularizer=tf.keras.regularizers.l2(0.01)),\n",
        "      tf.keras.layers.Dense(8, activation='sigmoid', kernel_regularizer=tf.keras.regularizers.l2(0.01)),\n",
        "      tf.keras.layers.Dense(64, activation='sigmoid', kernel_regularizer=tf.keras.regularizers.l2(0.01)),\n",
        "      tf.keras.layers.Dense(1, activation='sigmoid')\n",
        "  ])\n",
        "\n",
        "  # Compile the model\n",
        "  model.compile(optimizer='adam', loss='binary_crossentropy', metrics=['accuracy'])\n",
        "\n",
        "  # Split the data into training and testing sets\n",
        "  # train_data = data_part2[:140]\n",
        "  # train_labels = labels_part2[:140]\n",
        "  # test_data = data_part2[140:]\n",
        "  # test_labels = labels_part2[140:]\n",
        "  train_data, test_data, train_labels, test_labels = train_test_split(data_part2, numeric_categories, test_size=0.1)\n",
        "  # Train the model\n",
        "  model.fit(train_data, train_labels, epochs=3, batch_size=8)\n",
        "\n",
        "  # Evaluate the model on the test set\n",
        "  loss, accuracy = model.evaluate(test_data, test_labels)\n",
        "  print('Test Loss:', loss)\n",
        "  print('Test Accuracy:', accuracy)\n",
        "  sam.append(accuracy)\n"
      ],
      "metadata": {
        "colab": {
          "base_uri": "https://localhost:8080/"
        },
        "id": "VoxQ_VF8slsn",
        "outputId": "222895f2-87e9-4157-91d7-cd2afb4c25e3"
      },
      "execution_count": 75,
      "outputs": [
        {
          "output_type": "stream",
          "name": "stdout",
          "text": [
            "Epoch 1/3\n",
            "71/71 [==============================] - 10s 132ms/step - loss: 1.0278 - accuracy: 0.3883\n",
            "Epoch 2/3\n",
            "71/71 [==============================] - 9s 129ms/step - loss: -0.8262 - accuracy: 0.4468\n",
            "Epoch 3/3\n",
            "71/71 [==============================] - 11s 161ms/step - loss: -1.9485 - accuracy: 0.4468\n",
            "2/2 [==============================] - 0s 30ms/step - loss: -2.5067 - accuracy: 0.4921\n",
            "Test Loss: -2.5067241191864014\n",
            "Test Accuracy: 0.4920634925365448\n",
            "Epoch 1/3\n",
            "71/71 [==============================] - 11s 142ms/step - loss: 0.2783 - accuracy: 0.4521\n",
            "Epoch 2/3\n",
            "71/71 [==============================] - 9s 132ms/step - loss: -1.3241 - accuracy: 0.4521\n",
            "Epoch 3/3\n",
            "71/71 [==============================] - 9s 127ms/step - loss: -2.6823 - accuracy: 0.4521\n",
            "2/2 [==============================] - 0s 28ms/step - loss: -3.3057 - accuracy: 0.4444\n",
            "Test Loss: -3.305722951889038\n",
            "Test Accuracy: 0.4444444477558136\n",
            "Epoch 1/3\n",
            "71/71 [==============================] - 11s 140ms/step - loss: 0.5869 - accuracy: 0.4273\n",
            "Epoch 2/3\n",
            "71/71 [==============================] - 10s 141ms/step - loss: -1.1456 - accuracy: 0.4450\n",
            "Epoch 3/3\n",
            "71/71 [==============================] - 9s 120ms/step - loss: -2.3938 - accuracy: 0.4450\n",
            "2/2 [==============================] - 0s 35ms/step - loss: -3.3324 - accuracy: 0.5079\n",
            "Test Loss: -3.3323750495910645\n",
            "Test Accuracy: 0.5079365372657776\n",
            "Epoch 1/3\n",
            "71/71 [==============================] - 10s 126ms/step - loss: -0.0850 - accuracy: 0.4574\n",
            "Epoch 2/3\n",
            "71/71 [==============================] - 10s 140ms/step - loss: -1.5365 - accuracy: 0.4574\n",
            "Epoch 3/3\n",
            "71/71 [==============================] - 11s 154ms/step - loss: -3.1058 - accuracy: 0.4574\n",
            "2/2 [==============================] - 0s 50ms/step - loss: -3.8685 - accuracy: 0.3968\n",
            "Test Loss: -3.868452787399292\n",
            "Test Accuracy: 0.3968254029750824\n",
            "Epoch 1/3\n",
            "71/71 [==============================] - 15s 180ms/step - loss: -0.3756 - accuracy: 0.4362\n",
            "Epoch 2/3\n",
            "71/71 [==============================] - 12s 167ms/step - loss: -2.0314 - accuracy: 0.4362\n",
            "Epoch 3/3\n",
            "71/71 [==============================] - 12s 164ms/step - loss: -3.4909 - accuracy: 0.4362\n",
            "2/2 [==============================] - 0s 43ms/step - loss: -3.2502 - accuracy: 0.5873\n",
            "Test Loss: -3.25016188621521\n",
            "Test Accuracy: 0.5873016119003296\n"
          ]
        }
      ]
    },
    {
      "cell_type": "code",
      "source": [
        "print(\"the avarage accuracy is:\" ,sum(sam)/ len(sam))"
      ],
      "metadata": {
        "colab": {
          "base_uri": "https://localhost:8080/"
        },
        "id": "gQNp1QuDsrPw",
        "outputId": "9e12e1df-35ab-424a-b938-afac01aa890c"
      },
      "execution_count": 76,
      "outputs": [
        {
          "output_type": "stream",
          "name": "stdout",
          "text": [
            "the avarage accuracy is: 0.4857142984867096\n"
          ]
        }
      ]
    }
  ]
}